{
  "nbformat": 4,
  "nbformat_minor": 0,
  "metadata": {
    "colab": {
      "name": "study_tuple",
      "provenance": [],
      "collapsed_sections": [],
      "authorship_tag": "ABX9TyPT1R48kcgpJINl6Bz3H1Bj",
      "include_colab_link": true
    },
    "kernelspec": {
      "name": "python3",
      "display_name": "Python 3"
    }
  },
  "cells": [
    {
      "cell_type": "markdown",
      "metadata": {
        "id": "view-in-github",
        "colab_type": "text"
      },
      "source": [
        "<a href=\"https://colab.research.google.com/github/SongJuHo-0410/study_python/blob/main/study_tuple.ipynb\" target=\"_parent\"><img src=\"https://colab.research.google.com/assets/colab-badge.svg\" alt=\"Open In Colab\"/></a>"
      ]
    },
    {
      "cell_type": "code",
      "metadata": {
        "id": "zVxmoHsg2rIA",
        "colab": {
          "base_uri": "https://localhost:8080/"
        },
        "outputId": "19237591-24ab-4952-f6cc-daaf61e850ed"
      },
      "source": [
        "#튜플 생성\r\n",
        "empty_tuple =()\r\n",
        "empty_tuple"
      ],
      "execution_count": null,
      "outputs": [
        {
          "output_type": "execute_result",
          "data": {
            "text/plain": [
              "()"
            ]
          },
          "metadata": {
            "tags": []
          },
          "execution_count": 1
        }
      ]
    },
    {
      "cell_type": "code",
      "metadata": {
        "colab": {
          "base_uri": "https://localhost:8080/"
        },
        "id": "6ReQpGrASbln",
        "outputId": "6f77ec7b-6a13-4d01-e368-4699072cc95d"
      },
      "source": [
        "#,사용시 튜플로 인식\r\n",
        "one_marx = 'Groucho',\r\n",
        "one_marx"
      ],
      "execution_count": null,
      "outputs": [
        {
          "output_type": "execute_result",
          "data": {
            "text/plain": [
              "('Groucho',)"
            ]
          },
          "metadata": {
            "tags": []
          },
          "execution_count": 3
        }
      ]
    },
    {
      "cell_type": "code",
      "metadata": {
        "colab": {
          "base_uri": "https://localhost:8080/"
        },
        "id": "vlRZe2caSuJ5",
        "outputId": "34721441-58f4-4601-fc5f-f3385038f11e"
      },
      "source": [
        "#괄호 추가가능\r\n",
        "one_marx = ('Groucho',)\r\n",
        "one_marx"
      ],
      "execution_count": null,
      "outputs": [
        {
          "output_type": "execute_result",
          "data": {
            "text/plain": [
              "('Groucho',)"
            ]
          },
          "metadata": {
            "tags": []
          },
          "execution_count": 4
        }
      ]
    },
    {
      "cell_type": "code",
      "metadata": {
        "colab": {
          "base_uri": "https://localhost:8080/"
        },
        "id": "OqzjyECBTbcI",
        "outputId": "db15cd6e-1997-425e-9293-57d520a70158"
      },
      "source": [
        "#괄호만 있고 콤마를 생략시 문자열로 인식\r\n",
        "one_marx = ('Groucho')\r\n",
        "one_marx\r\n",
        "type(one_marx)"
      ],
      "execution_count": null,
      "outputs": [
        {
          "output_type": "execute_result",
          "data": {
            "text/plain": [
              "str"
            ]
          },
          "metadata": {
            "tags": []
          },
          "execution_count": 8
        }
      ]
    },
    {
      "cell_type": "code",
      "metadata": {
        "colab": {
          "base_uri": "https://localhost:8080/"
        },
        "id": "Ig1QdlHaTuaN",
        "outputId": "82d0ba33-4faf-4121-c01a-0bfa3f1c47ac"
      },
      "source": [
        "#두 개 이상이면 마지막에 콤마 사용 불필요\r\n",
        "marx_tuple = ('Groucho','Chico','Harpo')\r\n",
        "marx_tuple"
      ],
      "execution_count": null,
      "outputs": [
        {
          "output_type": "execute_result",
          "data": {
            "text/plain": [
              "('Groucho', 'Chico', 'Harpo')"
            ]
          },
          "metadata": {
            "tags": []
          },
          "execution_count": 9
        }
      ]
    },
    {
      "cell_type": "code",
      "metadata": {
        "colab": {
          "base_uri": "https://localhost:8080/"
        },
        "id": "2CNYkYtjT-kf",
        "outputId": "9a3b53fc-4c3b-4feb-e3fb-c2b1d49af77d"
      },
      "source": [
        "one_marx = 'Groucho',\r\n",
        "type(one_marx)\r\n",
        "type('Groucho',)\r\n",
        "type(('Groucho',))"
      ],
      "execution_count": null,
      "outputs": [
        {
          "output_type": "execute_result",
          "data": {
            "text/plain": [
              "tuple"
            ]
          },
          "metadata": {
            "tags": []
          },
          "execution_count": 12
        }
      ]
    },
    {
      "cell_type": "code",
      "metadata": {
        "colab": {
          "base_uri": "https://localhost:8080/",
          "height": 35
        },
        "id": "jCfWYZM2bs9c",
        "outputId": "22bc5424-a91f-485a-db86-a44149c21199"
      },
      "source": [
        "#튜플로 한 번에 여러 번수 할당\r\n",
        "marx_tuple = ('Groucho', 'Chico', 'Harpo')\r\n",
        "a, b, c = marx_tuple\r\n",
        "a\r\n",
        "b\r\n",
        "c"
      ],
      "execution_count": 3,
      "outputs": [
        {
          "output_type": "execute_result",
          "data": {
            "application/vnd.google.colaboratory.intrinsic+json": {
              "type": "string"
            },
            "text/plain": [
              "'Harpo'"
            ]
          },
          "metadata": {
            "tags": []
          },
          "execution_count": 3
        }
      ]
    },
    {
      "cell_type": "code",
      "metadata": {
        "colab": {
          "base_uri": "https://localhost:8080/",
          "height": 35
        },
        "id": "LO1mGkpMcNqd",
        "outputId": "8c5347ee-efe0-46c5-85bd-63b7d9623503"
      },
      "source": [
        "#임시변수를 사용하지 않고 튜플 값 교환\r\n",
        "password = 'swordfish'\r\n",
        "icecream = 'tuttifrutti'\r\n",
        "password, icecream = icecream, password\r\n",
        "password\r\n",
        "icecream"
      ],
      "execution_count": 5,
      "outputs": [
        {
          "output_type": "execute_result",
          "data": {
            "application/vnd.google.colaboratory.intrinsic+json": {
              "type": "string"
            },
            "text/plain": [
              "'swordfish'"
            ]
          },
          "metadata": {
            "tags": []
          },
          "execution_count": 5
        }
      ]
    },
    {
      "cell_type": "code",
      "metadata": {
        "colab": {
          "base_uri": "https://localhost:8080/"
        },
        "id": "a6hilVLbcvAo",
        "outputId": "939a69f3-1a8a-4e7d-b41d-72a5d6d5c9bf"
      },
      "source": [
        "#tuple()함수는 다른 객체를 튜플로 변환\r\n",
        "marx_list = ['Groucho', 'Chico', 'Harpo']\r\n",
        "tuple(marx_list)\r\n"
      ],
      "execution_count": 6,
      "outputs": [
        {
          "output_type": "execute_result",
          "data": {
            "text/plain": [
              "('Groucho', 'Chico', 'Harpo')"
            ]
          },
          "metadata": {
            "tags": []
          },
          "execution_count": 6
        }
      ]
    },
    {
      "cell_type": "code",
      "metadata": {
        "colab": {
          "base_uri": "https://localhost:8080/"
        },
        "id": "0VPrebRVdMpA",
        "outputId": "91a2b1fb-f043-4626-8c0e-aa1340b4a956"
      },
      "source": [
        "#+연산자는 문자열 결합\r\n",
        "('Groucho',)+('Chico','Harpo')"
      ],
      "execution_count": 7,
      "outputs": [
        {
          "output_type": "execute_result",
          "data": {
            "text/plain": [
              "('Groucho', 'Chico', 'Harpo')"
            ]
          },
          "metadata": {
            "tags": []
          },
          "execution_count": 7
        }
      ]
    },
    {
      "cell_type": "code",
      "metadata": {
        "colab": {
          "base_uri": "https://localhost:8080/"
        },
        "id": "hhyhup2YddiU",
        "outputId": "427bc171-a262-4fae-95ef-2c3f941cdd06"
      },
      "source": [
        "#*연산자는 +연산자를 반복\r\n",
        "('yada',) * 3"
      ],
      "execution_count": 8,
      "outputs": [
        {
          "output_type": "execute_result",
          "data": {
            "text/plain": [
              "('yada', 'yada', 'yada')"
            ]
          },
          "metadata": {
            "tags": []
          },
          "execution_count": 8
        }
      ]
    },
    {
      "cell_type": "code",
      "metadata": {
        "colab": {
          "base_uri": "https://localhost:8080/"
        },
        "id": "rSq4LPNfdsUG",
        "outputId": "cfeb2f0a-e452-4a8a-993d-e8a1a2803d42"
      },
      "source": [
        "#리스트 비교\r\n",
        "a = (7,2)\r\n",
        "b = (7,2,9)\r\n",
        "a == b\r\n",
        "a <= b\r\n",
        "a < b"
      ],
      "execution_count": 12,
      "outputs": [
        {
          "output_type": "execute_result",
          "data": {
            "text/plain": [
              "True"
            ]
          },
          "metadata": {
            "tags": []
          },
          "execution_count": 12
        }
      ]
    },
    {
      "cell_type": "code",
      "metadata": {
        "colab": {
          "base_uri": "https://localhost:8080/"
        },
        "id": "aJ8Uy2SKd9wI",
        "outputId": "1cf0b9dd-744b-42dd-87ea-669a8095845a"
      },
      "source": [
        "#튜플 순회, 다른 타입과 똑같이 작동\r\n",
        "words = ('fresh','out','of','ideas')\r\n",
        "for word in words:\r\n",
        "  print(word)"
      ],
      "execution_count": 13,
      "outputs": [
        {
          "output_type": "stream",
          "text": [
            "fresh\n",
            "out\n",
            "of\n",
            "ideas\n"
          ],
          "name": "stdout"
        }
      ]
    },
    {
      "cell_type": "code",
      "metadata": {
        "colab": {
          "base_uri": "https://localhost:8080/"
        },
        "id": "0a6T7UgFeSkB",
        "outputId": "2d250069-5ba8-4327-c44f-e3042f02561f"
      },
      "source": [
        "#튜플은 문자열처럼 불변 객체이므로 기존 튜플을 변경 불가, 문자열과 같이 튜플을 결합하여 새 튜플 생성\r\n",
        "t1 = ('Fee','Fie','Foe')\r\n",
        "t2 = ('Flop',)\r\n",
        "t1 + t2\r\n"
      ],
      "execution_count": 15,
      "outputs": [
        {
          "output_type": "execute_result",
          "data": {
            "text/plain": [
              "('Fee', 'Fie', 'Foe', 'Flop')"
            ]
          },
          "metadata": {
            "tags": []
          },
          "execution_count": 15
        }
      ]
    },
    {
      "cell_type": "code",
      "metadata": {
        "colab": {
          "base_uri": "https://localhost:8080/"
        },
        "id": "VmIeEzg_etOr",
        "outputId": "1a418b8b-c9c3-4c2c-80fa-f3fdc95f40b8"
      },
      "source": [
        "t1 = ('Fee','Fie','Foe')\r\n",
        "t2 = ('Flop',)\r\n",
        "t1 += t2\r\n",
        "t1"
      ],
      "execution_count": 18,
      "outputs": [
        {
          "output_type": "execute_result",
          "data": {
            "text/plain": [
              "('Fee', 'Fie', 'Foe', 'Flop')"
            ]
          },
          "metadata": {
            "tags": []
          },
          "execution_count": 18
        }
      ]
    },
    {
      "cell_type": "code",
      "metadata": {
        "colab": {
          "base_uri": "https://localhost:8080/"
        },
        "id": "xdDWBr2ce3I9",
        "outputId": "5f4c1186-5a5a-42de-bfb3-909e798767b0"
      },
      "source": [
        "#t1은 이전에 t1이 아니며, 새로운 튜플이 생성 후 할당\r\n",
        "t1 = ('Fee','Fie','Foe')\r\n",
        "t2 = ('Flop',)\r\n",
        "id(t1)\r\n",
        "t1 += t2\r\n",
        "id(t1)"
      ],
      "execution_count": 23,
      "outputs": [
        {
          "output_type": "execute_result",
          "data": {
            "text/plain": [
              "140481845682832"
            ]
          },
          "metadata": {
            "tags": []
          },
          "execution_count": 23
        }
      ]
    },
    {
      "cell_type": "code",
      "metadata": {
        "colab": {
          "base_uri": "https://localhost:8080/"
        },
        "id": "ZQt3IaDKfSmn",
        "outputId": "70298c6d-042b-4682-d0ee-f5637d7ea1bb"
      },
      "source": [
        "#리스트 생성하기\r\n",
        "empty_list =[]\r\n",
        "weekdays = ['Monday','Tuesday','Wednesday','Thursday','Friday']\r\n",
        "big_birds = ['emu','ostrich','cassowary']\r\n",
        "first_names = ['Graham','John','Terry','Terry','Michael']\r\n",
        "leap_years = [200,2004,2008]\r\n",
        "randomness = ['Punxsatawney',{\"groundhog\": \"Phil\"}, \"Feb. 2\"]"
      ],
      "execution_count": 26,
      "outputs": [
        {
          "output_type": "execute_result",
          "data": {
            "text/plain": [
              "['Punxsatawney', {'groundhog': 'Phil'}, 'Feb. 2']"
            ]
          },
          "metadata": {
            "tags": []
          },
          "execution_count": 26
        }
      ]
    },
    {
      "cell_type": "code",
      "metadata": {
        "colab": {
          "base_uri": "https://localhost:8080/"
        },
        "id": "vTPcmOSogawU",
        "outputId": "872b1b21-0a16-47f1-eab5-fa20f7fb308f"
      },
      "source": [
        "#list() 함수로 빈 리스트 생성\r\n",
        "another_empty_list = list()\r\n",
        "another_empty_list"
      ],
      "execution_count": 27,
      "outputs": [
        {
          "output_type": "execute_result",
          "data": {
            "text/plain": [
              "[]"
            ]
          },
          "metadata": {
            "tags": []
          },
          "execution_count": 27
        }
      ]
    },
    {
      "cell_type": "code",
      "metadata": {
        "colab": {
          "base_uri": "https://localhost:8080/"
        },
        "id": "h_2JKnkJgqZR",
        "outputId": "c28987dc-e33b-44da-c9eb-678bb8e2b040"
      },
      "source": [
        "#list()함수는 다른 데이터 타입을 리스트로 변환\r\n",
        "list('cat')\r\n",
        "['c','a','t']\r\n",
        "a_tuple = ('ready','fire','aim')\r\n",
        "list(a_tuple)"
      ],
      "execution_count": 29,
      "outputs": [
        {
          "output_type": "execute_result",
          "data": {
            "text/plain": [
              "['ready', 'fire', 'aim']"
            ]
          },
          "metadata": {
            "tags": []
          },
          "execution_count": 29
        }
      ]
    },
    {
      "cell_type": "code",
      "metadata": {
        "colab": {
          "base_uri": "https://localhost:8080/"
        },
        "id": "UquKnrtYhUSU",
        "outputId": "5765547e-84ea-42ee-d726-2ac6f6d8174a"
      },
      "source": [
        "#split() 메서드는 문자열을 구분자 단위로 분할하여 리스트 생성\r\n",
        "talk_like_a_prirate_day = '9/19/2019'\r\n",
        "talk_like_a_prirate_day.split('/')"
      ],
      "execution_count": 30,
      "outputs": [
        {
          "output_type": "execute_result",
          "data": {
            "text/plain": [
              "['9', '19', '2019']"
            ]
          },
          "metadata": {
            "tags": []
          },
          "execution_count": 30
        }
      ]
    },
    {
      "cell_type": "code",
      "metadata": {
        "colab": {
          "base_uri": "https://localhost:8080/"
        },
        "id": "q9_DZPi0hrl1",
        "outputId": "230a7279-bfa6-45dc-8011-fbd5fec21b5c"
      },
      "source": [
        "splitime = 'a/b/c//d///e'\r\n",
        "splitime.split('/')"
      ],
      "execution_count": 31,
      "outputs": [
        {
          "output_type": "execute_result",
          "data": {
            "text/plain": [
              "['a', 'b', 'c', '', 'd', '', '', 'e']"
            ]
          },
          "metadata": {
            "tags": []
          },
          "execution_count": 31
        }
      ]
    },
    {
      "cell_type": "code",
      "metadata": {
        "colab": {
          "base_uri": "https://localhost:8080/"
        },
        "id": "TZldnLn0h1bP",
        "outputId": "527133da-1419-4153-e86c-f87ffea1d3ad"
      },
      "source": [
        "splitime = 'a/b//c/d///e'\r\n",
        "splitime.split('//')"
      ],
      "execution_count": 34,
      "outputs": [
        {
          "output_type": "execute_result",
          "data": {
            "text/plain": [
              "['a/b', 'c/d', '/e']"
            ]
          },
          "metadata": {
            "tags": []
          },
          "execution_count": 34
        }
      ]
    },
    {
      "cell_type": "code",
      "metadata": {
        "colab": {
          "base_uri": "https://localhost:8080/",
          "height": 35
        },
        "id": "lgPegoe-h__m",
        "outputId": "c5767365-ebfa-479d-cf46-c3ff7c0d4483"
      },
      "source": [
        "marxes = ['Groucho','Chico','Harpo']\r\n",
        "marxes[0]\r\n",
        "marxes[1]\r\n",
        "marxes[2]"
      ],
      "execution_count": 37,
      "outputs": [
        {
          "output_type": "execute_result",
          "data": {
            "application/vnd.google.colaboratory.intrinsic+json": {
              "type": "string"
            },
            "text/plain": [
              "'Harpo'"
            ]
          },
          "metadata": {
            "tags": []
          },
          "execution_count": 37
        }
      ]
    },
    {
      "cell_type": "code",
      "metadata": {
        "colab": {
          "base_uri": "https://localhost:8080/",
          "height": 35
        },
        "id": "G14SGnzJiPfe",
        "outputId": "afa5d05a-6395-4851-fcc0-24357b7d69a9"
      },
      "source": [
        "marxes[-1]\r\n",
        "marxes[-2]\r\n",
        "marxes[-3]"
      ],
      "execution_count": 39,
      "outputs": [
        {
          "output_type": "execute_result",
          "data": {
            "application/vnd.google.colaboratory.intrinsic+json": {
              "type": "string"
            },
            "text/plain": [
              "'Groucho'"
            ]
          },
          "metadata": {
            "tags": []
          },
          "execution_count": 39
        }
      ]
    },
    {
      "cell_type": "code",
      "metadata": {
        "colab": {
          "base_uri": "https://localhost:8080/"
        },
        "id": "GGln4dD6iWTT",
        "outputId": "6acf5069-122d-4c35-a100-aa1075cda94d"
      },
      "source": [
        "#슬라이스를 사용하여 리스트의 서브시퀀스 추출\r\n",
        "marxes = ['Groucho','Chico','Harpo']\r\n",
        "marxes[0:2]\r\n"
      ],
      "execution_count": 40,
      "outputs": [
        {
          "output_type": "execute_result",
          "data": {
            "text/plain": [
              "['Groucho', 'Chico']"
            ]
          },
          "metadata": {
            "tags": []
          },
          "execution_count": 40
        }
      ]
    },
    {
      "cell_type": "code",
      "metadata": {
        "colab": {
          "base_uri": "https://localhost:8080/"
        },
        "id": "QR5SMBMhmBLu",
        "outputId": "7186ecd6-5e38-40de-da50-1bbdb7092be5"
      },
      "source": [
        "#2칸씩 추출\r\n",
        "marxes[::2]\r\n"
      ],
      "execution_count": 41,
      "outputs": [
        {
          "output_type": "execute_result",
          "data": {
            "text/plain": [
              "['Groucho', 'Harpo']"
            ]
          },
          "metadata": {
            "tags": []
          },
          "execution_count": 41
        }
      ]
    },
    {
      "cell_type": "code",
      "metadata": {
        "colab": {
          "base_uri": "https://localhost:8080/"
        },
        "id": "0hOn4DfsmN9i",
        "outputId": "37b6cba9-a864-42e8-f695-b06beec3ff18"
      },
      "source": [
        "#오른쪽에서 왼쪽으로 2칸씩 추출\r\n",
        "marxes[::-2]\r\n"
      ],
      "execution_count": 44,
      "outputs": [
        {
          "output_type": "execute_result",
          "data": {
            "text/plain": [
              "['Harpo', 'Groucho']"
            ]
          },
          "metadata": {
            "tags": []
          },
          "execution_count": 44
        }
      ]
    },
    {
      "cell_type": "code",
      "metadata": {
        "colab": {
          "base_uri": "https://localhost:8080/"
        },
        "id": "RNojOvXWmYEa",
        "outputId": "ba9997e5-8ba9-4200-ba10-4c556ea5a2e5"
      },
      "source": [
        "marxes[::-1]\r\n"
      ],
      "execution_count": 43,
      "outputs": [
        {
          "output_type": "execute_result",
          "data": {
            "text/plain": [
              "['Harpo', 'Chico', 'Groucho']"
            ]
          },
          "metadata": {
            "tags": []
          },
          "execution_count": 43
        }
      ]
    },
    {
      "cell_type": "code",
      "metadata": {
        "colab": {
          "base_uri": "https://localhost:8080/"
        },
        "id": "C90GBL0GmdSb",
        "outputId": "4967a606-fb1b-4ff8-bfff-06b94c39daf7"
      },
      "source": [
        "#리스트를 반대로 뒤집는 reverse() 메소드\r\n",
        "marxes = ['Groucho','Chico','Harpo']\r\n",
        "marxes.reverse()\r\n",
        "marxes\r\n"
      ],
      "execution_count": 45,
      "outputs": [
        {
          "output_type": "execute_result",
          "data": {
            "text/plain": [
              "['Harpo', 'Chico', 'Groucho']"
            ]
          },
          "metadata": {
            "tags": []
          },
          "execution_count": 45
        }
      ]
    },
    {
      "cell_type": "code",
      "metadata": {
        "colab": {
          "base_uri": "https://localhost:8080/"
        },
        "id": "4H2hVacnmwe2",
        "outputId": "7343e75b-e8fd-4b5d-e21e-31027b17ad29"
      },
      "source": [
        "marxes = ['Groucho','Chico','Harpo']\r\n",
        "marxes[4:]\r\n",
        "marxes[-6:]\r\n",
        "marxes[-6:-2]\r\n",
        "marxes[-6:-4]\r\n"
      ],
      "execution_count": 53,
      "outputs": [
        {
          "output_type": "execute_result",
          "data": {
            "text/plain": [
              "[]"
            ]
          },
          "metadata": {
            "tags": []
          },
          "execution_count": 53
        }
      ]
    },
    {
      "cell_type": "code",
      "metadata": {
        "colab": {
          "base_uri": "https://localhost:8080/"
        },
        "id": "pp0WmTgpnbhc",
        "outputId": "4a06732a-f328-405e-e1ca-c2dd4941b49d"
      },
      "source": [
        "#append()는 리스트에 새 항목을 추가\r\n",
        "marxes = ['Groucho','Chico','Harpo']\r\n",
        "marxes.append('Zeppo')\r\n",
        "marxes\r\n"
      ],
      "execution_count": 54,
      "outputs": [
        {
          "output_type": "execute_result",
          "data": {
            "text/plain": [
              "['Groucho', 'Chico', 'Harpo', 'Zeppo']"
            ]
          },
          "metadata": {
            "tags": []
          },
          "execution_count": 54
        }
      ]
    },
    {
      "cell_type": "code",
      "metadata": {
        "colab": {
          "base_uri": "https://localhost:8080/"
        },
        "id": "YsBMvOfPnpWu",
        "outputId": "3f873266-6c36-4fe0-eea2-f7d365568830"
      },
      "source": [
        "marxes = ['Groucho','Chico','Harpo']\r\n",
        "marxes.insert(2,'Gummo')\r\n",
        "marxes\r\n",
        "marxes.insert(10,'Zeppo')\r\n",
        "marxes"
      ],
      "execution_count": 59,
      "outputs": [
        {
          "output_type": "execute_result",
          "data": {
            "text/plain": [
              "['Groucho', 'Chico', 'Gummo', 'Harpo', 'Zeppo']"
            ]
          },
          "metadata": {
            "tags": []
          },
          "execution_count": 59
        }
      ]
    },
    {
      "cell_type": "code",
      "metadata": {
        "colab": {
          "base_uri": "https://localhost:8080/"
        },
        "id": "_kQCCHnDnvxd",
        "outputId": "7afee5ae-bb4e-4cb3-893d-f2b86faa13e2"
      },
      "source": [
        "[\"blsh\"] * 3\r\n"
      ],
      "execution_count": 60,
      "outputs": [
        {
          "output_type": "execute_result",
          "data": {
            "text/plain": [
              "['blsh', 'blsh', 'blsh']"
            ]
          },
          "metadata": {
            "tags": []
          },
          "execution_count": 60
        }
      ]
    },
    {
      "cell_type": "code",
      "metadata": {
        "colab": {
          "base_uri": "https://localhost:8080/"
        },
        "id": "5NN4IDoLoIdS",
        "outputId": "4b597e8a-53fa-450a-89d0-c2b8b1808424"
      },
      "source": [
        "#extend()는 다른 리스트와 병합\r\n",
        "marxes = ['Groucho','Chico','Harpo','Zeppo']\r\n",
        "others = ['Gummo','Karl']\r\n",
        "marxes.extend(others)\r\n",
        "marxes\r\n"
      ],
      "execution_count": 61,
      "outputs": [
        {
          "output_type": "execute_result",
          "data": {
            "text/plain": [
              "['Groucho', 'Chico', 'Harpo', 'Zeppo', 'Gummo', 'Karl']"
            ]
          },
          "metadata": {
            "tags": []
          },
          "execution_count": 61
        }
      ]
    },
    {
      "cell_type": "code",
      "metadata": {
        "colab": {
          "base_uri": "https://localhost:8080/"
        },
        "id": "nQzVG9J6of0P",
        "outputId": "8b0d3581-f6be-4c75-f856-75d9231d7076"
      },
      "source": [
        "marxes = ['Groucho','Chico','Harpo','Zeppo']\r\n",
        "others = ['Gummo','Karl']\r\n",
        "marxes += others\r\n",
        "marxes\r\n"
      ],
      "execution_count": 62,
      "outputs": [
        {
          "output_type": "execute_result",
          "data": {
            "text/plain": [
              "['Groucho', 'Chico', 'Harpo', 'Zeppo', 'Gummo', 'Karl']"
            ]
          },
          "metadata": {
            "tags": []
          },
          "execution_count": 62
        }
      ]
    },
    {
      "cell_type": "code",
      "metadata": {
        "colab": {
          "base_uri": "https://localhost:8080/"
        },
        "id": "IXzheDSEoqB_",
        "outputId": "91502cef-d8b6-4db9-bd2d-6542d3b6792b"
      },
      "source": [
        "#append()를 사용하면 병합하지 않고 others가 하나의 리스트로 추가\r\n",
        "marxes = ['Groucho','Chico','Harpo','Zeppo']\r\n",
        "others = ['Gummo','Karl']\r\n",
        "marxes.append(others)\r\n",
        "marxes\r\n"
      ],
      "execution_count": 63,
      "outputs": [
        {
          "output_type": "execute_result",
          "data": {
            "text/plain": [
              "['Groucho', 'Chico', 'Harpo', 'Zeppo', ['Gummo', 'Karl']]"
            ]
          },
          "metadata": {
            "tags": []
          },
          "execution_count": 63
        }
      ]
    },
    {
      "cell_type": "code",
      "metadata": {
        "colab": {
          "base_uri": "https://localhost:8080/"
        },
        "id": "34DgO4YGo5Vf",
        "outputId": "75dd743c-9d5c-4474-ff44-914040d08481"
      },
      "source": [
        "#offset으로 항목 변경\r\n",
        "marxes = ['Groucho','Chico','Harpo']\r\n",
        "marxes[2]= 'Wanda'\r\n",
        "marxes\r\n"
      ],
      "execution_count": 64,
      "outputs": [
        {
          "output_type": "execute_result",
          "data": {
            "text/plain": [
              "['Groucho', 'Chico', 'Wanda']"
            ]
          },
          "metadata": {
            "tags": []
          },
          "execution_count": 64
        }
      ]
    },
    {
      "cell_type": "code",
      "metadata": {
        "colab": {
          "base_uri": "https://localhost:8080/"
        },
        "id": "kqqxDtnepUfY",
        "outputId": "10a5e650-160b-4b5b-f391-0e70edfffb99"
      },
      "source": [
        "#슬라이스로 항목 변경\r\n",
        "numbers = [1,2,3,4]\r\n",
        "numbers[1:3] = [8,9]\r\n",
        "numbers\r\n"
      ],
      "execution_count": 69,
      "outputs": [
        {
          "output_type": "execute_result",
          "data": {
            "text/plain": [
              "[1, 8, 4]"
            ]
          },
          "metadata": {
            "tags": []
          },
          "execution_count": 69
        }
      ]
    },
    {
      "cell_type": "code",
      "metadata": {
        "colab": {
          "base_uri": "https://localhost:8080/"
        },
        "id": "xYWdH1ftpqOJ",
        "outputId": "7eec4e6b-4ad0-4020-c656-1a06186491e6"
      },
      "source": [
        "numbers = [1,2,3,4]\r\n",
        "numbers[1:3] = [7,8,9]\r\n",
        "numbers\r\n",
        "numbers = [1,2,3,4]\r\n",
        "numbers[1:3] = []\r\n",
        "numbers\r\n"
      ],
      "execution_count": 67,
      "outputs": [
        {
          "output_type": "execute_result",
          "data": {
            "text/plain": [
              "[1, 4]"
            ]
          },
          "metadata": {
            "tags": []
          },
          "execution_count": 67
        }
      ]
    },
    {
      "cell_type": "code",
      "metadata": {
        "colab": {
          "base_uri": "https://localhost:8080/"
        },
        "id": "wLWGDGerp--U",
        "outputId": "459c8574-b651-475d-a1ce-014ebf50d6f6"
      },
      "source": [
        "numbers = [1,2,3,4]\r\n",
        "numbers[1:3] = 'wat?'\r\n",
        "numbers\r\n"
      ],
      "execution_count": 68,
      "outputs": [
        {
          "output_type": "execute_result",
          "data": {
            "text/plain": [
              "[1, 'w', 'a', 't', '?', 4]"
            ]
          },
          "metadata": {
            "tags": []
          },
          "execution_count": 68
        }
      ]
    },
    {
      "cell_type": "code",
      "metadata": {
        "colab": {
          "base_uri": "https://localhost:8080/"
        },
        "id": "2nN4XR2DqMZT",
        "outputId": "dbbcaf5d-623e-41ce-9cf6-c8630ef4d9ee"
      },
      "source": [
        "#del을 사용하여 항목 삭제\r\n",
        "marxes = ['Groucho', 'Chico', 'Harpo', 'Zeppo', 'Gummo', 'Karl']\r\n",
        "marxes[-1]\r\n",
        "del marxes[-1]\r\n",
        "marxes\r\n"
      ],
      "execution_count": 72,
      "outputs": [
        {
          "output_type": "execute_result",
          "data": {
            "text/plain": [
              "['Groucho', 'Chico', 'Harpo', 'Zeppo', 'Gummo']"
            ]
          },
          "metadata": {
            "tags": []
          },
          "execution_count": 72
        }
      ]
    },
    {
      "cell_type": "code",
      "metadata": {
        "colab": {
          "base_uri": "https://localhost:8080/"
        },
        "id": "fB0vUynTqiSD",
        "outputId": "9130985d-bdcc-496f-d0b2-672db027a2f3"
      },
      "source": [
        "marxes = ['Groucho', 'Chico', 'Harpo', 'Gummo']\r\n",
        "del marxes[1]\r\n",
        "marxes\r\n"
      ],
      "execution_count": 73,
      "outputs": [
        {
          "output_type": "execute_result",
          "data": {
            "text/plain": [
              "['Groucho', 'Harpo', 'Gummo']"
            ]
          },
          "metadata": {
            "tags": []
          },
          "execution_count": 73
        }
      ]
    },
    {
      "cell_type": "code",
      "metadata": {
        "colab": {
          "base_uri": "https://localhost:8080/"
        },
        "id": "6YRTk_XvqtP0",
        "outputId": "1f544b04-04a9-442c-b9c6-27ad2412a26d"
      },
      "source": [
        "#remove()는 리스트에서 항목의 위치를 지정하지 않아도 삭제\r\n",
        "marxes = ['Groucho', 'Harpo', 'Gummo']\r\n",
        "marxes.remove('Groucho')\r\n",
        "marxes\r\n"
      ],
      "execution_count": 74,
      "outputs": [
        {
          "output_type": "execute_result",
          "data": {
            "text/plain": [
              "['Harpo', 'Gummo']"
            ]
          },
          "metadata": {
            "tags": []
          },
          "execution_count": 74
        }
      ]
    },
    {
      "cell_type": "code",
      "metadata": {
        "colab": {
          "base_uri": "https://localhost:8080/"
        },
        "id": "2DM8CCHNrE3v",
        "outputId": "325bc1f5-1235-499a-bd9a-b01b3f643602"
      },
      "source": [
        "#pop()은 리스트에서 항목을 가져오는 동시에 그 항목을 삭제\r\n",
        "marxes = ['Groucho', 'Chico', 'Harpo', 'Zeppo']\r\n",
        "marxes.pop()\r\n",
        "marxes\r\n",
        "marxes.pop(1)\r\n",
        "marxes\r\n"
      ],
      "execution_count": 85,
      "outputs": [
        {
          "output_type": "execute_result",
          "data": {
            "text/plain": [
              "['Groucho', 'Harpo']"
            ]
          },
          "metadata": {
            "tags": []
          },
          "execution_count": 85
        }
      ]
    },
    {
      "cell_type": "code",
      "metadata": {
        "colab": {
          "base_uri": "https://localhost:8080/"
        },
        "id": "GwOOTIGksP-N",
        "outputId": "cd3521ad-4160-48cd-94c5-aff9a24d775d"
      },
      "source": [
        "#clear()는 모든 항목을 삭제\r\n",
        "work_quotes = ['Working hard?','Quick question!','Number one priorities!']\r\n",
        "work_quotes\r\n",
        "work_quotes.clear()\r\n",
        "work_quotes\r\n"
      ],
      "execution_count": 87,
      "outputs": [
        {
          "output_type": "execute_result",
          "data": {
            "text/plain": [
              "[]"
            ]
          },
          "metadata": {
            "tags": []
          },
          "execution_count": 87
        }
      ]
    },
    {
      "cell_type": "code",
      "metadata": {
        "colab": {
          "base_uri": "https://localhost:8080/"
        },
        "id": "K0qNK-TvspHo",
        "outputId": "9e29cb9e-10aa-4b4f-dc04-e1bd64f6d00c"
      },
      "source": [
        "#index()는 오프셋을 알고 싶을 때 사용, 리스트에 같은 값이 2개 이상이면 첫 번째 오프셋 반환\r\n",
        "marxes = ['Groucho', 'Chico', 'Harpo', 'Zeppo']\r\n",
        "marxes.index('Chico')\r\n"
      ],
      "execution_count": 88,
      "outputs": [
        {
          "output_type": "execute_result",
          "data": {
            "text/plain": [
              "1"
            ]
          },
          "metadata": {
            "tags": []
          },
          "execution_count": 88
        }
      ]
    },
    {
      "cell_type": "code",
      "metadata": {
        "colab": {
          "base_uri": "https://localhost:8080/"
        },
        "id": "ozp5xf73s1Ty",
        "outputId": "cb9e0bf4-4481-4242-b564-eff513eac282"
      },
      "source": [
        "#리스트안에 있는지 여부 확인\r\n",
        "marxes = ['Groucho', 'Chico', 'Harpo', 'Zeppo']\r\n",
        "'Groucho' in marxes\r\n",
        "'Bob'in marxes\r\n"
      ],
      "execution_count": 90,
      "outputs": [
        {
          "output_type": "execute_result",
          "data": {
            "text/plain": [
              "False"
            ]
          },
          "metadata": {
            "tags": []
          },
          "execution_count": 90
        }
      ]
    },
    {
      "cell_type": "code",
      "metadata": {
        "colab": {
          "base_uri": "https://localhost:8080/"
        },
        "id": "lmpoTB-LtIrl",
        "outputId": "571d59d8-ec31-4ffb-8692-933525142cf3"
      },
      "source": [
        "words = ['a','deer','a','female','deer']\r\n",
        "'deer' in words\r\n"
      ],
      "execution_count": 91,
      "outputs": [
        {
          "output_type": "execute_result",
          "data": {
            "text/plain": [
              "True"
            ]
          },
          "metadata": {
            "tags": []
          },
          "execution_count": 91
        }
      ]
    },
    {
      "cell_type": "code",
      "metadata": {
        "id": "As8Q0LGftWU3"
      },
      "source": [
        ""
      ],
      "execution_count": null,
      "outputs": []
    }
  ]
}