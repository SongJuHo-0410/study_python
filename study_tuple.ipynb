{
  "nbformat": 4,
  "nbformat_minor": 0,
  "metadata": {
    "colab": {
      "name": "study_tuple",
      "provenance": [],
      "collapsed_sections": [],
      "authorship_tag": "ABX9TyPeqTD5qKPDBY3zz+VGUnv9",
      "include_colab_link": true
    },
    "kernelspec": {
      "name": "python3",
      "display_name": "Python 3"
    }
  },
  "cells": [
    {
      "cell_type": "markdown",
      "metadata": {
        "id": "view-in-github",
        "colab_type": "text"
      },
      "source": [
        "<a href=\"https://colab.research.google.com/github/SongJuHo-0410/study_python/blob/main/study_tuple.ipynb\" target=\"_parent\"><img src=\"https://colab.research.google.com/assets/colab-badge.svg\" alt=\"Open In Colab\"/></a>"
      ]
    },
    {
      "cell_type": "code",
      "metadata": {
        "id": "zVxmoHsg2rIA",
        "colab": {
          "base_uri": "https://localhost:8080/"
        },
        "outputId": "19237591-24ab-4952-f6cc-daaf61e850ed"
      },
      "source": [
        "#튜플 생성\r\n",
        "empty_tuple =()\r\n",
        "empty_tuple"
      ],
      "execution_count": null,
      "outputs": [
        {
          "output_type": "execute_result",
          "data": {
            "text/plain": [
              "()"
            ]
          },
          "metadata": {
            "tags": []
          },
          "execution_count": 1
        }
      ]
    },
    {
      "cell_type": "code",
      "metadata": {
        "colab": {
          "base_uri": "https://localhost:8080/"
        },
        "id": "6ReQpGrASbln",
        "outputId": "6f77ec7b-6a13-4d01-e368-4699072cc95d"
      },
      "source": [
        "#,사용시 튜플로 인식\r\n",
        "one_marx = 'Groucho',\r\n",
        "one_marx"
      ],
      "execution_count": null,
      "outputs": [
        {
          "output_type": "execute_result",
          "data": {
            "text/plain": [
              "('Groucho',)"
            ]
          },
          "metadata": {
            "tags": []
          },
          "execution_count": 3
        }
      ]
    },
    {
      "cell_type": "code",
      "metadata": {
        "colab": {
          "base_uri": "https://localhost:8080/"
        },
        "id": "vlRZe2caSuJ5",
        "outputId": "34721441-58f4-4601-fc5f-f3385038f11e"
      },
      "source": [
        "#괄호 추가가능\r\n",
        "one_marx = ('Groucho',)\r\n",
        "one_marx"
      ],
      "execution_count": null,
      "outputs": [
        {
          "output_type": "execute_result",
          "data": {
            "text/plain": [
              "('Groucho',)"
            ]
          },
          "metadata": {
            "tags": []
          },
          "execution_count": 4
        }
      ]
    },
    {
      "cell_type": "code",
      "metadata": {
        "colab": {
          "base_uri": "https://localhost:8080/"
        },
        "id": "OqzjyECBTbcI",
        "outputId": "db15cd6e-1997-425e-9293-57d520a70158"
      },
      "source": [
        "#괄호만 있고 콤마를 생략시 문자열로 인식\r\n",
        "one_marx = ('Groucho')\r\n",
        "one_marx\r\n",
        "type(one_marx)"
      ],
      "execution_count": null,
      "outputs": [
        {
          "output_type": "execute_result",
          "data": {
            "text/plain": [
              "str"
            ]
          },
          "metadata": {
            "tags": []
          },
          "execution_count": 8
        }
      ]
    },
    {
      "cell_type": "code",
      "metadata": {
        "colab": {
          "base_uri": "https://localhost:8080/"
        },
        "id": "Ig1QdlHaTuaN",
        "outputId": "82d0ba33-4faf-4121-c01a-0bfa3f1c47ac"
      },
      "source": [
        "#두 개 이상이면 마지막에 콤마 사용 불필요\r\n",
        "marx_tuple = ('Groucho','Chico','Harpo')\r\n",
        "marx_tuple"
      ],
      "execution_count": null,
      "outputs": [
        {
          "output_type": "execute_result",
          "data": {
            "text/plain": [
              "('Groucho', 'Chico', 'Harpo')"
            ]
          },
          "metadata": {
            "tags": []
          },
          "execution_count": 9
        }
      ]
    },
    {
      "cell_type": "code",
      "metadata": {
        "colab": {
          "base_uri": "https://localhost:8080/"
        },
        "id": "2CNYkYtjT-kf",
        "outputId": "9a3b53fc-4c3b-4feb-e3fb-c2b1d49af77d"
      },
      "source": [
        "one_marx = 'Groucho',\r\n",
        "type(one_marx)\r\n",
        "type('Groucho',)\r\n",
        "type(('Groucho',))"
      ],
      "execution_count": null,
      "outputs": [
        {
          "output_type": "execute_result",
          "data": {
            "text/plain": [
              "tuple"
            ]
          },
          "metadata": {
            "tags": []
          },
          "execution_count": 12
        }
      ]
    },
    {
      "cell_type": "code",
      "metadata": {
        "colab": {
          "base_uri": "https://localhost:8080/",
          "height": 35
        },
        "id": "jCfWYZM2bs9c",
        "outputId": "22bc5424-a91f-485a-db86-a44149c21199"
      },
      "source": [
        "#튜플로 한 번에 여러 번수 할당\r\n",
        "marx_tuple = ('Groucho', 'Chico', 'Harpo')\r\n",
        "a, b, c = marx_tuple\r\n",
        "a\r\n",
        "b\r\n",
        "c"
      ],
      "execution_count": null,
      "outputs": [
        {
          "output_type": "execute_result",
          "data": {
            "application/vnd.google.colaboratory.intrinsic+json": {
              "type": "string"
            },
            "text/plain": [
              "'Harpo'"
            ]
          },
          "metadata": {
            "tags": []
          },
          "execution_count": 3
        }
      ]
    },
    {
      "cell_type": "code",
      "metadata": {
        "colab": {
          "base_uri": "https://localhost:8080/",
          "height": 35
        },
        "id": "LO1mGkpMcNqd",
        "outputId": "8c5347ee-efe0-46c5-85bd-63b7d9623503"
      },
      "source": [
        "#임시변수를 사용하지 않고 튜플 값 교환\r\n",
        "password = 'swordfish'\r\n",
        "icecream = 'tuttifrutti'\r\n",
        "password, icecream = icecream, password\r\n",
        "password\r\n",
        "icecream"
      ],
      "execution_count": null,
      "outputs": [
        {
          "output_type": "execute_result",
          "data": {
            "application/vnd.google.colaboratory.intrinsic+json": {
              "type": "string"
            },
            "text/plain": [
              "'swordfish'"
            ]
          },
          "metadata": {
            "tags": []
          },
          "execution_count": 5
        }
      ]
    },
    {
      "cell_type": "code",
      "metadata": {
        "colab": {
          "base_uri": "https://localhost:8080/"
        },
        "id": "a6hilVLbcvAo",
        "outputId": "939a69f3-1a8a-4e7d-b41d-72a5d6d5c9bf"
      },
      "source": [
        "#tuple()함수는 다른 객체를 튜플로 변환\r\n",
        "marx_list = ['Groucho', 'Chico', 'Harpo']\r\n",
        "tuple(marx_list)\r\n"
      ],
      "execution_count": null,
      "outputs": [
        {
          "output_type": "execute_result",
          "data": {
            "text/plain": [
              "('Groucho', 'Chico', 'Harpo')"
            ]
          },
          "metadata": {
            "tags": []
          },
          "execution_count": 6
        }
      ]
    },
    {
      "cell_type": "code",
      "metadata": {
        "colab": {
          "base_uri": "https://localhost:8080/"
        },
        "id": "0VPrebRVdMpA",
        "outputId": "91a2b1fb-f043-4626-8c0e-aa1340b4a956"
      },
      "source": [
        "#+연산자는 문자열 결합\r\n",
        "('Groucho',)+('Chico','Harpo')"
      ],
      "execution_count": null,
      "outputs": [
        {
          "output_type": "execute_result",
          "data": {
            "text/plain": [
              "('Groucho', 'Chico', 'Harpo')"
            ]
          },
          "metadata": {
            "tags": []
          },
          "execution_count": 7
        }
      ]
    },
    {
      "cell_type": "code",
      "metadata": {
        "colab": {
          "base_uri": "https://localhost:8080/"
        },
        "id": "hhyhup2YddiU",
        "outputId": "427bc171-a262-4fae-95ef-2c3f941cdd06"
      },
      "source": [
        "#*연산자는 +연산자를 반복\r\n",
        "('yada',) * 3"
      ],
      "execution_count": null,
      "outputs": [
        {
          "output_type": "execute_result",
          "data": {
            "text/plain": [
              "('yada', 'yada', 'yada')"
            ]
          },
          "metadata": {
            "tags": []
          },
          "execution_count": 8
        }
      ]
    },
    {
      "cell_type": "code",
      "metadata": {
        "colab": {
          "base_uri": "https://localhost:8080/"
        },
        "id": "rSq4LPNfdsUG",
        "outputId": "cfeb2f0a-e452-4a8a-993d-e8a1a2803d42"
      },
      "source": [
        "#리스트 비교\r\n",
        "a = (7,2)\r\n",
        "b = (7,2,9)\r\n",
        "a == b\r\n",
        "a <= b\r\n",
        "a < b"
      ],
      "execution_count": null,
      "outputs": [
        {
          "output_type": "execute_result",
          "data": {
            "text/plain": [
              "True"
            ]
          },
          "metadata": {
            "tags": []
          },
          "execution_count": 12
        }
      ]
    },
    {
      "cell_type": "code",
      "metadata": {
        "colab": {
          "base_uri": "https://localhost:8080/"
        },
        "id": "aJ8Uy2SKd9wI",
        "outputId": "1cf0b9dd-744b-42dd-87ea-669a8095845a"
      },
      "source": [
        "#튜플 순회, 다른 타입과 똑같이 작동\r\n",
        "words = ('fresh','out','of','ideas')\r\n",
        "for word in words:\r\n",
        "  print(word)"
      ],
      "execution_count": null,
      "outputs": [
        {
          "output_type": "stream",
          "text": [
            "fresh\n",
            "out\n",
            "of\n",
            "ideas\n"
          ],
          "name": "stdout"
        }
      ]
    },
    {
      "cell_type": "code",
      "metadata": {
        "colab": {
          "base_uri": "https://localhost:8080/"
        },
        "id": "0a6T7UgFeSkB",
        "outputId": "2d250069-5ba8-4327-c44f-e3042f02561f"
      },
      "source": [
        "#튜플은 문자열처럼 불변 객체이므로 기존 튜플을 변경 불가, 문자열과 같이 튜플을 결합하여 새 튜플 생성\r\n",
        "t1 = ('Fee','Fie','Foe')\r\n",
        "t2 = ('Flop',)\r\n",
        "t1 + t2\r\n"
      ],
      "execution_count": null,
      "outputs": [
        {
          "output_type": "execute_result",
          "data": {
            "text/plain": [
              "('Fee', 'Fie', 'Foe', 'Flop')"
            ]
          },
          "metadata": {
            "tags": []
          },
          "execution_count": 15
        }
      ]
    },
    {
      "cell_type": "code",
      "metadata": {
        "colab": {
          "base_uri": "https://localhost:8080/"
        },
        "id": "VmIeEzg_etOr",
        "outputId": "1a418b8b-c9c3-4c2c-80fa-f3fdc95f40b8"
      },
      "source": [
        "t1 = ('Fee','Fie','Foe')\r\n",
        "t2 = ('Flop',)\r\n",
        "t1 += t2\r\n",
        "t1"
      ],
      "execution_count": null,
      "outputs": [
        {
          "output_type": "execute_result",
          "data": {
            "text/plain": [
              "('Fee', 'Fie', 'Foe', 'Flop')"
            ]
          },
          "metadata": {
            "tags": []
          },
          "execution_count": 18
        }
      ]
    },
    {
      "cell_type": "code",
      "metadata": {
        "colab": {
          "base_uri": "https://localhost:8080/"
        },
        "id": "xdDWBr2ce3I9",
        "outputId": "5f4c1186-5a5a-42de-bfb3-909e798767b0"
      },
      "source": [
        "#t1은 이전에 t1이 아니며, 새로운 튜플이 생성 후 할당\r\n",
        "t1 = ('Fee','Fie','Foe')\r\n",
        "t2 = ('Flop',)\r\n",
        "id(t1)\r\n",
        "t1 += t2\r\n",
        "id(t1)"
      ],
      "execution_count": null,
      "outputs": [
        {
          "output_type": "execute_result",
          "data": {
            "text/plain": [
              "140481845682832"
            ]
          },
          "metadata": {
            "tags": []
          },
          "execution_count": 23
        }
      ]
    },
    {
      "cell_type": "code",
      "metadata": {
        "colab": {
          "base_uri": "https://localhost:8080/"
        },
        "id": "ZQt3IaDKfSmn",
        "outputId": "70298c6d-042b-4682-d0ee-f5637d7ea1bb"
      },
      "source": [
        "#리스트 생성하기\r\n",
        "empty_list =[]\r\n",
        "weekdays = ['Monday','Tuesday','Wednesday','Thursday','Friday']\r\n",
        "big_birds = ['emu','ostrich','cassowary']\r\n",
        "first_names = ['Graham','John','Terry','Terry','Michael']\r\n",
        "leap_years = [200,2004,2008]\r\n",
        "randomness = ['Punxsatawney',{\"groundhog\": \"Phil\"}, \"Feb. 2\"]"
      ],
      "execution_count": null,
      "outputs": [
        {
          "output_type": "execute_result",
          "data": {
            "text/plain": [
              "['Punxsatawney', {'groundhog': 'Phil'}, 'Feb. 2']"
            ]
          },
          "metadata": {
            "tags": []
          },
          "execution_count": 26
        }
      ]
    },
    {
      "cell_type": "code",
      "metadata": {
        "colab": {
          "base_uri": "https://localhost:8080/"
        },
        "id": "vTPcmOSogawU",
        "outputId": "872b1b21-0a16-47f1-eab5-fa20f7fb308f"
      },
      "source": [
        "#list() 함수로 빈 리스트 생성\r\n",
        "another_empty_list = list()\r\n",
        "another_empty_list"
      ],
      "execution_count": null,
      "outputs": [
        {
          "output_type": "execute_result",
          "data": {
            "text/plain": [
              "[]"
            ]
          },
          "metadata": {
            "tags": []
          },
          "execution_count": 27
        }
      ]
    },
    {
      "cell_type": "code",
      "metadata": {
        "colab": {
          "base_uri": "https://localhost:8080/"
        },
        "id": "h_2JKnkJgqZR",
        "outputId": "c28987dc-e33b-44da-c9eb-678bb8e2b040"
      },
      "source": [
        "#list()함수는 다른 데이터 타입을 리스트로 변환\r\n",
        "list('cat')\r\n",
        "['c','a','t']\r\n",
        "a_tuple = ('ready','fire','aim')\r\n",
        "list(a_tuple)"
      ],
      "execution_count": null,
      "outputs": [
        {
          "output_type": "execute_result",
          "data": {
            "text/plain": [
              "['ready', 'fire', 'aim']"
            ]
          },
          "metadata": {
            "tags": []
          },
          "execution_count": 29
        }
      ]
    },
    {
      "cell_type": "code",
      "metadata": {
        "colab": {
          "base_uri": "https://localhost:8080/"
        },
        "id": "UquKnrtYhUSU",
        "outputId": "5765547e-84ea-42ee-d726-2ac6f6d8174a"
      },
      "source": [
        "#split() 메서드는 문자열을 구분자 단위로 분할하여 리스트 생성\r\n",
        "talk_like_a_prirate_day = '9/19/2019'\r\n",
        "talk_like_a_prirate_day.split('/')"
      ],
      "execution_count": null,
      "outputs": [
        {
          "output_type": "execute_result",
          "data": {
            "text/plain": [
              "['9', '19', '2019']"
            ]
          },
          "metadata": {
            "tags": []
          },
          "execution_count": 30
        }
      ]
    },
    {
      "cell_type": "code",
      "metadata": {
        "colab": {
          "base_uri": "https://localhost:8080/"
        },
        "id": "q9_DZPi0hrl1",
        "outputId": "230a7279-bfa6-45dc-8011-fbd5fec21b5c"
      },
      "source": [
        "splitime = 'a/b/c//d///e'\r\n",
        "splitime.split('/')"
      ],
      "execution_count": null,
      "outputs": [
        {
          "output_type": "execute_result",
          "data": {
            "text/plain": [
              "['a', 'b', 'c', '', 'd', '', '', 'e']"
            ]
          },
          "metadata": {
            "tags": []
          },
          "execution_count": 31
        }
      ]
    },
    {
      "cell_type": "code",
      "metadata": {
        "colab": {
          "base_uri": "https://localhost:8080/"
        },
        "id": "TZldnLn0h1bP",
        "outputId": "527133da-1419-4153-e86c-f87ffea1d3ad"
      },
      "source": [
        "splitime = 'a/b//c/d///e'\r\n",
        "splitime.split('//')"
      ],
      "execution_count": null,
      "outputs": [
        {
          "output_type": "execute_result",
          "data": {
            "text/plain": [
              "['a/b', 'c/d', '/e']"
            ]
          },
          "metadata": {
            "tags": []
          },
          "execution_count": 34
        }
      ]
    },
    {
      "cell_type": "code",
      "metadata": {
        "colab": {
          "base_uri": "https://localhost:8080/",
          "height": 35
        },
        "id": "lgPegoe-h__m",
        "outputId": "c5767365-ebfa-479d-cf46-c3ff7c0d4483"
      },
      "source": [
        "marxes = ['Groucho','Chico','Harpo']\r\n",
        "marxes[0]\r\n",
        "marxes[1]\r\n",
        "marxes[2]"
      ],
      "execution_count": null,
      "outputs": [
        {
          "output_type": "execute_result",
          "data": {
            "application/vnd.google.colaboratory.intrinsic+json": {
              "type": "string"
            },
            "text/plain": [
              "'Harpo'"
            ]
          },
          "metadata": {
            "tags": []
          },
          "execution_count": 37
        }
      ]
    },
    {
      "cell_type": "code",
      "metadata": {
        "colab": {
          "base_uri": "https://localhost:8080/",
          "height": 35
        },
        "id": "G14SGnzJiPfe",
        "outputId": "afa5d05a-6395-4851-fcc0-24357b7d69a9"
      },
      "source": [
        "marxes[-1]\r\n",
        "marxes[-2]\r\n",
        "marxes[-3]"
      ],
      "execution_count": null,
      "outputs": [
        {
          "output_type": "execute_result",
          "data": {
            "application/vnd.google.colaboratory.intrinsic+json": {
              "type": "string"
            },
            "text/plain": [
              "'Groucho'"
            ]
          },
          "metadata": {
            "tags": []
          },
          "execution_count": 39
        }
      ]
    },
    {
      "cell_type": "code",
      "metadata": {
        "colab": {
          "base_uri": "https://localhost:8080/"
        },
        "id": "GGln4dD6iWTT",
        "outputId": "6acf5069-122d-4c35-a100-aa1075cda94d"
      },
      "source": [
        "#슬라이스를 사용하여 리스트의 서브시퀀스 추출\r\n",
        "marxes = ['Groucho','Chico','Harpo']\r\n",
        "marxes[0:2]\r\n"
      ],
      "execution_count": null,
      "outputs": [
        {
          "output_type": "execute_result",
          "data": {
            "text/plain": [
              "['Groucho', 'Chico']"
            ]
          },
          "metadata": {
            "tags": []
          },
          "execution_count": 40
        }
      ]
    },
    {
      "cell_type": "code",
      "metadata": {
        "colab": {
          "base_uri": "https://localhost:8080/"
        },
        "id": "QR5SMBMhmBLu",
        "outputId": "7186ecd6-5e38-40de-da50-1bbdb7092be5"
      },
      "source": [
        "#2칸씩 추출\r\n",
        "marxes[::2]\r\n"
      ],
      "execution_count": null,
      "outputs": [
        {
          "output_type": "execute_result",
          "data": {
            "text/plain": [
              "['Groucho', 'Harpo']"
            ]
          },
          "metadata": {
            "tags": []
          },
          "execution_count": 41
        }
      ]
    },
    {
      "cell_type": "code",
      "metadata": {
        "colab": {
          "base_uri": "https://localhost:8080/"
        },
        "id": "0hOn4DfsmN9i",
        "outputId": "37b6cba9-a864-42e8-f695-b06beec3ff18"
      },
      "source": [
        "#오른쪽에서 왼쪽으로 2칸씩 추출\r\n",
        "marxes[::-2]\r\n"
      ],
      "execution_count": null,
      "outputs": [
        {
          "output_type": "execute_result",
          "data": {
            "text/plain": [
              "['Harpo', 'Groucho']"
            ]
          },
          "metadata": {
            "tags": []
          },
          "execution_count": 44
        }
      ]
    },
    {
      "cell_type": "code",
      "metadata": {
        "colab": {
          "base_uri": "https://localhost:8080/"
        },
        "id": "RNojOvXWmYEa",
        "outputId": "ba9997e5-8ba9-4200-ba10-4c556ea5a2e5"
      },
      "source": [
        "marxes[::-1]\r\n"
      ],
      "execution_count": null,
      "outputs": [
        {
          "output_type": "execute_result",
          "data": {
            "text/plain": [
              "['Harpo', 'Chico', 'Groucho']"
            ]
          },
          "metadata": {
            "tags": []
          },
          "execution_count": 43
        }
      ]
    },
    {
      "cell_type": "code",
      "metadata": {
        "colab": {
          "base_uri": "https://localhost:8080/"
        },
        "id": "C90GBL0GmdSb",
        "outputId": "4967a606-fb1b-4ff8-bfff-06b94c39daf7"
      },
      "source": [
        "#리스트를 반대로 뒤집는 reverse() 메소드\r\n",
        "marxes = ['Groucho','Chico','Harpo']\r\n",
        "marxes.reverse()\r\n",
        "marxes\r\n"
      ],
      "execution_count": null,
      "outputs": [
        {
          "output_type": "execute_result",
          "data": {
            "text/plain": [
              "['Harpo', 'Chico', 'Groucho']"
            ]
          },
          "metadata": {
            "tags": []
          },
          "execution_count": 45
        }
      ]
    },
    {
      "cell_type": "code",
      "metadata": {
        "colab": {
          "base_uri": "https://localhost:8080/"
        },
        "id": "4H2hVacnmwe2",
        "outputId": "7343e75b-e8fd-4b5d-e21e-31027b17ad29"
      },
      "source": [
        "marxes = ['Groucho','Chico','Harpo']\r\n",
        "marxes[4:]\r\n",
        "marxes[-6:]\r\n",
        "marxes[-6:-2]\r\n",
        "marxes[-6:-4]\r\n"
      ],
      "execution_count": null,
      "outputs": [
        {
          "output_type": "execute_result",
          "data": {
            "text/plain": [
              "[]"
            ]
          },
          "metadata": {
            "tags": []
          },
          "execution_count": 53
        }
      ]
    },
    {
      "cell_type": "code",
      "metadata": {
        "colab": {
          "base_uri": "https://localhost:8080/"
        },
        "id": "pp0WmTgpnbhc",
        "outputId": "4a06732a-f328-405e-e1ca-c2dd4941b49d"
      },
      "source": [
        "#append()는 리스트에 새 항목을 추가\r\n",
        "marxes = ['Groucho','Chico','Harpo']\r\n",
        "marxes.append('Zeppo')\r\n",
        "marxes\r\n"
      ],
      "execution_count": null,
      "outputs": [
        {
          "output_type": "execute_result",
          "data": {
            "text/plain": [
              "['Groucho', 'Chico', 'Harpo', 'Zeppo']"
            ]
          },
          "metadata": {
            "tags": []
          },
          "execution_count": 54
        }
      ]
    },
    {
      "cell_type": "code",
      "metadata": {
        "colab": {
          "base_uri": "https://localhost:8080/"
        },
        "id": "YsBMvOfPnpWu",
        "outputId": "3f873266-6c36-4fe0-eea2-f7d365568830"
      },
      "source": [
        "marxes = ['Groucho','Chico','Harpo']\r\n",
        "marxes.insert(2,'Gummo')\r\n",
        "marxes\r\n",
        "marxes.insert(10,'Zeppo')\r\n",
        "marxes"
      ],
      "execution_count": null,
      "outputs": [
        {
          "output_type": "execute_result",
          "data": {
            "text/plain": [
              "['Groucho', 'Chico', 'Gummo', 'Harpo', 'Zeppo']"
            ]
          },
          "metadata": {
            "tags": []
          },
          "execution_count": 59
        }
      ]
    },
    {
      "cell_type": "code",
      "metadata": {
        "colab": {
          "base_uri": "https://localhost:8080/"
        },
        "id": "_kQCCHnDnvxd",
        "outputId": "7afee5ae-bb4e-4cb3-893d-f2b86faa13e2"
      },
      "source": [
        "[\"blsh\"] * 3\r\n"
      ],
      "execution_count": null,
      "outputs": [
        {
          "output_type": "execute_result",
          "data": {
            "text/plain": [
              "['blsh', 'blsh', 'blsh']"
            ]
          },
          "metadata": {
            "tags": []
          },
          "execution_count": 60
        }
      ]
    },
    {
      "cell_type": "code",
      "metadata": {
        "colab": {
          "base_uri": "https://localhost:8080/"
        },
        "id": "5NN4IDoLoIdS",
        "outputId": "4b597e8a-53fa-450a-89d0-c2b8b1808424"
      },
      "source": [
        "#extend()는 다른 리스트와 병합\r\n",
        "marxes = ['Groucho','Chico','Harpo','Zeppo']\r\n",
        "others = ['Gummo','Karl']\r\n",
        "marxes.extend(others)\r\n",
        "marxes\r\n"
      ],
      "execution_count": null,
      "outputs": [
        {
          "output_type": "execute_result",
          "data": {
            "text/plain": [
              "['Groucho', 'Chico', 'Harpo', 'Zeppo', 'Gummo', 'Karl']"
            ]
          },
          "metadata": {
            "tags": []
          },
          "execution_count": 61
        }
      ]
    },
    {
      "cell_type": "code",
      "metadata": {
        "colab": {
          "base_uri": "https://localhost:8080/"
        },
        "id": "nQzVG9J6of0P",
        "outputId": "8b0d3581-f6be-4c75-f856-75d9231d7076"
      },
      "source": [
        "marxes = ['Groucho','Chico','Harpo','Zeppo']\r\n",
        "others = ['Gummo','Karl']\r\n",
        "marxes += others\r\n",
        "marxes\r\n"
      ],
      "execution_count": null,
      "outputs": [
        {
          "output_type": "execute_result",
          "data": {
            "text/plain": [
              "['Groucho', 'Chico', 'Harpo', 'Zeppo', 'Gummo', 'Karl']"
            ]
          },
          "metadata": {
            "tags": []
          },
          "execution_count": 62
        }
      ]
    },
    {
      "cell_type": "code",
      "metadata": {
        "colab": {
          "base_uri": "https://localhost:8080/"
        },
        "id": "IXzheDSEoqB_",
        "outputId": "91502cef-d8b6-4db9-bd2d-6542d3b6792b"
      },
      "source": [
        "#append()를 사용하면 병합하지 않고 others가 하나의 리스트로 추가\r\n",
        "marxes = ['Groucho','Chico','Harpo','Zeppo']\r\n",
        "others = ['Gummo','Karl']\r\n",
        "marxes.append(others)\r\n",
        "marxes\r\n"
      ],
      "execution_count": null,
      "outputs": [
        {
          "output_type": "execute_result",
          "data": {
            "text/plain": [
              "['Groucho', 'Chico', 'Harpo', 'Zeppo', ['Gummo', 'Karl']]"
            ]
          },
          "metadata": {
            "tags": []
          },
          "execution_count": 63
        }
      ]
    },
    {
      "cell_type": "code",
      "metadata": {
        "colab": {
          "base_uri": "https://localhost:8080/"
        },
        "id": "34DgO4YGo5Vf",
        "outputId": "75dd743c-9d5c-4474-ff44-914040d08481"
      },
      "source": [
        "#offset으로 항목 변경\r\n",
        "marxes = ['Groucho','Chico','Harpo']\r\n",
        "marxes[2]= 'Wanda'\r\n",
        "marxes\r\n"
      ],
      "execution_count": null,
      "outputs": [
        {
          "output_type": "execute_result",
          "data": {
            "text/plain": [
              "['Groucho', 'Chico', 'Wanda']"
            ]
          },
          "metadata": {
            "tags": []
          },
          "execution_count": 64
        }
      ]
    },
    {
      "cell_type": "code",
      "metadata": {
        "colab": {
          "base_uri": "https://localhost:8080/"
        },
        "id": "kqqxDtnepUfY",
        "outputId": "10a5e650-160b-4b5b-f391-0e70edfffb99"
      },
      "source": [
        "#슬라이스로 항목 변경\r\n",
        "numbers = [1,2,3,4]\r\n",
        "numbers[1:3] = [8,9]\r\n",
        "numbers\r\n"
      ],
      "execution_count": null,
      "outputs": [
        {
          "output_type": "execute_result",
          "data": {
            "text/plain": [
              "[1, 8, 4]"
            ]
          },
          "metadata": {
            "tags": []
          },
          "execution_count": 69
        }
      ]
    },
    {
      "cell_type": "code",
      "metadata": {
        "colab": {
          "base_uri": "https://localhost:8080/"
        },
        "id": "xYWdH1ftpqOJ",
        "outputId": "7eec4e6b-4ad0-4020-c656-1a06186491e6"
      },
      "source": [
        "numbers = [1,2,3,4]\r\n",
        "numbers[1:3] = [7,8,9]\r\n",
        "numbers\r\n",
        "numbers = [1,2,3,4]\r\n",
        "numbers[1:3] = []\r\n",
        "numbers\r\n"
      ],
      "execution_count": null,
      "outputs": [
        {
          "output_type": "execute_result",
          "data": {
            "text/plain": [
              "[1, 4]"
            ]
          },
          "metadata": {
            "tags": []
          },
          "execution_count": 67
        }
      ]
    },
    {
      "cell_type": "code",
      "metadata": {
        "colab": {
          "base_uri": "https://localhost:8080/"
        },
        "id": "wLWGDGerp--U",
        "outputId": "459c8574-b651-475d-a1ce-014ebf50d6f6"
      },
      "source": [
        "numbers = [1,2,3,4]\r\n",
        "numbers[1:3] = 'wat?'\r\n",
        "numbers\r\n"
      ],
      "execution_count": null,
      "outputs": [
        {
          "output_type": "execute_result",
          "data": {
            "text/plain": [
              "[1, 'w', 'a', 't', '?', 4]"
            ]
          },
          "metadata": {
            "tags": []
          },
          "execution_count": 68
        }
      ]
    },
    {
      "cell_type": "code",
      "metadata": {
        "colab": {
          "base_uri": "https://localhost:8080/"
        },
        "id": "2nN4XR2DqMZT",
        "outputId": "dbbcaf5d-623e-41ce-9cf6-c8630ef4d9ee"
      },
      "source": [
        "#del을 사용하여 항목 삭제\r\n",
        "marxes = ['Groucho', 'Chico', 'Harpo', 'Zeppo', 'Gummo', 'Karl']\r\n",
        "marxes[-1]\r\n",
        "del marxes[-1]\r\n",
        "marxes\r\n"
      ],
      "execution_count": null,
      "outputs": [
        {
          "output_type": "execute_result",
          "data": {
            "text/plain": [
              "['Groucho', 'Chico', 'Harpo', 'Zeppo', 'Gummo']"
            ]
          },
          "metadata": {
            "tags": []
          },
          "execution_count": 72
        }
      ]
    },
    {
      "cell_type": "code",
      "metadata": {
        "colab": {
          "base_uri": "https://localhost:8080/"
        },
        "id": "fB0vUynTqiSD",
        "outputId": "9130985d-bdcc-496f-d0b2-672db027a2f3"
      },
      "source": [
        "marxes = ['Groucho', 'Chico', 'Harpo', 'Gummo']\r\n",
        "del marxes[1]\r\n",
        "marxes\r\n"
      ],
      "execution_count": null,
      "outputs": [
        {
          "output_type": "execute_result",
          "data": {
            "text/plain": [
              "['Groucho', 'Harpo', 'Gummo']"
            ]
          },
          "metadata": {
            "tags": []
          },
          "execution_count": 73
        }
      ]
    },
    {
      "cell_type": "code",
      "metadata": {
        "colab": {
          "base_uri": "https://localhost:8080/"
        },
        "id": "6YRTk_XvqtP0",
        "outputId": "1f544b04-04a9-442c-b9c6-27ad2412a26d"
      },
      "source": [
        "#remove()는 리스트에서 항목의 위치를 지정하지 않아도 삭제\r\n",
        "marxes = ['Groucho', 'Harpo', 'Gummo']\r\n",
        "marxes.remove('Groucho')\r\n",
        "marxes\r\n"
      ],
      "execution_count": null,
      "outputs": [
        {
          "output_type": "execute_result",
          "data": {
            "text/plain": [
              "['Harpo', 'Gummo']"
            ]
          },
          "metadata": {
            "tags": []
          },
          "execution_count": 74
        }
      ]
    },
    {
      "cell_type": "code",
      "metadata": {
        "colab": {
          "base_uri": "https://localhost:8080/"
        },
        "id": "2DM8CCHNrE3v",
        "outputId": "325bc1f5-1235-499a-bd9a-b01b3f643602"
      },
      "source": [
        "#pop()은 리스트에서 항목을 가져오는 동시에 그 항목을 삭제\r\n",
        "marxes = ['Groucho', 'Chico', 'Harpo', 'Zeppo']\r\n",
        "marxes.pop()\r\n",
        "marxes\r\n",
        "marxes.pop(1)\r\n",
        "marxes\r\n"
      ],
      "execution_count": null,
      "outputs": [
        {
          "output_type": "execute_result",
          "data": {
            "text/plain": [
              "['Groucho', 'Harpo']"
            ]
          },
          "metadata": {
            "tags": []
          },
          "execution_count": 85
        }
      ]
    },
    {
      "cell_type": "code",
      "metadata": {
        "colab": {
          "base_uri": "https://localhost:8080/"
        },
        "id": "GwOOTIGksP-N",
        "outputId": "cd3521ad-4160-48cd-94c5-aff9a24d775d"
      },
      "source": [
        "#clear()는 모든 항목을 삭제\r\n",
        "work_quotes = ['Working hard?','Quick question!','Number one priorities!']\r\n",
        "work_quotes\r\n",
        "work_quotes.clear()\r\n",
        "work_quotes\r\n"
      ],
      "execution_count": null,
      "outputs": [
        {
          "output_type": "execute_result",
          "data": {
            "text/plain": [
              "[]"
            ]
          },
          "metadata": {
            "tags": []
          },
          "execution_count": 87
        }
      ]
    },
    {
      "cell_type": "code",
      "metadata": {
        "colab": {
          "base_uri": "https://localhost:8080/"
        },
        "id": "K0qNK-TvspHo",
        "outputId": "9e29cb9e-10aa-4b4f-dc04-e1bd64f6d00c"
      },
      "source": [
        "#index()는 오프셋을 알고 싶을 때 사용, 리스트에 같은 값이 2개 이상이면 첫 번째 오프셋 반환\r\n",
        "marxes = ['Groucho', 'Chico', 'Harpo', 'Zeppo']\r\n",
        "marxes.index('Chico')\r\n"
      ],
      "execution_count": null,
      "outputs": [
        {
          "output_type": "execute_result",
          "data": {
            "text/plain": [
              "1"
            ]
          },
          "metadata": {
            "tags": []
          },
          "execution_count": 88
        }
      ]
    },
    {
      "cell_type": "code",
      "metadata": {
        "colab": {
          "base_uri": "https://localhost:8080/"
        },
        "id": "ozp5xf73s1Ty",
        "outputId": "cb9e0bf4-4481-4242-b564-eff513eac282"
      },
      "source": [
        "#리스트안에 있는지 여부 확인\r\n",
        "marxes = ['Groucho', 'Chico', 'Harpo', 'Zeppo']\r\n",
        "'Groucho' in marxes\r\n",
        "'Bob'in marxes\r\n"
      ],
      "execution_count": null,
      "outputs": [
        {
          "output_type": "execute_result",
          "data": {
            "text/plain": [
              "False"
            ]
          },
          "metadata": {
            "tags": []
          },
          "execution_count": 90
        }
      ]
    },
    {
      "cell_type": "code",
      "metadata": {
        "colab": {
          "base_uri": "https://localhost:8080/"
        },
        "id": "lmpoTB-LtIrl",
        "outputId": "571d59d8-ec31-4ffb-8692-933525142cf3"
      },
      "source": [
        "words = ['a','deer','a','female','deer']\r\n",
        "'deer' in words\r\n"
      ],
      "execution_count": null,
      "outputs": [
        {
          "output_type": "execute_result",
          "data": {
            "text/plain": [
              "True"
            ]
          },
          "metadata": {
            "tags": []
          },
          "execution_count": 91
        }
      ]
    },
    {
      "cell_type": "code",
      "metadata": {
        "id": "As8Q0LGftWU3",
        "colab": {
          "base_uri": "https://localhost:8080/"
        },
        "outputId": "93659f1f-2ba7-43a1-a8d7-0dd515e01ac4"
      },
      "source": [
        "#count()를 사용하여 항목이 얼마나 있는지 파악\r\n",
        "marxes = ['Groucho','Chico','Harpo']\r\n",
        "marxes.count('Harpo')\r\n",
        "marxes.count('Bob')\r\n",
        "snl_skit = ['cheeseburger','cheeseburger','cheeseburger']\r\n",
        "snl_skit.count('cheeseburger')\r\n"
      ],
      "execution_count": 3,
      "outputs": [
        {
          "output_type": "execute_result",
          "data": {
            "text/plain": [
              "3"
            ]
          },
          "metadata": {
            "tags": []
          },
          "execution_count": 3
        }
      ]
    },
    {
      "cell_type": "code",
      "metadata": {
        "colab": {
          "base_uri": "https://localhost:8080/",
          "height": 35
        },
        "id": "HiTRYhpYmDLQ",
        "outputId": "a132e3f6-7445-4b21-f8e5-ed95703520c7"
      },
      "source": [
        "\r\n",
        "marxes = ['Groucho','Chico','Harpo']\r\n",
        "','.join(marxes)\r\n"
      ],
      "execution_count": 4,
      "outputs": [
        {
          "output_type": "execute_result",
          "data": {
            "application/vnd.google.colaboratory.intrinsic+json": {
              "type": "string"
            },
            "text/plain": [
              "'Groucho,Chico,Harpo'"
            ]
          },
          "metadata": {
            "tags": []
          },
          "execution_count": 4
        }
      ]
    },
    {
      "cell_type": "code",
      "metadata": {
        "colab": {
          "base_uri": "https://localhost:8080/"
        },
        "id": "GRiYmUz5mwQh",
        "outputId": "6e226720-23e0-4cb2-f16c-a6e1d7f50729"
      },
      "source": [
        "#join()과 split()은 서로 반대되는 메서드\r\n",
        "friends = ['Harry','Hemione','Ron']\r\n",
        "separator = '*'\r\n",
        "joined = separator.join(friends)\r\n",
        "joined\r\n",
        "\r\n",
        "separated = joined.split(separator)\r\n",
        "separated\r\n",
        "\r\n",
        "separated == friends\r\n"
      ],
      "execution_count": 9,
      "outputs": [
        {
          "output_type": "execute_result",
          "data": {
            "text/plain": [
              "True"
            ]
          },
          "metadata": {
            "tags": []
          },
          "execution_count": 9
        }
      ]
    },
    {
      "cell_type": "code",
      "metadata": {
        "colab": {
          "base_uri": "https://localhost:8080/"
        },
        "id": "lp71JCPnnr1P",
        "outputId": "bcec5ce1-80f8-4af9-bfd1-d9400b41b99a"
      },
      "source": [
        "#sort()는 리스트를 숫자면 오름차순, 문자열이면 알파벳순으로 정렬\r\n",
        "marxes = ['Groucho','Chico','Harpo']\r\n",
        "sorted_marxes = sorted(marxes)\r\n",
        "sorted_marxes\r\n"
      ],
      "execution_count": 10,
      "outputs": [
        {
          "output_type": "execute_result",
          "data": {
            "text/plain": [
              "['Chico', 'Groucho', 'Harpo']"
            ]
          },
          "metadata": {
            "tags": []
          },
          "execution_count": 10
        }
      ]
    },
    {
      "cell_type": "code",
      "metadata": {
        "colab": {
          "base_uri": "https://localhost:8080/"
        },
        "id": "y956VEXooCCR",
        "outputId": "c6e9b6a6-cad4-4fea-fdf6-b0a3a4b6e8ed"
      },
      "source": [
        "\r\n",
        "marxes.sort()\r\n",
        "marxes\r\n"
      ],
      "execution_count": 12,
      "outputs": [
        {
          "output_type": "execute_result",
          "data": {
            "text/plain": [
              "['Chico', 'Groucho', 'Harpo']"
            ]
          },
          "metadata": {
            "tags": []
          },
          "execution_count": 12
        }
      ]
    },
    {
      "cell_type": "code",
      "metadata": {
        "colab": {
          "base_uri": "https://localhost:8080/"
        },
        "id": "14-u1JoIoLbD",
        "outputId": "e3d61335-1505-4385-e75e-1cafbd0e1a47"
      },
      "source": [
        "\r\n",
        "numbers = [2,1,4.0,3]\r\n",
        "numbers.sort()\r\n",
        "numbers\r\n"
      ],
      "execution_count": 13,
      "outputs": [
        {
          "output_type": "execute_result",
          "data": {
            "text/plain": [
              "[1, 2, 3, 4.0]"
            ]
          },
          "metadata": {
            "tags": []
          },
          "execution_count": 13
        }
      ]
    },
    {
      "cell_type": "code",
      "metadata": {
        "colab": {
          "base_uri": "https://localhost:8080/"
        },
        "id": "C9xa835QoTlr",
        "outputId": "a150054a-9b8f-4587-f6a9-2d7bd2325b75"
      },
      "source": [
        "#내림차순으로 하고 싶으면 reverse=True를 추가\r\n",
        "numbers = [2,1,4.0,3]\r\n",
        "numbers.sort(reverse=True)\r\n",
        "numbers\r\n"
      ],
      "execution_count": 14,
      "outputs": [
        {
          "output_type": "execute_result",
          "data": {
            "text/plain": [
              "[4.0, 3, 2, 1]"
            ]
          },
          "metadata": {
            "tags": []
          },
          "execution_count": 14
        }
      ]
    },
    {
      "cell_type": "code",
      "metadata": {
        "colab": {
          "base_uri": "https://localhost:8080/"
        },
        "id": "XlAv86ULojo7",
        "outputId": "985e992a-4456-4fb9-b1e6-f7e57ec1f495"
      },
      "source": [
        "marxes = ['Groucho','Chico','Harpo']\r\n",
        "len(marxes)\r\n"
      ],
      "execution_count": 15,
      "outputs": [
        {
          "output_type": "execute_result",
          "data": {
            "text/plain": [
              "3"
            ]
          },
          "metadata": {
            "tags": []
          },
          "execution_count": 15
        }
      ]
    },
    {
      "cell_type": "code",
      "metadata": {
        "colab": {
          "base_uri": "https://localhost:8080/"
        },
        "id": "UKcQLE19op4P",
        "outputId": "5c2e55bc-5b44-4143-f1e8-ce19668574c4"
      },
      "source": [
        "#할당하기:=\r\n",
        "a =[1,2,3]\r\n",
        "a\r\n",
        "b = a\r\n",
        "b\r\n",
        "a[0] = 'surprise'\r\n",
        "a\r\n"
      ],
      "execution_count": 19,
      "outputs": [
        {
          "output_type": "execute_result",
          "data": {
            "text/plain": [
              "['surprise', 2, 3]"
            ]
          },
          "metadata": {
            "tags": []
          },
          "execution_count": 19
        }
      ]
    },
    {
      "cell_type": "code",
      "metadata": {
        "colab": {
          "base_uri": "https://localhost:8080/"
        },
        "id": "KVTKc71ho5Vw",
        "outputId": "5d5c197e-d0ed-40a7-9ec5-988594239b94"
      },
      "source": [
        "#a 또는 b 리스트 내용을 변경하면 두 변수 모두에 반영\r\n",
        "b\r\n",
        "b[0] = 'I hate surprise'\r\n",
        "b\r\n",
        "a\r\n"
      ],
      "execution_count": 22,
      "outputs": [
        {
          "output_type": "execute_result",
          "data": {
            "text/plain": [
              "['I hate surprise', 2, 3]"
            ]
          },
          "metadata": {
            "tags": []
          },
          "execution_count": 22
        }
      ]
    },
    {
      "cell_type": "code",
      "metadata": {
        "id": "DCr6SpUWpOJK"
      },
      "source": [
        "#복사본은 새로운 객체로 원본 a가 변경되도 아무런 영향을 받지 않음\r\n",
        "a =[1,2,3]\r\n",
        "b = a.copy()\r\n",
        "c = list(a)\r\n",
        "d = a[:]\r\n"
      ],
      "execution_count": 23,
      "outputs": []
    },
    {
      "cell_type": "code",
      "metadata": {
        "colab": {
          "base_uri": "https://localhost:8080/"
        },
        "id": "fXVce34upeEG",
        "outputId": "92848715-2df3-4f3d-9917-d02ff7d27224"
      },
      "source": [
        "\r\n",
        "a[0] = 'integer lists are boring'\r\n",
        "a\r\n",
        "b\r\n",
        "c\r\n",
        "d\r\n"
      ],
      "execution_count": 27,
      "outputs": [
        {
          "output_type": "execute_result",
          "data": {
            "text/plain": [
              "[1, 2, 3]"
            ]
          },
          "metadata": {
            "tags": []
          },
          "execution_count": 27
        }
      ]
    },
    {
      "cell_type": "code",
      "metadata": {
        "colab": {
          "base_uri": "https://localhost:8080/"
        },
        "id": "x9WuwHnKp6IJ",
        "outputId": "ef2a549a-18fe-4217-923a-5830e5263e38"
      },
      "source": [
        "#리스트 값이 불변이면 copy() 메서드는 정상 작동\r\n",
        "a =[1,2,[8,9]]\r\n",
        "b = a.copy()\r\n",
        "c = list(a)\r\n",
        "d = a[:]\r\n",
        "\r\n",
        "a\r\n",
        "b\r\n",
        "c\r\n",
        "d\r\n"
      ],
      "execution_count": 37,
      "outputs": [
        {
          "output_type": "execute_result",
          "data": {
            "text/plain": [
              "[1, 2, [8, 9]]"
            ]
          },
          "metadata": {
            "tags": []
          },
          "execution_count": 37
        }
      ]
    },
    {
      "cell_type": "code",
      "metadata": {
        "colab": {
          "base_uri": "https://localhost:8080/"
        },
        "id": "DiFQpXT3qJP4",
        "outputId": "c2599614-b89e-4bad-8fd7-10f087884d87"
      },
      "source": [
        "a[2][1] = 10\r\n",
        "a\r\n",
        "b\r\n",
        "c\r\n",
        "d\r\n",
        "\r\n"
      ],
      "execution_count": 42,
      "outputs": [
        {
          "output_type": "execute_result",
          "data": {
            "text/plain": [
              "[1, 2, [8, 10]]"
            ]
          },
          "metadata": {
            "tags": []
          },
          "execution_count": 42
        }
      ]
    },
    {
      "cell_type": "code",
      "metadata": {
        "colab": {
          "base_uri": "https://localhost:8080/"
        },
        "id": "VULvDhE1rJZN",
        "outputId": "9a622750-46e9-4e67-933c-9d7b76848ec3"
      },
      "source": [
        "#deepcopy()는 하위에 중첩된 리스트, 딕셔너리, 기타 다른 객체를 모두 복사\r\n",
        "import copy\r\n",
        "a =[1,2,[8,9]]\r\n",
        "b = copy.deepcopy(a)\r\n",
        "a\r\n",
        "b\r\n",
        "a[2][1] = 10\r\n",
        "a\r\n",
        "b\r\n"
      ],
      "execution_count": 46,
      "outputs": [
        {
          "output_type": "execute_result",
          "data": {
            "text/plain": [
              "[1, 2, [8, 9]]"
            ]
          },
          "metadata": {
            "tags": []
          },
          "execution_count": 46
        }
      ]
    },
    {
      "cell_type": "code",
      "metadata": {
        "colab": {
          "base_uri": "https://localhost:8080/"
        },
        "id": "S0SMiluPrmTW",
        "outputId": "239cdf1b-94b9-45d5-d955-89da7e5731b6"
      },
      "source": [
        "a = [7,2]\r\n",
        "b = [7,2,9]\r\n",
        "a == b\r\n",
        "a <= b\r\n",
        "a < b\r\n",
        "\r\n",
        "a = [3,2]\r\n",
        "b = [1,2,3]\r\n",
        "a > b\r\n"
      ],
      "execution_count": 50,
      "outputs": [
        {
          "output_type": "execute_result",
          "data": {
            "text/plain": [
              "True"
            ]
          },
          "metadata": {
            "tags": []
          },
          "execution_count": 50
        }
      ]
    },
    {
      "cell_type": "code",
      "metadata": {
        "colab": {
          "base_uri": "https://localhost:8080/"
        },
        "id": "2QTanPzXr695",
        "outputId": "22218d12-f6a9-47ac-e2fe-0d629a354dc0"
      },
      "source": [
        "cheeses = ['brie','gjetost','havarti']\r\n",
        "for cheese in cheeses:\r\n",
        "  print(cheese)\r\n",
        "  "
      ],
      "execution_count": 51,
      "outputs": [
        {
          "output_type": "stream",
          "text": [
            "brie\n",
            "gjetost\n",
            "havarti\n"
          ],
          "name": "stdout"
        }
      ]
    },
    {
      "cell_type": "code",
      "metadata": {
        "colab": {
          "base_uri": "https://localhost:8080/"
        },
        "id": "HAesc97rsRlt",
        "outputId": "eafbb91b-4c20-47a4-ae5e-335063be0eb1"
      },
      "source": [
        "cheeses = ['brie','gjetost','havarti']\r\n",
        "for cheese in cheeses:\r\n",
        "  if cheese.startswith('g'):\r\n",
        "    print(\"I won't eat anything that starts with 'g'\")\r\n",
        "    break\r\n",
        "  else:\r\n",
        "    print(cheese)\r\n"
      ],
      "execution_count": 55,
      "outputs": [
        {
          "output_type": "stream",
          "text": [
            "brie\n",
            "I won't eat anything that starts with 'g'\n"
          ],
          "name": "stdout"
        }
      ]
    },
    {
      "cell_type": "code",
      "metadata": {
        "colab": {
          "base_uri": "https://localhost:8080/"
        },
        "id": "nL-NJmGgsyT8",
        "outputId": "288ae012-5a59-40f3-b98d-4b28ea9664d6"
      },
      "source": [
        "cheeses = ['brie','gjetost','havarti']\r\n",
        "for cheese in cheeses:\r\n",
        "  if cheese.startswith('x'):\r\n",
        "    print(\"I won't eat anything that starts with 'g'\")\r\n",
        "    break\r\n",
        "  else:\r\n",
        "    print(cheese)\r\n",
        "else:\r\n",
        "  print(\"Didn't find anything that started with 'x\")\r\n",
        "  "
      ],
      "execution_count": 63,
      "outputs": [
        {
          "output_type": "stream",
          "text": [
            "brie\n",
            "gjetost\n",
            "havarti\n",
            "Didn't find anything that started with 'x\n"
          ],
          "name": "stdout"
        }
      ]
    },
    {
      "cell_type": "code",
      "metadata": {
        "colab": {
          "base_uri": "https://localhost:8080/"
        },
        "id": "jenFqm-7wibp",
        "outputId": "0ac4a386-0481-44b8-bf5c-9447991de6cb"
      },
      "source": [
        "cheeses = []\r\n",
        "for cheese in cheeses:\r\n",
        "  print('This shop has some lovely',cheese)\r\n",
        "  break\r\n",
        "else:\r\n",
        "  print('This is not much of a cheese shop,is it?')\r\n"
      ],
      "execution_count": 66,
      "outputs": [
        {
          "output_type": "stream",
          "text": [
            "This is not much of a cheese shop,is it?\n"
          ],
          "name": "stdout"
        }
      ]
    },
    {
      "cell_type": "code",
      "metadata": {
        "colab": {
          "base_uri": "https://localhost:8080/"
        },
        "id": "1IQKyS-RxTW-",
        "outputId": "72b4a410-ae3e-42b6-c810-0022f140dad1"
      },
      "source": [
        "#여러 시퀀스 순회 zip()\r\n",
        "days = ['Monday','Tuesday','Wednesday']\r\n",
        "fruits = ['banana','orange','peach']\r\n",
        "drinks = ['coffee','tea','beer']\r\n",
        "desserts = ['tiramisu','ice cream','pie','pudding']\r\n",
        "for day, fruit, drink, dessert in zip(days, fruits, drinks, desserts):\r\n",
        "  print(day,\": drink\",drink,\"- eat\",fruit,'- enjoy',dessert)\r\n"
      ],
      "execution_count": 70,
      "outputs": [
        {
          "output_type": "stream",
          "text": [
            "Monday : drink coffee - eat banana - enjoy tiramisu\n",
            "Tuesday : drink tea - eat orange - enjoy ice cream\n",
            "Wednesday : drink beer - eat peach - enjoy pie\n"
          ],
          "name": "stdout"
        }
      ]
    },
    {
      "cell_type": "code",
      "metadata": {
        "colab": {
          "base_uri": "https://localhost:8080/"
        },
        "id": "L4ovx2zAylNe",
        "outputId": "9c4401aa-ca23-4d26-b903-23440818f10f"
      },
      "source": [
        "english = 'Monday','Tuesday','Wednesday'\r\n",
        "french = ' Lundi','Mardi','Mercredi'\r\n",
        "\r\n",
        "list(zip(english,french))\r\n",
        "dict(zip(english,french))"
      ],
      "execution_count": 73,
      "outputs": [
        {
          "output_type": "execute_result",
          "data": {
            "text/plain": [
              "{'Monday': ' Lundi', 'Tuesday': 'Mardi', 'Wednesday': 'Mercredi'}"
            ]
          },
          "metadata": {
            "tags": []
          },
          "execution_count": 73
        }
      ]
    },
    {
      "cell_type": "code",
      "metadata": {
        "colab": {
          "base_uri": "https://localhost:8080/"
        },
        "id": "UyvbvxzWy5O2",
        "outputId": "fda12c01-b0b3-4101-9643-5e2cf4910803"
      },
      "source": [
        "number_list = []\r\n",
        "number_list.append(1)\r\n",
        "number_list.append(2)\r\n",
        "number_list.append(3)\r\n",
        "number_list.append(4)\r\n",
        "number_list.append(5)\r\n",
        "number_list\r\n"
      ],
      "execution_count": 75,
      "outputs": [
        {
          "output_type": "execute_result",
          "data": {
            "text/plain": [
              "[1, 2, 3, 4, 5]"
            ]
          },
          "metadata": {
            "tags": []
          },
          "execution_count": 75
        }
      ]
    },
    {
      "cell_type": "code",
      "metadata": {
        "colab": {
          "base_uri": "https://localhost:8080/"
        },
        "id": "UajiR2Kr1gNw",
        "outputId": "526bf07e-1942-4597-e176-f6a2222782fa"
      },
      "source": [
        "number_list = []\r\n",
        "for number in range(1,6):\r\n",
        "  number_list.append(number)\r\n",
        "\r\n",
        "number_list\r\n"
      ],
      "execution_count": 77,
      "outputs": [
        {
          "output_type": "execute_result",
          "data": {
            "text/plain": [
              "[1, 2, 3, 4, 5, 6]"
            ]
          },
          "metadata": {
            "tags": []
          },
          "execution_count": 77
        }
      ]
    },
    {
      "cell_type": "code",
      "metadata": {
        "colab": {
          "base_uri": "https://localhost:8080/"
        },
        "id": "-OBAOn991z2M",
        "outputId": "20311246-f5e1-4a96-b973-4dd4afeea88a"
      },
      "source": [
        "number_list = list(range(1,6))\r\n",
        "number_list\r\n"
      ],
      "execution_count": 78,
      "outputs": [
        {
          "output_type": "execute_result",
          "data": {
            "text/plain": [
              "[1, 2, 3, 4, 5]"
            ]
          },
          "metadata": {
            "tags": []
          },
          "execution_count": 78
        }
      ]
    },
    {
      "cell_type": "code",
      "metadata": {
        "colab": {
          "base_uri": "https://localhost:8080/"
        },
        "id": "wSjaQwwA2F37",
        "outputId": "53005622-179f-4820-d2f4-7cb45fc2c98c"
      },
      "source": [
        "number_list = [number-1 for number in range(1,6)]\r\n",
        "number_list\r\n"
      ],
      "execution_count": 79,
      "outputs": [
        {
          "output_type": "execute_result",
          "data": {
            "text/plain": [
              "[0, 1, 2, 3, 4]"
            ]
          },
          "metadata": {
            "tags": []
          },
          "execution_count": 79
        }
      ]
    },
    {
      "cell_type": "code",
      "metadata": {
        "colab": {
          "base_uri": "https://localhost:8080/"
        },
        "id": "_ccPUYw42RPo",
        "outputId": "74236556-cca3-4464-b0d2-b44c2fd95bd5"
      },
      "source": [
        "a_list = [number for number in  range(1,6) if number % 2 == 1]\r\n",
        "a_list\r\n"
      ],
      "execution_count": 81,
      "outputs": [
        {
          "output_type": "execute_result",
          "data": {
            "text/plain": [
              "[1, 3, 5]"
            ]
          },
          "metadata": {
            "tags": []
          },
          "execution_count": 81
        }
      ]
    },
    {
      "cell_type": "code",
      "metadata": {
        "colab": {
          "base_uri": "https://localhost:8080/"
        },
        "id": "qnuIeda-2eS8",
        "outputId": "d2a5a6bb-3d19-4df4-c70b-ba060cad36e8"
      },
      "source": [
        "a_list = []\r\n",
        "for number in range(1,6):\r\n",
        "  if number % 2 == 1:\r\n",
        "    a_list.append(number)\r\n",
        "\r\n",
        "a_list\r\n"
      ],
      "execution_count": 83,
      "outputs": [
        {
          "output_type": "execute_result",
          "data": {
            "text/plain": [
              "[1, 3, 5]"
            ]
          },
          "metadata": {
            "tags": []
          },
          "execution_count": 83
        }
      ]
    },
    {
      "cell_type": "code",
      "metadata": {
        "colab": {
          "base_uri": "https://localhost:8080/"
        },
        "id": "mqF6WY5K230E",
        "outputId": "4cf02a68-325a-41b0-f23f-51a252639192"
      },
      "source": [
        "rows = range(1,4)\r\n",
        "cols = range(1,3)\r\n",
        "cells = [(row,col) for row in rows for col in cols]\r\n",
        "for cell in cells:\r\n",
        "  print(cell)\r\n",
        "  "
      ],
      "execution_count": 84,
      "outputs": [
        {
          "output_type": "stream",
          "text": [
            "(1, 1)\n",
            "(1, 2)\n",
            "(2, 1)\n",
            "(2, 2)\n",
            "(3, 1)\n",
            "(3, 2)\n"
          ],
          "name": "stdout"
        }
      ]
    },
    {
      "cell_type": "code",
      "metadata": {
        "colab": {
          "base_uri": "https://localhost:8080/"
        },
        "id": "0AOywbR53YXK",
        "outputId": "5f0da1b6-b0f7-4c17-b9f2-22d529aec2f8"
      },
      "source": [
        "for row, col in cells:\r\n",
        "  print(row,col)\r\n",
        "  "
      ],
      "execution_count": 85,
      "outputs": [
        {
          "output_type": "stream",
          "text": [
            "1 1\n",
            "1 2\n",
            "2 1\n",
            "2 2\n",
            "3 1\n",
            "3 2\n"
          ],
          "name": "stdout"
        }
      ]
    }
  ]
}