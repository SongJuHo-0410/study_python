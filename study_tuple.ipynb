{
  "nbformat": 4,
  "nbformat_minor": 0,
  "metadata": {
    "colab": {
      "name": "study_tuple",
      "provenance": [],
      "collapsed_sections": [],
      "authorship_tag": "ABX9TyPmJ/lMw+rY2ktgHc24sRXB",
      "include_colab_link": true
    },
    "kernelspec": {
      "name": "python3",
      "display_name": "Python 3"
    }
  },
  "cells": [
    {
      "cell_type": "markdown",
      "metadata": {
        "id": "view-in-github",
        "colab_type": "text"
      },
      "source": [
        "<a href=\"https://colab.research.google.com/github/SongJuHo-0410/study_python/blob/main/study_tuple.ipynb\" target=\"_parent\"><img src=\"https://colab.research.google.com/assets/colab-badge.svg\" alt=\"Open In Colab\"/></a>"
      ]
    },
    {
      "cell_type": "code",
      "metadata": {
        "id": "zVxmoHsg2rIA",
        "colab": {
          "base_uri": "https://localhost:8080/"
        },
        "outputId": "19237591-24ab-4952-f6cc-daaf61e850ed"
      },
      "source": [
        "#튜플 생성\r\n",
        "empty_tuple =()\r\n",
        "empty_tuple"
      ],
      "execution_count": null,
      "outputs": [
        {
          "output_type": "execute_result",
          "data": {
            "text/plain": [
              "()"
            ]
          },
          "metadata": {
            "tags": []
          },
          "execution_count": 1
        }
      ]
    },
    {
      "cell_type": "code",
      "metadata": {
        "colab": {
          "base_uri": "https://localhost:8080/"
        },
        "id": "6ReQpGrASbln",
        "outputId": "6f77ec7b-6a13-4d01-e368-4699072cc95d"
      },
      "source": [
        "#,사용시 튜플로 인식\r\n",
        "one_marx = 'Groucho',\r\n",
        "one_marx"
      ],
      "execution_count": null,
      "outputs": [
        {
          "output_type": "execute_result",
          "data": {
            "text/plain": [
              "('Groucho',)"
            ]
          },
          "metadata": {
            "tags": []
          },
          "execution_count": 3
        }
      ]
    },
    {
      "cell_type": "code",
      "metadata": {
        "colab": {
          "base_uri": "https://localhost:8080/"
        },
        "id": "vlRZe2caSuJ5",
        "outputId": "34721441-58f4-4601-fc5f-f3385038f11e"
      },
      "source": [
        "#괄호 추가가능\r\n",
        "one_marx = ('Groucho',)\r\n",
        "one_marx"
      ],
      "execution_count": null,
      "outputs": [
        {
          "output_type": "execute_result",
          "data": {
            "text/plain": [
              "('Groucho',)"
            ]
          },
          "metadata": {
            "tags": []
          },
          "execution_count": 4
        }
      ]
    },
    {
      "cell_type": "code",
      "metadata": {
        "colab": {
          "base_uri": "https://localhost:8080/"
        },
        "id": "OqzjyECBTbcI",
        "outputId": "db15cd6e-1997-425e-9293-57d520a70158"
      },
      "source": [
        "#괄호만 있고 콤마를 생략시 문자열로 인식\r\n",
        "one_marx = ('Groucho')\r\n",
        "one_marx\r\n",
        "type(one_marx)"
      ],
      "execution_count": null,
      "outputs": [
        {
          "output_type": "execute_result",
          "data": {
            "text/plain": [
              "str"
            ]
          },
          "metadata": {
            "tags": []
          },
          "execution_count": 8
        }
      ]
    },
    {
      "cell_type": "code",
      "metadata": {
        "colab": {
          "base_uri": "https://localhost:8080/"
        },
        "id": "Ig1QdlHaTuaN",
        "outputId": "82d0ba33-4faf-4121-c01a-0bfa3f1c47ac"
      },
      "source": [
        "#두 개 이상이면 마지막에 콤마 사용 불필요\r\n",
        "marx_tuple = ('Groucho','Chico','Harpo')\r\n",
        "marx_tuple"
      ],
      "execution_count": null,
      "outputs": [
        {
          "output_type": "execute_result",
          "data": {
            "text/plain": [
              "('Groucho', 'Chico', 'Harpo')"
            ]
          },
          "metadata": {
            "tags": []
          },
          "execution_count": 9
        }
      ]
    },
    {
      "cell_type": "code",
      "metadata": {
        "colab": {
          "base_uri": "https://localhost:8080/"
        },
        "id": "2CNYkYtjT-kf",
        "outputId": "9a3b53fc-4c3b-4feb-e3fb-c2b1d49af77d"
      },
      "source": [
        "one_marx = 'Groucho',\r\n",
        "type(one_marx)\r\n",
        "type('Groucho',)\r\n",
        "type(('Groucho',))"
      ],
      "execution_count": null,
      "outputs": [
        {
          "output_type": "execute_result",
          "data": {
            "text/plain": [
              "tuple"
            ]
          },
          "metadata": {
            "tags": []
          },
          "execution_count": 12
        }
      ]
    },
    {
      "cell_type": "code",
      "metadata": {
        "colab": {
          "base_uri": "https://localhost:8080/",
          "height": 35
        },
        "id": "jCfWYZM2bs9c",
        "outputId": "22bc5424-a91f-485a-db86-a44149c21199"
      },
      "source": [
        "#튜플로 한 번에 여러 번수 할당\r\n",
        "marx_tuple = ('Groucho', 'Chico', 'Harpo')\r\n",
        "a, b, c = marx_tuple\r\n",
        "a\r\n",
        "b\r\n",
        "c"
      ],
      "execution_count": 3,
      "outputs": [
        {
          "output_type": "execute_result",
          "data": {
            "application/vnd.google.colaboratory.intrinsic+json": {
              "type": "string"
            },
            "text/plain": [
              "'Harpo'"
            ]
          },
          "metadata": {
            "tags": []
          },
          "execution_count": 3
        }
      ]
    },
    {
      "cell_type": "code",
      "metadata": {
        "colab": {
          "base_uri": "https://localhost:8080/",
          "height": 35
        },
        "id": "LO1mGkpMcNqd",
        "outputId": "8c5347ee-efe0-46c5-85bd-63b7d9623503"
      },
      "source": [
        "#임시변수를 사용하지 않고 튜플 값 교환\r\n",
        "password = 'swordfish'\r\n",
        "icecream = 'tuttifrutti'\r\n",
        "password, icecream = icecream, password\r\n",
        "password\r\n",
        "icecream"
      ],
      "execution_count": 5,
      "outputs": [
        {
          "output_type": "execute_result",
          "data": {
            "application/vnd.google.colaboratory.intrinsic+json": {
              "type": "string"
            },
            "text/plain": [
              "'swordfish'"
            ]
          },
          "metadata": {
            "tags": []
          },
          "execution_count": 5
        }
      ]
    },
    {
      "cell_type": "code",
      "metadata": {
        "colab": {
          "base_uri": "https://localhost:8080/"
        },
        "id": "a6hilVLbcvAo",
        "outputId": "939a69f3-1a8a-4e7d-b41d-72a5d6d5c9bf"
      },
      "source": [
        "#tuple()함수는 다른 객체를 튜플로 변환\r\n",
        "marx_list = ['Groucho', 'Chico', 'Harpo']\r\n",
        "tuple(marx_list)\r\n"
      ],
      "execution_count": 6,
      "outputs": [
        {
          "output_type": "execute_result",
          "data": {
            "text/plain": [
              "('Groucho', 'Chico', 'Harpo')"
            ]
          },
          "metadata": {
            "tags": []
          },
          "execution_count": 6
        }
      ]
    },
    {
      "cell_type": "code",
      "metadata": {
        "colab": {
          "base_uri": "https://localhost:8080/"
        },
        "id": "0VPrebRVdMpA",
        "outputId": "91a2b1fb-f043-4626-8c0e-aa1340b4a956"
      },
      "source": [
        "#+연산자는 문자열 결합\r\n",
        "('Groucho',)+('Chico','Harpo')"
      ],
      "execution_count": 7,
      "outputs": [
        {
          "output_type": "execute_result",
          "data": {
            "text/plain": [
              "('Groucho', 'Chico', 'Harpo')"
            ]
          },
          "metadata": {
            "tags": []
          },
          "execution_count": 7
        }
      ]
    },
    {
      "cell_type": "code",
      "metadata": {
        "colab": {
          "base_uri": "https://localhost:8080/"
        },
        "id": "hhyhup2YddiU",
        "outputId": "427bc171-a262-4fae-95ef-2c3f941cdd06"
      },
      "source": [
        "#*연산자는 +연산자를 반복\r\n",
        "('yada',) * 3"
      ],
      "execution_count": 8,
      "outputs": [
        {
          "output_type": "execute_result",
          "data": {
            "text/plain": [
              "('yada', 'yada', 'yada')"
            ]
          },
          "metadata": {
            "tags": []
          },
          "execution_count": 8
        }
      ]
    },
    {
      "cell_type": "code",
      "metadata": {
        "colab": {
          "base_uri": "https://localhost:8080/"
        },
        "id": "rSq4LPNfdsUG",
        "outputId": "cfeb2f0a-e452-4a8a-993d-e8a1a2803d42"
      },
      "source": [
        "#리스트 비교\r\n",
        "a = (7,2)\r\n",
        "b = (7,2,9)\r\n",
        "a == b\r\n",
        "a <= b\r\n",
        "a < b"
      ],
      "execution_count": 12,
      "outputs": [
        {
          "output_type": "execute_result",
          "data": {
            "text/plain": [
              "True"
            ]
          },
          "metadata": {
            "tags": []
          },
          "execution_count": 12
        }
      ]
    },
    {
      "cell_type": "code",
      "metadata": {
        "colab": {
          "base_uri": "https://localhost:8080/"
        },
        "id": "aJ8Uy2SKd9wI",
        "outputId": "1cf0b9dd-744b-42dd-87ea-669a8095845a"
      },
      "source": [
        "#튜플 순회, 다른 타입과 똑같이 작동\r\n",
        "words = ('fresh','out','of','ideas')\r\n",
        "for word in words:\r\n",
        "  print(word)"
      ],
      "execution_count": 13,
      "outputs": [
        {
          "output_type": "stream",
          "text": [
            "fresh\n",
            "out\n",
            "of\n",
            "ideas\n"
          ],
          "name": "stdout"
        }
      ]
    },
    {
      "cell_type": "code",
      "metadata": {
        "colab": {
          "base_uri": "https://localhost:8080/"
        },
        "id": "0a6T7UgFeSkB",
        "outputId": "2d250069-5ba8-4327-c44f-e3042f02561f"
      },
      "source": [
        "#튜플은 문자열처럼 불변 객체이므로 기존 튜플을 변경 불가, 문자열과 같이 튜플을 결합하여 새 튜플 생성\r\n",
        "t1 = ('Fee','Fie','Foe')\r\n",
        "t2 = ('Flop',)\r\n",
        "t1 + t2\r\n"
      ],
      "execution_count": 15,
      "outputs": [
        {
          "output_type": "execute_result",
          "data": {
            "text/plain": [
              "('Fee', 'Fie', 'Foe', 'Flop')"
            ]
          },
          "metadata": {
            "tags": []
          },
          "execution_count": 15
        }
      ]
    },
    {
      "cell_type": "code",
      "metadata": {
        "colab": {
          "base_uri": "https://localhost:8080/"
        },
        "id": "VmIeEzg_etOr",
        "outputId": "1a418b8b-c9c3-4c2c-80fa-f3fdc95f40b8"
      },
      "source": [
        "t1 = ('Fee','Fie','Foe')\r\n",
        "t2 = ('Flop',)\r\n",
        "t1 += t2\r\n",
        "t1"
      ],
      "execution_count": 18,
      "outputs": [
        {
          "output_type": "execute_result",
          "data": {
            "text/plain": [
              "('Fee', 'Fie', 'Foe', 'Flop')"
            ]
          },
          "metadata": {
            "tags": []
          },
          "execution_count": 18
        }
      ]
    },
    {
      "cell_type": "code",
      "metadata": {
        "colab": {
          "base_uri": "https://localhost:8080/"
        },
        "id": "xdDWBr2ce3I9",
        "outputId": "5f4c1186-5a5a-42de-bfb3-909e798767b0"
      },
      "source": [
        "#t1은 이전에 t1이 아니며, 새로운 튜플이 생성 후 할당\r\n",
        "t1 = ('Fee','Fie','Foe')\r\n",
        "t2 = ('Flop',)\r\n",
        "id(t1)\r\n",
        "t1 += t2\r\n",
        "id(t1)"
      ],
      "execution_count": 23,
      "outputs": [
        {
          "output_type": "execute_result",
          "data": {
            "text/plain": [
              "140481845682832"
            ]
          },
          "metadata": {
            "tags": []
          },
          "execution_count": 23
        }
      ]
    },
    {
      "cell_type": "code",
      "metadata": {
        "colab": {
          "base_uri": "https://localhost:8080/"
        },
        "id": "ZQt3IaDKfSmn",
        "outputId": "70298c6d-042b-4682-d0ee-f5637d7ea1bb"
      },
      "source": [
        "#리스트 생성하기\r\n",
        "empty_list =[]\r\n",
        "weekdays = ['Monday','Tuesday','Wednesday','Thursday','Friday']\r\n",
        "big_birds = ['emu','ostrich','cassowary']\r\n",
        "first_names = ['Graham','John','Terry','Terry','Michael']\r\n",
        "leap_years = [200,2004,2008]\r\n",
        "randomness = ['Punxsatawney',{\"groundhog\": \"Phil\"}, \"Feb. 2\"]"
      ],
      "execution_count": 26,
      "outputs": [
        {
          "output_type": "execute_result",
          "data": {
            "text/plain": [
              "['Punxsatawney', {'groundhog': 'Phil'}, 'Feb. 2']"
            ]
          },
          "metadata": {
            "tags": []
          },
          "execution_count": 26
        }
      ]
    },
    {
      "cell_type": "code",
      "metadata": {
        "colab": {
          "base_uri": "https://localhost:8080/"
        },
        "id": "vTPcmOSogawU",
        "outputId": "872b1b21-0a16-47f1-eab5-fa20f7fb308f"
      },
      "source": [
        "#list() 함수로 빈 리스트 생성\r\n",
        "another_empty_list = list()\r\n",
        "another_empty_list"
      ],
      "execution_count": 27,
      "outputs": [
        {
          "output_type": "execute_result",
          "data": {
            "text/plain": [
              "[]"
            ]
          },
          "metadata": {
            "tags": []
          },
          "execution_count": 27
        }
      ]
    },
    {
      "cell_type": "code",
      "metadata": {
        "colab": {
          "base_uri": "https://localhost:8080/"
        },
        "id": "h_2JKnkJgqZR",
        "outputId": "c28987dc-e33b-44da-c9eb-678bb8e2b040"
      },
      "source": [
        "#list()함수는 다른 데이터 타입을 리스트로 변환\r\n",
        "list('cat')\r\n",
        "['c','a','t']\r\n",
        "a_tuple = ('ready','fire','aim')\r\n",
        "list(a_tuple)"
      ],
      "execution_count": 29,
      "outputs": [
        {
          "output_type": "execute_result",
          "data": {
            "text/plain": [
              "['ready', 'fire', 'aim']"
            ]
          },
          "metadata": {
            "tags": []
          },
          "execution_count": 29
        }
      ]
    },
    {
      "cell_type": "code",
      "metadata": {
        "colab": {
          "base_uri": "https://localhost:8080/"
        },
        "id": "UquKnrtYhUSU",
        "outputId": "5765547e-84ea-42ee-d726-2ac6f6d8174a"
      },
      "source": [
        "#split() 메서드는 문자열을 구분자 단위로 분할하여 리스트 생성\r\n",
        "talk_like_a_prirate_day = '9/19/2019'\r\n",
        "talk_like_a_prirate_day.split('/')"
      ],
      "execution_count": 30,
      "outputs": [
        {
          "output_type": "execute_result",
          "data": {
            "text/plain": [
              "['9', '19', '2019']"
            ]
          },
          "metadata": {
            "tags": []
          },
          "execution_count": 30
        }
      ]
    },
    {
      "cell_type": "code",
      "metadata": {
        "colab": {
          "base_uri": "https://localhost:8080/"
        },
        "id": "q9_DZPi0hrl1",
        "outputId": "230a7279-bfa6-45dc-8011-fbd5fec21b5c"
      },
      "source": [
        "splitime = 'a/b/c//d///e'\r\n",
        "splitime.split('/')"
      ],
      "execution_count": 31,
      "outputs": [
        {
          "output_type": "execute_result",
          "data": {
            "text/plain": [
              "['a', 'b', 'c', '', 'd', '', '', 'e']"
            ]
          },
          "metadata": {
            "tags": []
          },
          "execution_count": 31
        }
      ]
    },
    {
      "cell_type": "code",
      "metadata": {
        "colab": {
          "base_uri": "https://localhost:8080/"
        },
        "id": "TZldnLn0h1bP",
        "outputId": "527133da-1419-4153-e86c-f87ffea1d3ad"
      },
      "source": [
        "splitime = 'a/b//c/d///e'\r\n",
        "splitime.split('//')"
      ],
      "execution_count": 34,
      "outputs": [
        {
          "output_type": "execute_result",
          "data": {
            "text/plain": [
              "['a/b', 'c/d', '/e']"
            ]
          },
          "metadata": {
            "tags": []
          },
          "execution_count": 34
        }
      ]
    },
    {
      "cell_type": "code",
      "metadata": {
        "colab": {
          "base_uri": "https://localhost:8080/",
          "height": 35
        },
        "id": "lgPegoe-h__m",
        "outputId": "c5767365-ebfa-479d-cf46-c3ff7c0d4483"
      },
      "source": [
        "marxes = ['Groucho','Chico','Harpo']\r\n",
        "marxes[0]\r\n",
        "marxes[1]\r\n",
        "marxes[2]"
      ],
      "execution_count": 37,
      "outputs": [
        {
          "output_type": "execute_result",
          "data": {
            "application/vnd.google.colaboratory.intrinsic+json": {
              "type": "string"
            },
            "text/plain": [
              "'Harpo'"
            ]
          },
          "metadata": {
            "tags": []
          },
          "execution_count": 37
        }
      ]
    },
    {
      "cell_type": "code",
      "metadata": {
        "colab": {
          "base_uri": "https://localhost:8080/",
          "height": 35
        },
        "id": "G14SGnzJiPfe",
        "outputId": "afa5d05a-6395-4851-fcc0-24357b7d69a9"
      },
      "source": [
        "marxes[-1]\r\n",
        "marxes[-2]\r\n",
        "marxes[-3]"
      ],
      "execution_count": 39,
      "outputs": [
        {
          "output_type": "execute_result",
          "data": {
            "application/vnd.google.colaboratory.intrinsic+json": {
              "type": "string"
            },
            "text/plain": [
              "'Groucho'"
            ]
          },
          "metadata": {
            "tags": []
          },
          "execution_count": 39
        }
      ]
    },
    {
      "cell_type": "code",
      "metadata": {
        "id": "GGln4dD6iWTT"
      },
      "source": [
        ""
      ],
      "execution_count": null,
      "outputs": []
    }
  ]
}