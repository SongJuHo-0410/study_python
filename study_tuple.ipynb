{
  "nbformat": 4,
  "nbformat_minor": 0,
  "metadata": {
    "colab": {
      "name": "study_tuple",
      "provenance": [],
      "collapsed_sections": [],
      "authorship_tag": "ABX9TyNOVqiAYPsoV8p2NxU5A5mk",
      "include_colab_link": true
    },
    "kernelspec": {
      "name": "python3",
      "display_name": "Python 3"
    }
  },
  "cells": [
    {
      "cell_type": "markdown",
      "metadata": {
        "id": "view-in-github",
        "colab_type": "text"
      },
      "source": [
        "<a href=\"https://colab.research.google.com/github/SongJuHo-0410/study_python/blob/main/study_tuple.ipynb\" target=\"_parent\"><img src=\"https://colab.research.google.com/assets/colab-badge.svg\" alt=\"Open In Colab\"/></a>"
      ]
    },
    {
      "cell_type": "code",
      "metadata": {
        "id": "zVxmoHsg2rIA",
        "colab": {
          "base_uri": "https://localhost:8080/"
        },
        "outputId": "19237591-24ab-4952-f6cc-daaf61e850ed"
      },
      "source": [
        "#튜플 생성\r\n",
        "empty_tuple =()\r\n",
        "empty_tuple"
      ],
      "execution_count": 1,
      "outputs": [
        {
          "output_type": "execute_result",
          "data": {
            "text/plain": [
              "()"
            ]
          },
          "metadata": {
            "tags": []
          },
          "execution_count": 1
        }
      ]
    },
    {
      "cell_type": "code",
      "metadata": {
        "colab": {
          "base_uri": "https://localhost:8080/"
        },
        "id": "6ReQpGrASbln",
        "outputId": "6f77ec7b-6a13-4d01-e368-4699072cc95d"
      },
      "source": [
        "#,사용시 튜플로 인식\r\n",
        "one_marx = 'Groucho',\r\n",
        "one_marx"
      ],
      "execution_count": 3,
      "outputs": [
        {
          "output_type": "execute_result",
          "data": {
            "text/plain": [
              "('Groucho',)"
            ]
          },
          "metadata": {
            "tags": []
          },
          "execution_count": 3
        }
      ]
    },
    {
      "cell_type": "code",
      "metadata": {
        "colab": {
          "base_uri": "https://localhost:8080/"
        },
        "id": "vlRZe2caSuJ5",
        "outputId": "34721441-58f4-4601-fc5f-f3385038f11e"
      },
      "source": [
        "#괄호 추가가능\r\n",
        "one_marx = ('Groucho',)\r\n",
        "one_marx"
      ],
      "execution_count": 4,
      "outputs": [
        {
          "output_type": "execute_result",
          "data": {
            "text/plain": [
              "('Groucho',)"
            ]
          },
          "metadata": {
            "tags": []
          },
          "execution_count": 4
        }
      ]
    },
    {
      "cell_type": "code",
      "metadata": {
        "colab": {
          "base_uri": "https://localhost:8080/"
        },
        "id": "OqzjyECBTbcI",
        "outputId": "db15cd6e-1997-425e-9293-57d520a70158"
      },
      "source": [
        "#괄호만 있고 콤마를 생략시 문자열로 인식\r\n",
        "one_marx = ('Groucho')\r\n",
        "one_marx\r\n",
        "type(one_marx)"
      ],
      "execution_count": 8,
      "outputs": [
        {
          "output_type": "execute_result",
          "data": {
            "text/plain": [
              "str"
            ]
          },
          "metadata": {
            "tags": []
          },
          "execution_count": 8
        }
      ]
    },
    {
      "cell_type": "code",
      "metadata": {
        "colab": {
          "base_uri": "https://localhost:8080/"
        },
        "id": "Ig1QdlHaTuaN",
        "outputId": "82d0ba33-4faf-4121-c01a-0bfa3f1c47ac"
      },
      "source": [
        "#두 개 이상이면 마지막에 콤마 사용 불필요\r\n",
        "marx_tuple = ('Groucho','Chico','Harpo')\r\n",
        "marx_tuple"
      ],
      "execution_count": 9,
      "outputs": [
        {
          "output_type": "execute_result",
          "data": {
            "text/plain": [
              "('Groucho', 'Chico', 'Harpo')"
            ]
          },
          "metadata": {
            "tags": []
          },
          "execution_count": 9
        }
      ]
    },
    {
      "cell_type": "code",
      "metadata": {
        "colab": {
          "base_uri": "https://localhost:8080/"
        },
        "id": "2CNYkYtjT-kf",
        "outputId": "9a3b53fc-4c3b-4feb-e3fb-c2b1d49af77d"
      },
      "source": [
        "one_marx = 'Groucho',\r\n",
        "type(one_marx)\r\n",
        "type('Groucho',)\r\n",
        "type(('Groucho',))"
      ],
      "execution_count": 12,
      "outputs": [
        {
          "output_type": "execute_result",
          "data": {
            "text/plain": [
              "tuple"
            ]
          },
          "metadata": {
            "tags": []
          },
          "execution_count": 12
        }
      ]
    }
  ]
}