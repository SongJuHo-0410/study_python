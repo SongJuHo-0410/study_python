{
  "nbformat": 4,
  "nbformat_minor": 0,
  "metadata": {
    "colab": {
      "name": "while and for",
      "provenance": [],
      "collapsed_sections": [],
      "authorship_tag": "ABX9TyPVfTRocd2Jsx5D1hAtdf0K",
      "include_colab_link": true
    },
    "kernelspec": {
      "name": "python3",
      "display_name": "Python 3"
    }
  },
  "cells": [
    {
      "cell_type": "markdown",
      "metadata": {
        "id": "view-in-github",
        "colab_type": "text"
      },
      "source": [
        "<a href=\"https://colab.research.google.com/github/SongJuHo-0410/study_python/blob/main/while_and_for.ipynb\" target=\"_parent\"><img src=\"https://colab.research.google.com/assets/colab-badge.svg\" alt=\"Open In Colab\"/></a>"
      ]
    },
    {
      "cell_type": "code",
      "metadata": {
        "id": "066kNdJHuDqi",
        "colab": {
          "base_uri": "https://localhost:8080/"
        },
        "outputId": "76a9ae4d-c675-47c4-fd2d-c1d603ac9463"
      },
      "source": [
        "list(range(3,-1,-1))"
      ],
      "execution_count": null,
      "outputs": [
        {
          "output_type": "execute_result",
          "data": {
            "text/plain": [
              "[3, 2, 1, 0]"
            ]
          },
          "metadata": {
            "tags": []
          },
          "execution_count": 12
        }
      ]
    },
    {
      "cell_type": "code",
      "metadata": {
        "colab": {
          "base_uri": "https://localhost:8080/"
        },
        "id": "1_6EeMH2Kovi",
        "outputId": "ccf132bc-c778-4799-da03-a0ad325c3d2a"
      },
      "source": [
        "guess_me = 7\r\n",
        "number = 1\r\n",
        "while True:\r\n",
        "  if guess_me > number:\r\n",
        "    print(\"too low\")\r\n",
        "  elif guess_me == number:\r\n",
        "    print(\"found it!\")\r\n",
        "    break\r\n",
        "  elif guess_me < number:\r\n",
        "    print(\"oops\")\r\n",
        "    break\r\n",
        "  number += 1"
      ],
      "execution_count": null,
      "outputs": [
        {
          "output_type": "stream",
          "text": [
            "too low\n",
            "too low\n",
            "too low\n",
            "too low\n",
            "too low\n",
            "too low\n",
            "found it!\n"
          ],
          "name": "stdout"
        }
      ]
    },
    {
      "cell_type": "code",
      "metadata": {
        "colab": {
          "base_uri": "https://localhost:8080/"
        },
        "id": "9bEZNoDhPM3Q",
        "outputId": "07ac4961-cea1-4c4c-b3c3-5f74f06b3f91"
      },
      "source": [
        "guess_me = 5\r\n",
        "for number in range(10):\r\n",
        "  if number < guess_me:\r\n",
        "    print(\"too low\")\r\n",
        "  elif number == guess_me:\r\n",
        "    print(\"found it!\")\r\n",
        "    break\r\n",
        "  else:\r\n",
        "    print(\"oops\")\r\n",
        "    break"
      ],
      "execution_count": null,
      "outputs": [
        {
          "output_type": "stream",
          "text": [
            "too low\n",
            "too low\n",
            "too low\n",
            "too low\n",
            "too low\n",
            "found it!\n"
          ],
          "name": "stdout"
        }
      ]
    }
  ]
}