{
  "nbformat": 4,
  "nbformat_minor": 0,
  "metadata": {
    "colab": {
      "name": "dictionary &  set.ipynb",
      "provenance": [],
      "collapsed_sections": [],
      "authorship_tag": "ABX9TyOl7w4i6XRyKjgdq1brX3j+",
      "include_colab_link": true
    },
    "kernelspec": {
      "name": "python3",
      "display_name": "Python 3"
    }
  },
  "cells": [
    {
      "cell_type": "markdown",
      "metadata": {
        "id": "view-in-github",
        "colab_type": "text"
      },
      "source": [
        "<a href=\"https://colab.research.google.com/github/SongJuHo-0410/study_python/blob/main/dictionary_%26_set.ipynb\" target=\"_parent\"><img src=\"https://colab.research.google.com/assets/colab-badge.svg\" alt=\"Open In Colab\"/></a>"
      ]
    },
    {
      "cell_type": "code",
      "metadata": {
        "colab": {
          "base_uri": "https://localhost:8080/"
        },
        "id": "hUmhlz_Y3eEt",
        "outputId": "f7b3204f-881a-4543-e620-0e81687cda5d"
      },
      "source": [
        "#e2f\r\n",
        "e2f = {'dog':'chien','cat':'chat','walrus':'morse'}\r\n",
        "e2f"
      ],
      "execution_count": null,
      "outputs": [
        {
          "output_type": "execute_result",
          "data": {
            "text/plain": [
              "{'cat': 'chat', 'dog': 'chien', 'walrus': 'morse'}"
            ]
          },
          "metadata": {
            "tags": []
          },
          "execution_count": 2
        }
      ]
    },
    {
      "cell_type": "code",
      "metadata": {
        "colab": {
          "base_uri": "https://localhost:8080/",
          "height": 35
        },
        "id": "qIwCt_TQ4IOt",
        "outputId": "ea76997d-6153-4cdd-c95d-b5957aeab7b0"
      },
      "source": [
        "e2f.get('walrus')\r\n",
        "\r\n",
        "e2f['walrus']\r\n"
      ],
      "execution_count": null,
      "outputs": [
        {
          "output_type": "execute_result",
          "data": {
            "application/vnd.google.colaboratory.intrinsic+json": {
              "type": "string"
            },
            "text/plain": [
              "'morse'"
            ]
          },
          "metadata": {
            "tags": []
          },
          "execution_count": 10
        }
      ]
    },
    {
      "cell_type": "code",
      "metadata": {
        "colab": {
          "base_uri": "https://localhost:8080/"
        },
        "id": "l95YFOhh4Uvy",
        "outputId": "4e549382-1368-46ef-b69d-9b047974d083"
      },
      "source": [
        "f2e = {}\r\n",
        "for english, french in e2f.items():\r\n",
        "  f2e[french] = english\r\n",
        "f2e"
      ],
      "execution_count": null,
      "outputs": [
        {
          "output_type": "execute_result",
          "data": {
            "text/plain": [
              "{'chat': 'cat', 'chien': 'dog', 'morse': 'walrus'}"
            ]
          },
          "metadata": {
            "tags": []
          },
          "execution_count": 19
        }
      ]
    },
    {
      "cell_type": "code",
      "metadata": {
        "colab": {
          "base_uri": "https://localhost:8080/",
          "height": 35
        },
        "id": "8d4SVPmk4lGb",
        "outputId": "1a360548-f4a4-41c0-b1b0-85e3eb3e5c3a"
      },
      "source": [
        "f2e['chien']\r\n"
      ],
      "execution_count": null,
      "outputs": [
        {
          "output_type": "execute_result",
          "data": {
            "application/vnd.google.colaboratory.intrinsic+json": {
              "type": "string"
            },
            "text/plain": [
              "'dog'"
            ]
          },
          "metadata": {
            "tags": []
          },
          "execution_count": 20
        }
      ]
    },
    {
      "cell_type": "code",
      "metadata": {
        "colab": {
          "base_uri": "https://localhost:8080/"
        },
        "id": "qbLP1FOc7ZO9",
        "outputId": "2b821a62-f172-49a1-bf1e-66611b0d1da3"
      },
      "source": [
        "e2f.keys()\r\n"
      ],
      "execution_count": null,
      "outputs": [
        {
          "output_type": "execute_result",
          "data": {
            "text/plain": [
              "dict_keys(['dog', 'cat', 'walrus'])"
            ]
          },
          "metadata": {
            "tags": []
          },
          "execution_count": 17
        }
      ]
    },
    {
      "cell_type": "code",
      "metadata": {
        "id": "dxxh9ZPg7jrY"
      },
      "source": [
        "life = {\r\n",
        "    'animals' : {'cats':['Henri','Grumy','Lucy'],'octopi':{},'emus':{}},\r\n",
        "    'plants' : {},\r\n",
        "    'others' : {},\r\n",
        "}\r\n",
        "\r\n"
      ],
      "execution_count": null,
      "outputs": []
    },
    {
      "cell_type": "code",
      "metadata": {
        "colab": {
          "base_uri": "https://localhost:8080/"
        },
        "id": "vh9LpHEj9rEh",
        "outputId": "7611224e-6aed-4a7f-e6fd-d7e251915b43"
      },
      "source": [
        "life.keys()"
      ],
      "execution_count": null,
      "outputs": [
        {
          "output_type": "execute_result",
          "data": {
            "text/plain": [
              "dict_keys(['animals', 'plants', 'others'])"
            ]
          },
          "metadata": {
            "tags": []
          },
          "execution_count": 34
        }
      ]
    },
    {
      "cell_type": "code",
      "metadata": {
        "colab": {
          "base_uri": "https://localhost:8080/"
        },
        "id": "2TmqDkS1-UZd",
        "outputId": "582e4a66-1f93-4ed5-efba-7c80d7d00849"
      },
      "source": [
        "life['animals'].keys()"
      ],
      "execution_count": null,
      "outputs": [
        {
          "output_type": "execute_result",
          "data": {
            "text/plain": [
              "dict_keys(['cats', 'octopi', 'emus'])"
            ]
          },
          "metadata": {
            "tags": []
          },
          "execution_count": 37
        }
      ]
    },
    {
      "cell_type": "code",
      "metadata": {
        "colab": {
          "base_uri": "https://localhost:8080/"
        },
        "id": "rhA0uAUuACT9",
        "outputId": "1671bd71-fd83-4ada-e3e4-49d2b1c6cad4"
      },
      "source": [
        "print(life['animals']['cats'])"
      ],
      "execution_count": null,
      "outputs": [
        {
          "output_type": "stream",
          "text": [
            "['Henri', 'Grumy', 'Lucy']\n"
          ],
          "name": "stdout"
        }
      ]
    },
    {
      "cell_type": "code",
      "metadata": {
        "colab": {
          "base_uri": "https://localhost:8080/"
        },
        "id": "mXNDcEL8BwYt",
        "outputId": "aaccd441-7496-451f-a41b-479309da11f6"
      },
      "source": [
        "squares = {key:key*key for key in range(10)}\r\n",
        "squares\r\n"
      ],
      "execution_count": null,
      "outputs": [
        {
          "output_type": "execute_result",
          "data": {
            "text/plain": [
              "{0: 0, 1: 1, 2: 4, 3: 9, 4: 16, 5: 25, 6: 36, 7: 49, 8: 64, 9: 81}"
            ]
          },
          "metadata": {
            "tags": []
          },
          "execution_count": 50
        }
      ]
    },
    {
      "cell_type": "code",
      "metadata": {
        "colab": {
          "base_uri": "https://localhost:8080/"
        },
        "id": "2VntuSUqQNlU",
        "outputId": "d7c6e2dd-2447-44c8-f6ad-b169860a7aa7"
      },
      "source": [
        "odd = {number for number in range(10) if number % 2 == 1 }\r\n",
        "odd"
      ],
      "execution_count": 11,
      "outputs": [
        {
          "output_type": "execute_result",
          "data": {
            "text/plain": [
              "{1, 3, 5, 7, 9}"
            ]
          },
          "metadata": {
            "tags": []
          },
          "execution_count": 11
        }
      ]
    },
    {
      "cell_type": "code",
      "metadata": {
        "colab": {
          "base_uri": "https://localhost:8080/"
        },
        "id": "J4yOTFtMQ0CA",
        "outputId": "af5f5856-ec74-4425-cb00-7e74205fec7f"
      },
      "source": [
        "for thing in ('Got %s' %number for number in range(10)):\r\n",
        "  print(thing)\r\n"
      ],
      "execution_count": 12,
      "outputs": [
        {
          "output_type": "stream",
          "text": [
            "Got 0\n",
            "Got 1\n",
            "Got 2\n",
            "Got 3\n",
            "Got 4\n",
            "Got 5\n",
            "Got 6\n",
            "Got 7\n",
            "Got 8\n",
            "Got 9\n"
          ],
          "name": "stdout"
        }
      ]
    },
    {
      "cell_type": "code",
      "metadata": {
        "colab": {
          "base_uri": "https://localhost:8080/"
        },
        "id": "3CCp1JwZQ01Y",
        "outputId": "8005cbb3-5e4c-4a5e-ed4d-a93113028030"
      },
      "source": [
        "keys = ('optimist','pessimist','troll')\r\n",
        "values = ('The glas in half full','The glass is half empty','How did you get a glass?')\r\n",
        "dict(zip(keys,values))"
      ],
      "execution_count": 18,
      "outputs": [
        {
          "output_type": "execute_result",
          "data": {
            "text/plain": [
              "{'optimist': 'The glas in half full',\n",
              " 'pessimist': 'The glass is half empty',\n",
              " 'troll': 'How did you get a glass?'}"
            ]
          },
          "metadata": {
            "tags": []
          },
          "execution_count": 18
        }
      ]
    },
    {
      "cell_type": "code",
      "metadata": {
        "colab": {
          "base_uri": "https://localhost:8080/"
        },
        "id": "HEcvQ-Y-SrJ7",
        "outputId": "3f76efce-20a1-4032-85ec-09374ef0e05f"
      },
      "source": [
        "title = ['Creature of Habit','Crewel Fate']\r\n",
        "plots = ['A nun turns into a mon ster','A haunted yarn shop']\r\n",
        "movies = dict(zip(title,plots))\r\n",
        "movies"
      ],
      "execution_count": 20,
      "outputs": [
        {
          "output_type": "execute_result",
          "data": {
            "text/plain": [
              "{'Creature of Habit': 'A nun turns into a mon ster',\n",
              " 'Crewel Fate': 'A haunted yarn shop'}"
            ]
          },
          "metadata": {
            "tags": []
          },
          "execution_count": 20
        }
      ]
    }
  ]
}