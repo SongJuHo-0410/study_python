{
  "nbformat": 4,
  "nbformat_minor": 0,
  "metadata": {
    "colab": {
      "name": "Untitled0.ipynb",
      "provenance": [],
      "collapsed_sections": [],
      "authorship_tag": "ABX9TyNJPeu42a3d7EL8grU/l/zD",
      "include_colab_link": true
    },
    "kernelspec": {
      "name": "python3",
      "display_name": "Python 3"
    }
  },
  "cells": [
    {
      "cell_type": "markdown",
      "metadata": {
        "id": "view-in-github",
        "colab_type": "text"
      },
      "source": [
        "<a href=\"https://colab.research.google.com/github/SongJuHo-0410/study_python/blob/main/tuple%20and%20list.ipynb\" target=\"_parent\"><img src=\"https://colab.research.google.com/assets/colab-badge.svg\" alt=\"Open In Colab\"/></a>"
      ]
    },
    {
      "cell_type": "code",
      "metadata": {
        "colab": {
          "base_uri": "https://localhost:8080/"
        },
        "id": "Mf9e19bWBbWz",
        "outputId": "d9b42ab4-1868-4b0f-d391-043ccdd571d3"
      },
      "source": [
        "year_lists = 1980\r\n",
        "years_list = []\r\n",
        "for count in range(0,6):\r\n",
        "  years_list.append(year_lists)\r\n",
        "  year_lists += 1\r\n",
        "years_list\r\n"
      ],
      "execution_count": 27,
      "outputs": [
        {
          "output_type": "execute_result",
          "data": {
            "text/plain": [
              "[1980, 1981, 1982, 1983, 1984, 1985]"
            ]
          },
          "metadata": {
            "tags": []
          },
          "execution_count": 27
        }
      ]
    },
    {
      "cell_type": "code",
      "metadata": {
        "colab": {
          "base_uri": "https://localhost:8080/"
        },
        "id": "mbqQnlWrG8yY",
        "outputId": "e54063fe-1671-4381-c68c-461657b7b888"
      },
      "source": [
        "years_list[3]\r\n"
      ],
      "execution_count": 29,
      "outputs": [
        {
          "output_type": "execute_result",
          "data": {
            "text/plain": [
              "1983"
            ]
          },
          "metadata": {
            "tags": []
          },
          "execution_count": 29
        }
      ]
    },
    {
      "cell_type": "code",
      "metadata": {
        "colab": {
          "base_uri": "https://localhost:8080/"
        },
        "id": "EB9TM5LwHhTN",
        "outputId": "a00b7e8a-becd-43c9-ca73-aff73c22b4c8"
      },
      "source": [
        "years_list[-1]\r\n"
      ],
      "execution_count": 30,
      "outputs": [
        {
          "output_type": "execute_result",
          "data": {
            "text/plain": [
              "1985"
            ]
          },
          "metadata": {
            "tags": []
          },
          "execution_count": 30
        }
      ]
    },
    {
      "cell_type": "code",
      "metadata": {
        "colab": {
          "base_uri": "https://localhost:8080/"
        },
        "id": "pz67ochyINtM",
        "outputId": "eb1f7c9e-f42c-4195-8634-e842d6861bcc"
      },
      "source": [
        "things = ['mozzarella','cinderella','salmonella']\r\n",
        "things\r\n"
      ],
      "execution_count": 32,
      "outputs": [
        {
          "output_type": "execute_result",
          "data": {
            "text/plain": [
              "['mozzarella', 'cinderella', 'salmonella']"
            ]
          },
          "metadata": {
            "tags": []
          },
          "execution_count": 32
        }
      ]
    },
    {
      "cell_type": "code",
      "metadata": {
        "colab": {
          "base_uri": "https://localhost:8080/"
        },
        "id": "fV_D5YlAIaU0",
        "outputId": "167ce3cc-77f6-450b-ac21-4d4dec705059"
      },
      "source": [
        "#리스트에는 변화가 없음\r\n",
        "things[1].capitalize()\r\n",
        "things\r\n"
      ],
      "execution_count": 34,
      "outputs": [
        {
          "output_type": "execute_result",
          "data": {
            "text/plain": [
              "['mozzarella', 'cinderella', 'salmonella']"
            ]
          },
          "metadata": {
            "tags": []
          },
          "execution_count": 34
        }
      ]
    },
    {
      "cell_type": "code",
      "metadata": {
        "colab": {
          "base_uri": "https://localhost:8080/"
        },
        "id": "npItQ0V8Jbpf",
        "outputId": "9a6b07a8-c4ec-45fd-80ba-41a6c800b7ba"
      },
      "source": [
        "#리스트 오프셋1이 대문자로 바뀜\r\n",
        "things[1] = things[1].capitalize()\r\n",
        "things\r\n"
      ],
      "execution_count": 36,
      "outputs": [
        {
          "output_type": "execute_result",
          "data": {
            "text/plain": [
              "['mozzarella', 'Cinderella', 'salmonella']"
            ]
          },
          "metadata": {
            "tags": []
          },
          "execution_count": 36
        }
      ]
    },
    {
      "cell_type": "code",
      "metadata": {
        "colab": {
          "base_uri": "https://localhost:8080/"
        },
        "id": "lv-wqUfNJumA",
        "outputId": "ddfb3cc3-4ca3-49ed-9793-63eed5317ce5"
      },
      "source": [
        "things[0] = things[0].upper()\r\n",
        "things"
      ],
      "execution_count": 37,
      "outputs": [
        {
          "output_type": "execute_result",
          "data": {
            "text/plain": [
              "['MOZZARELLA', 'Cinderella', 'salmonella']"
            ]
          },
          "metadata": {
            "tags": []
          },
          "execution_count": 37
        }
      ]
    },
    {
      "cell_type": "code",
      "metadata": {
        "colab": {
          "base_uri": "https://localhost:8080/"
        },
        "id": "ollws6tbJ4Js",
        "outputId": "7adf5d8a-38d9-4fa1-edff-ba7996799c6d"
      },
      "source": [
        "del things[2]\r\n",
        "things\r\n"
      ],
      "execution_count": 39,
      "outputs": [
        {
          "output_type": "execute_result",
          "data": {
            "text/plain": [
              "['MOZZARELLA', 'Cinderella']"
            ]
          },
          "metadata": {
            "tags": []
          },
          "execution_count": 39
        }
      ]
    },
    {
      "cell_type": "code",
      "metadata": {
        "colab": {
          "base_uri": "https://localhost:8080/"
        },
        "id": "YH9QIaQFKP2X",
        "outputId": "7edb0948-3bd1-4577-cf9d-c063a5b8842b"
      },
      "source": [
        "surprise = ['Groucho','Chico','Harpo']\r\n",
        "surprise\r\n"
      ],
      "execution_count": 41,
      "outputs": [
        {
          "output_type": "execute_result",
          "data": {
            "text/plain": [
              "['Groucho', 'Chico', 'Harpo']"
            ]
          },
          "metadata": {
            "tags": []
          },
          "execution_count": 41
        }
      ]
    },
    {
      "cell_type": "code",
      "metadata": {
        "colab": {
          "base_uri": "https://localhost:8080/",
          "height": 35
        },
        "id": "WI3JkURrKcED",
        "outputId": "cae71c80-b2c3-44f9-aed8-22bfff9094bb"
      },
      "source": [
        "surprise[-1] = surprise[-1].lower()\r\n",
        "surprise[-1] = surprise[-1][::-1]\r\n",
        "surprise[-1] = surprise[-1].capitalize()\r\n",
        "surprise[-1]\r\n"
      ],
      "execution_count": 56,
      "outputs": [
        {
          "output_type": "execute_result",
          "data": {
            "application/vnd.google.colaboratory.intrinsic+json": {
              "type": "string"
            },
            "text/plain": [
              "'Oprah'"
            ]
          },
          "metadata": {
            "tags": []
          },
          "execution_count": 56
        }
      ]
    },
    {
      "cell_type": "code",
      "metadata": {
        "colab": {
          "base_uri": "https://localhost:8080/"
        },
        "id": "qJgpcEVPMM9m",
        "outputId": "f399a9ec-feec-46a7-8787-ac8cf9f068c2"
      },
      "source": [
        "number_list = [number for number in range(10) if number % 2 == 0]\r\n",
        "number_list\r\n"
      ],
      "execution_count": 62,
      "outputs": [
        {
          "output_type": "execute_result",
          "data": {
            "text/plain": [
              "[0, 2, 4, 6, 8]"
            ]
          },
          "metadata": {
            "tags": []
          },
          "execution_count": 62
        }
      ]
    },
    {
      "cell_type": "code",
      "metadata": {
        "colab": {
          "base_uri": "https://localhost:8080/"
        },
        "id": "RDZjQGrpM6ri",
        "outputId": "d17146c6-8021-4956-a5d5-67121fbc394a"
      },
      "source": [
        "start1 = [\"fee\",\"fie\",\"foe\"]\r\n",
        "rhymes = [\r\n",
        "    (\"flop\",\"get a mop\"),\r\n",
        "    (\"fope\",\"turn the rope\"),\r\n",
        "    (\"fa\",\"get your ma\"),\r\n",
        "    (\"fudge\",\"call the judge\"),\r\n",
        "    (\"fat\",\"pet the cat\"),\r\n",
        "    (\"fog\",\"walk the dog\"),\r\n",
        "    (\"fun\",\"say we're done\"),\r\n",
        "  ]\r\n",
        "start2 = \"Someone better\"\r\n",
        "\r\n",
        "start1_caps = \" \".join([word.capitalize() + \"!\" for word in start1])\r\n",
        "for first, second in rhymes:\r\n",
        "  print(f\"{start1_caps} {first.capitalize()}!\")\r\n",
        "  print(f\"{start2} {second}.\")\r\n",
        "\r\n"
      ],
      "execution_count": 89,
      "outputs": [
        {
          "output_type": "stream",
          "text": [
            "Fee! Fie! Foe! Flop!\n",
            "Someone better get a mop.\n",
            "Fee! Fie! Foe! Fope!\n",
            "Someone better turn the rope.\n",
            "Fee! Fie! Foe! Fa!\n",
            "Someone better get your ma.\n",
            "Fee! Fie! Foe! Fudge!\n",
            "Someone better call the judge.\n",
            "Fee! Fie! Foe! Fat!\n",
            "Someone better pet the cat.\n",
            "Fee! Fie! Foe! Fog!\n",
            "Someone better walk the dog.\n",
            "Fee! Fie! Foe! Fun!\n",
            "Someone better say we're done.\n"
          ],
          "name": "stdout"
        }
      ]
    }
  ]
}