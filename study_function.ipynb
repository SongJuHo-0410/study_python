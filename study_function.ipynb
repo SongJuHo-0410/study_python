{
  "nbformat": 4,
  "nbformat_minor": 0,
  "metadata": {
    "colab": {
      "name": "study_function.ipynb",
      "provenance": [],
      "collapsed_sections": [],
      "authorship_tag": "ABX9TyPAZfNNPdsSb5g2fYZl2oy5",
      "include_colab_link": true
    },
    "kernelspec": {
      "name": "python3",
      "display_name": "Python 3"
    }
  },
  "cells": [
    {
      "cell_type": "markdown",
      "metadata": {
        "id": "view-in-github",
        "colab_type": "text"
      },
      "source": [
        "<a href=\"https://colab.research.google.com/github/SongJuHo-0410/study_python/blob/main/study_function.ipynb\" target=\"_parent\"><img src=\"https://colab.research.google.com/assets/colab-badge.svg\" alt=\"Open In Colab\"/></a>"
      ]
    },
    {
      "cell_type": "code",
      "metadata": {
        "id": "FKNiExQ1qtyJ"
      },
      "source": [
        "#함수\r\n",
        "def do_nothing():\r\n",
        "  pass"
      ],
      "execution_count": 3,
      "outputs": []
    },
    {
      "cell_type": "code",
      "metadata": {
        "id": "OoB8MZcgq_1x"
      },
      "source": [
        "do_nothing()"
      ],
      "execution_count": 4,
      "outputs": []
    },
    {
      "cell_type": "code",
      "metadata": {
        "colab": {
          "base_uri": "https://localhost:8080/"
        },
        "id": "TpOtN9E8rC0D",
        "outputId": "3ea563f1-53e3-44de-a8ba-c41d0b27b165"
      },
      "source": [
        "def make_a_sound():\r\n",
        "  print('quack')\r\n",
        "make_a_sound()\r\n"
      ],
      "execution_count": 6,
      "outputs": [
        {
          "output_type": "stream",
          "text": [
            "quack\n"
          ],
          "name": "stdout"
        }
      ]
    },
    {
      "cell_type": "code",
      "metadata": {
        "id": "MWGwscILrL7v"
      },
      "source": [
        "def agree():\r\n",
        "  return True\r\n",
        "  "
      ],
      "execution_count": 7,
      "outputs": []
    },
    {
      "cell_type": "code",
      "metadata": {
        "colab": {
          "base_uri": "https://localhost:8080/"
        },
        "id": "-PzPr2wkrR53",
        "outputId": "6bb310f6-f823-42ee-d0da-1697bc73d8bf"
      },
      "source": [
        "if agree():\r\n",
        "  print('Splendid!')\r\n",
        "else:\r\n",
        "  print('That was unexpected.')\r\n"
      ],
      "execution_count": 8,
      "outputs": [
        {
          "output_type": "stream",
          "text": [
            "Splendid!\n"
          ],
          "name": "stdout"
        }
      ]
    },
    {
      "cell_type": "code",
      "metadata": {
        "id": "7SgxDerardG2"
      },
      "source": [
        "def echo(anything):\r\n",
        "  return anything + ' ' + anything\r\n",
        "  "
      ],
      "execution_count": 9,
      "outputs": []
    },
    {
      "cell_type": "code",
      "metadata": {
        "colab": {
          "base_uri": "https://localhost:8080/",
          "height": 35
        },
        "id": "K3M4XcOsrlqY",
        "outputId": "11c903f7-ab02-4f0e-a38e-608eae2b85e2"
      },
      "source": [
        "echo('Rumplestiltskin')\r\n"
      ],
      "execution_count": 10,
      "outputs": [
        {
          "output_type": "execute_result",
          "data": {
            "application/vnd.google.colaboratory.intrinsic+json": {
              "type": "string"
            },
            "text/plain": [
              "'Rumplestiltskin Rumplestiltskin'"
            ]
          },
          "metadata": {
            "tags": []
          },
          "execution_count": 10
        }
      ]
    },
    {
      "cell_type": "code",
      "metadata": {
        "id": "-pfJgYVyrq-_"
      },
      "source": [
        "def commentary(color):\r\n",
        "  if color == 'red':\r\n",
        "    return \"It's a tomato\"\r\n",
        "  elif color == 'Green':\r\n",
        "    return \"It's a green pepper\"\r\n",
        "  elif color == 'bee purple':\r\n",
        "    return \"I don't know what it is, but only bees can see it\"\r\n",
        "  else:\r\n",
        "    return \"I've never heard of the color\" + color + \".\"\r\n",
        "\r\n"
      ],
      "execution_count": 15,
      "outputs": []
    },
    {
      "cell_type": "code",
      "metadata": {
        "id": "mTOUm-3UsNob"
      },
      "source": [
        "comment = commentary('blue')"
      ],
      "execution_count": null,
      "outputs": []
    },
    {
      "cell_type": "code",
      "metadata": {
        "colab": {
          "base_uri": "https://localhost:8080/"
        },
        "id": "qQuq3QzCslZR",
        "outputId": "247aeb81-d134-4130-f715-2f57f8fd1baa"
      },
      "source": [
        "print(comment)"
      ],
      "execution_count": 16,
      "outputs": [
        {
          "output_type": "stream",
          "text": [
            "I've never heard of the colorblue.\n"
          ],
          "name": "stdout"
        }
      ]
    },
    {
      "cell_type": "code",
      "metadata": {
        "colab": {
          "base_uri": "https://localhost:8080/"
        },
        "id": "I-JT_xzAsp_c",
        "outputId": "81ab9115-db02-47bb-8a40-9420ab052c5d"
      },
      "source": [
        "print(do_nothing())"
      ],
      "execution_count": 17,
      "outputs": [
        {
          "output_type": "stream",
          "text": [
            "None\n"
          ],
          "name": "stdout"
        }
      ]
    },
    {
      "cell_type": "code",
      "metadata": {
        "colab": {
          "base_uri": "https://localhost:8080/"
        },
        "id": "qEW9fOKlstlL",
        "outputId": "a701ccd2-2863-4282-e1ed-cdc206ed66e4"
      },
      "source": [
        "thing = None\r\n",
        "if thing:\r\n",
        "  print(\"It's some thing\")\r\n",
        "else:\r\n",
        "  print(\"It's no thing\")\r\n"
      ],
      "execution_count": 18,
      "outputs": [
        {
          "output_type": "stream",
          "text": [
            "It's no thing\n"
          ],
          "name": "stdout"
        }
      ]
    },
    {
      "cell_type": "code",
      "metadata": {
        "colab": {
          "base_uri": "https://localhost:8080/"
        },
        "id": "ZOpjJ55Ys95u",
        "outputId": "a6407762-069f-4316-be15-274b0303e9ca"
      },
      "source": [
        "thing = None\r\n",
        "if thing is None:\r\n",
        "  print(\"It's some thing\")\r\n",
        "else:\r\n",
        "  print(\"It's no thing\")"
      ],
      "execution_count": 19,
      "outputs": [
        {
          "output_type": "stream",
          "text": [
            "It's some thing\n"
          ],
          "name": "stdout"
        }
      ]
    },
    {
      "cell_type": "code",
      "metadata": {
        "colab": {
          "base_uri": "https://localhost:8080/"
        },
        "id": "sSAp4cM2tITk",
        "outputId": "cced181a-4f94-4080-ecc7-f51d12d1384b"
      },
      "source": [
        "def whatis(thing):\r\n",
        "  if thing is None:\r\n",
        "    print(thing, \"is None\")\r\n",
        "  elif thing:\r\n",
        "    print(thing, \"is True\")\r\n",
        "  else:\r\n",
        "    print(thing, \"is False\")\r\n",
        "\r\n",
        "whatis(None)\r\n"
      ],
      "execution_count": 22,
      "outputs": [
        {
          "output_type": "stream",
          "text": [
            "None is None\n"
          ],
          "name": "stdout"
        }
      ]
    },
    {
      "cell_type": "code",
      "metadata": {
        "colab": {
          "base_uri": "https://localhost:8080/"
        },
        "id": "L72ky-oMtasc",
        "outputId": "3b63dd5f-fb15-433c-c489-e4b0a4fd8c45"
      },
      "source": [
        "whatis(None)\r\n",
        "whatis(True)\r\n",
        "whatis(False)\r\n"
      ],
      "execution_count": 25,
      "outputs": [
        {
          "output_type": "stream",
          "text": [
            "None is None\n",
            "True is True\n",
            "False is False\n"
          ],
          "name": "stdout"
        }
      ]
    },
    {
      "cell_type": "code",
      "metadata": {
        "colab": {
          "base_uri": "https://localhost:8080/"
        },
        "id": "FwbPDvZ3ts1N",
        "outputId": "4978f1fc-fe69-4c47-91f0-523e06197ecf"
      },
      "source": [
        "#위치 인수\r\n",
        "def menu(wine, entree, dessert):\r\n",
        "  return {'wine': wine, 'entree': entree, 'dessert': dessert}\r\n",
        "\r\n",
        "menu('chardonnay','chicken','cake')"
      ],
      "execution_count": 28,
      "outputs": [
        {
          "output_type": "execute_result",
          "data": {
            "text/plain": [
              "{'dessert': 'cake', 'entree': 'chicken', 'wine': 'chardonnay'}"
            ]
          },
          "metadata": {
            "tags": []
          },
          "execution_count": 28
        }
      ]
    },
    {
      "cell_type": "code",
      "metadata": {
        "colab": {
          "base_uri": "https://localhost:8080/"
        },
        "id": "ffMHu_8qubNn",
        "outputId": "43a1c13b-ec41-499c-a4c7-b436bcd3dbbf"
      },
      "source": [
        "menu('beef','bagel','bordeaux')"
      ],
      "execution_count": 29,
      "outputs": [
        {
          "output_type": "execute_result",
          "data": {
            "text/plain": [
              "{'dessert': 'bordeaux', 'entree': 'bagel', 'wine': 'beef'}"
            ]
          },
          "metadata": {
            "tags": []
          },
          "execution_count": 29
        }
      ]
    },
    {
      "cell_type": "code",
      "metadata": {
        "colab": {
          "base_uri": "https://localhost:8080/"
        },
        "id": "NXz-Rpw4uhCk",
        "outputId": "5ae3e17c-5ed9-4ff9-c30e-2a6ba398b498"
      },
      "source": [
        "#키워드 인수\r\n",
        "menu(entree='beef',dessert='bagel',wine='boreaux')"
      ],
      "execution_count": 30,
      "outputs": [
        {
          "output_type": "execute_result",
          "data": {
            "text/plain": [
              "{'dessert': 'bagel', 'entree': 'beef', 'wine': 'boreaux'}"
            ]
          },
          "metadata": {
            "tags": []
          },
          "execution_count": 30
        }
      ]
    },
    {
      "cell_type": "code",
      "metadata": {
        "colab": {
          "base_uri": "https://localhost:8080/"
        },
        "id": "NvbcsB2buxh4",
        "outputId": "63826af0-fca2-46bc-9e78-df87b400d4a9"
      },
      "source": [
        "menu('frontenac', dessert='flan',entree='fish')"
      ],
      "execution_count": 31,
      "outputs": [
        {
          "output_type": "execute_result",
          "data": {
            "text/plain": [
              "{'dessert': 'flan', 'entree': 'fish', 'wine': 'frontenac'}"
            ]
          },
          "metadata": {
            "tags": []
          },
          "execution_count": 31
        }
      ]
    },
    {
      "cell_type": "code",
      "metadata": {
        "id": "ZC0tRuz9vC8E"
      },
      "source": [
        "def menu(wine,entree,dessert='pudding'):\r\n",
        "  return {'wine' : wine, 'entree' : entree, 'dessert' : dessert}\r\n"
      ],
      "execution_count": 32,
      "outputs": []
    },
    {
      "cell_type": "code",
      "metadata": {
        "colab": {
          "base_uri": "https://localhost:8080/"
        },
        "id": "bTbwleMyvTqJ",
        "outputId": "0439f2de-588c-4e42-fa2c-456ec0381b1d"
      },
      "source": [
        "menu('dunkelfelder','duck','doughunt')"
      ],
      "execution_count": 33,
      "outputs": [
        {
          "output_type": "execute_result",
          "data": {
            "text/plain": [
              "{'dessert': 'doughunt', 'entree': 'duck', 'wine': 'dunkelfelder'}"
            ]
          },
          "metadata": {
            "tags": []
          },
          "execution_count": 33
        }
      ]
    },
    {
      "cell_type": "code",
      "metadata": {
        "colab": {
          "base_uri": "https://localhost:8080/"
        },
        "id": "5_fUHe6uvcjm",
        "outputId": "5b1b3edf-3fdc-446b-ec20-9c2b3242227a"
      },
      "source": [
        "menu('dunkelfelder','chicken')"
      ],
      "execution_count": 34,
      "outputs": [
        {
          "output_type": "execute_result",
          "data": {
            "text/plain": [
              "{'dessert': 'pudding', 'entree': 'chicken', 'wine': 'dunkelfelder'}"
            ]
          },
          "metadata": {
            "tags": []
          },
          "execution_count": 34
        }
      ]
    },
    {
      "cell_type": "code",
      "metadata": {
        "colab": {
          "base_uri": "https://localhost:8080/"
        },
        "id": "KeilsMG9viYa",
        "outputId": "b4072a88-3207-4a06-f8d1-5e1f074a781d"
      },
      "source": [
        "menu('dunkelfelder','duck','doughnut')"
      ],
      "execution_count": 35,
      "outputs": [
        {
          "output_type": "execute_result",
          "data": {
            "text/plain": [
              "{'dessert': 'doughnut', 'entree': 'duck', 'wine': 'dunkelfelder'}"
            ]
          },
          "metadata": {
            "tags": []
          },
          "execution_count": 35
        }
      ]
    },
    {
      "cell_type": "code",
      "metadata": {
        "colab": {
          "base_uri": "https://localhost:8080/"
        },
        "id": "3vUypk0xvn58",
        "outputId": "d59757ea-28ff-486b-e527-cfe6b9348190"
      },
      "source": [
        "def buggy(arg, result=[]):\r\n",
        "  result.append(arg)\r\n",
        "  print(result)\r\n",
        "\r\n",
        "buggy('a')\r\n",
        "buggy('b')"
      ],
      "execution_count": 38,
      "outputs": [
        {
          "output_type": "stream",
          "text": [
            "['a']\n",
            "['a', 'b']\n"
          ],
          "name": "stdout"
        }
      ]
    },
    {
      "cell_type": "code",
      "metadata": {
        "colab": {
          "base_uri": "https://localhost:8080/"
        },
        "id": "2kxRwk4bwGJo",
        "outputId": "c96669bb-b0ba-4ad9-a8af-ef2b35a01082"
      },
      "source": [
        "def works(arg):\r\n",
        "  result = []\r\n",
        "  result.append(arg)\r\n",
        "  return result\r\n",
        "\r\n",
        "works('a')\r\n",
        "works('b')"
      ],
      "execution_count": 41,
      "outputs": [
        {
          "output_type": "execute_result",
          "data": {
            "text/plain": [
              "['b']"
            ]
          },
          "metadata": {
            "tags": []
          },
          "execution_count": 41
        }
      ]
    },
    {
      "cell_type": "code",
      "metadata": {
        "colab": {
          "base_uri": "https://localhost:8080/"
        },
        "id": "IgoXIZRZwjGx",
        "outputId": "0275d28f-7280-436e-84da-61120456eccd"
      },
      "source": [
        "def nonbuggy(arg, result=None):\r\n",
        "  if result is None:\r\n",
        "    result = []\r\n",
        "  result.append(arg)\r\n",
        "  print(result)\r\n",
        "\r\n",
        "nonbuggy('a')\r\n",
        "nonbuggy('b')"
      ],
      "execution_count": 43,
      "outputs": [
        {
          "output_type": "stream",
          "text": [
            "['a']\n",
            "['b']\n"
          ],
          "name": "stdout"
        }
      ]
    },
    {
      "cell_type": "code",
      "metadata": {
        "id": "DImMgOEvxQoq"
      },
      "source": [
        "#216쪽까지함"
      ],
      "execution_count": null,
      "outputs": []
    }
  ]
}