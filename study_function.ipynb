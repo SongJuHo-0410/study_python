{
  "nbformat": 4,
  "nbformat_minor": 0,
  "metadata": {
    "colab": {
      "name": "study_function.ipynb",
      "provenance": [],
      "collapsed_sections": [],
      "authorship_tag": "ABX9TyN7y/gUuR3H9VyGQI5hHmF0",
      "include_colab_link": true
    },
    "kernelspec": {
      "name": "python3",
      "display_name": "Python 3"
    }
  },
  "cells": [
    {
      "cell_type": "markdown",
      "metadata": {
        "id": "view-in-github",
        "colab_type": "text"
      },
      "source": [
        "<a href=\"https://colab.research.google.com/github/SongJuHo-0410/study_python/blob/main/study_function.ipynb\" target=\"_parent\"><img src=\"https://colab.research.google.com/assets/colab-badge.svg\" alt=\"Open In Colab\"/></a>"
      ]
    },
    {
      "cell_type": "code",
      "metadata": {
        "id": "FKNiExQ1qtyJ"
      },
      "source": [
        "#함수\r\n",
        "def do_nothing():\r\n",
        "  pass"
      ],
      "execution_count": null,
      "outputs": []
    },
    {
      "cell_type": "code",
      "metadata": {
        "id": "OoB8MZcgq_1x"
      },
      "source": [
        "do_nothing()"
      ],
      "execution_count": null,
      "outputs": []
    },
    {
      "cell_type": "code",
      "metadata": {
        "colab": {
          "base_uri": "https://localhost:8080/"
        },
        "id": "TpOtN9E8rC0D",
        "outputId": "3ea563f1-53e3-44de-a8ba-c41d0b27b165"
      },
      "source": [
        "def make_a_sound():\r\n",
        "  print('quack')\r\n",
        "make_a_sound()\r\n"
      ],
      "execution_count": null,
      "outputs": [
        {
          "output_type": "stream",
          "text": [
            "quack\n"
          ],
          "name": "stdout"
        }
      ]
    },
    {
      "cell_type": "code",
      "metadata": {
        "id": "MWGwscILrL7v"
      },
      "source": [
        "def agree():\r\n",
        "  return True\r\n",
        "  "
      ],
      "execution_count": null,
      "outputs": []
    },
    {
      "cell_type": "code",
      "metadata": {
        "colab": {
          "base_uri": "https://localhost:8080/"
        },
        "id": "-PzPr2wkrR53",
        "outputId": "6bb310f6-f823-42ee-d0da-1697bc73d8bf"
      },
      "source": [
        "if agree():\r\n",
        "  print('Splendid!')\r\n",
        "else:\r\n",
        "  print('That was unexpected.')\r\n"
      ],
      "execution_count": null,
      "outputs": [
        {
          "output_type": "stream",
          "text": [
            "Splendid!\n"
          ],
          "name": "stdout"
        }
      ]
    },
    {
      "cell_type": "code",
      "metadata": {
        "id": "7SgxDerardG2"
      },
      "source": [
        "def echo(anything):\r\n",
        "  return anything + ' ' + anything\r\n",
        "  "
      ],
      "execution_count": null,
      "outputs": []
    },
    {
      "cell_type": "code",
      "metadata": {
        "colab": {
          "base_uri": "https://localhost:8080/",
          "height": 35
        },
        "id": "K3M4XcOsrlqY",
        "outputId": "11c903f7-ab02-4f0e-a38e-608eae2b85e2"
      },
      "source": [
        "echo('Rumplestiltskin')\r\n"
      ],
      "execution_count": null,
      "outputs": [
        {
          "output_type": "execute_result",
          "data": {
            "application/vnd.google.colaboratory.intrinsic+json": {
              "type": "string"
            },
            "text/plain": [
              "'Rumplestiltskin Rumplestiltskin'"
            ]
          },
          "metadata": {
            "tags": []
          },
          "execution_count": 10
        }
      ]
    },
    {
      "cell_type": "code",
      "metadata": {
        "id": "-pfJgYVyrq-_"
      },
      "source": [
        "def commentary(color):\r\n",
        "  if color == 'red':\r\n",
        "    return \"It's a tomato\"\r\n",
        "  elif color == 'Green':\r\n",
        "    return \"It's a green pepper\"\r\n",
        "  elif color == 'bee purple':\r\n",
        "    return \"I don't know what it is, but only bees can see it\"\r\n",
        "  else:\r\n",
        "    return \"I've never heard of the color\" + color + \".\"\r\n",
        "\r\n"
      ],
      "execution_count": null,
      "outputs": []
    },
    {
      "cell_type": "code",
      "metadata": {
        "id": "mTOUm-3UsNob"
      },
      "source": [
        "comment = commentary('blue')"
      ],
      "execution_count": null,
      "outputs": []
    },
    {
      "cell_type": "code",
      "metadata": {
        "colab": {
          "base_uri": "https://localhost:8080/"
        },
        "id": "qQuq3QzCslZR",
        "outputId": "247aeb81-d134-4130-f715-2f57f8fd1baa"
      },
      "source": [
        "print(comment)"
      ],
      "execution_count": null,
      "outputs": [
        {
          "output_type": "stream",
          "text": [
            "I've never heard of the colorblue.\n"
          ],
          "name": "stdout"
        }
      ]
    },
    {
      "cell_type": "code",
      "metadata": {
        "colab": {
          "base_uri": "https://localhost:8080/"
        },
        "id": "I-JT_xzAsp_c",
        "outputId": "81ab9115-db02-47bb-8a40-9420ab052c5d"
      },
      "source": [
        "print(do_nothing())"
      ],
      "execution_count": null,
      "outputs": [
        {
          "output_type": "stream",
          "text": [
            "None\n"
          ],
          "name": "stdout"
        }
      ]
    },
    {
      "cell_type": "code",
      "metadata": {
        "colab": {
          "base_uri": "https://localhost:8080/"
        },
        "id": "qEW9fOKlstlL",
        "outputId": "a701ccd2-2863-4282-e1ed-cdc206ed66e4"
      },
      "source": [
        "thing = None\r\n",
        "if thing:\r\n",
        "  print(\"It's some thing\")\r\n",
        "else:\r\n",
        "  print(\"It's no thing\")\r\n"
      ],
      "execution_count": null,
      "outputs": [
        {
          "output_type": "stream",
          "text": [
            "It's no thing\n"
          ],
          "name": "stdout"
        }
      ]
    },
    {
      "cell_type": "code",
      "metadata": {
        "colab": {
          "base_uri": "https://localhost:8080/"
        },
        "id": "ZOpjJ55Ys95u",
        "outputId": "a6407762-069f-4316-be15-274b0303e9ca"
      },
      "source": [
        "thing = None\r\n",
        "if thing is None:\r\n",
        "  print(\"It's some thing\")\r\n",
        "else:\r\n",
        "  print(\"It's no thing\")"
      ],
      "execution_count": null,
      "outputs": [
        {
          "output_type": "stream",
          "text": [
            "It's some thing\n"
          ],
          "name": "stdout"
        }
      ]
    },
    {
      "cell_type": "code",
      "metadata": {
        "colab": {
          "base_uri": "https://localhost:8080/"
        },
        "id": "sSAp4cM2tITk",
        "outputId": "cced181a-4f94-4080-ecc7-f51d12d1384b"
      },
      "source": [
        "def whatis(thing):\r\n",
        "  if thing is None:\r\n",
        "    print(thing, \"is None\")\r\n",
        "  elif thing:\r\n",
        "    print(thing, \"is True\")\r\n",
        "  else:\r\n",
        "    print(thing, \"is False\")\r\n",
        "\r\n",
        "whatis(None)\r\n"
      ],
      "execution_count": null,
      "outputs": [
        {
          "output_type": "stream",
          "text": [
            "None is None\n"
          ],
          "name": "stdout"
        }
      ]
    },
    {
      "cell_type": "code",
      "metadata": {
        "colab": {
          "base_uri": "https://localhost:8080/"
        },
        "id": "L72ky-oMtasc",
        "outputId": "3b63dd5f-fb15-433c-c489-e4b0a4fd8c45"
      },
      "source": [
        "whatis(None)\r\n",
        "whatis(True)\r\n",
        "whatis(False)\r\n"
      ],
      "execution_count": null,
      "outputs": [
        {
          "output_type": "stream",
          "text": [
            "None is None\n",
            "True is True\n",
            "False is False\n"
          ],
          "name": "stdout"
        }
      ]
    },
    {
      "cell_type": "code",
      "metadata": {
        "colab": {
          "base_uri": "https://localhost:8080/"
        },
        "id": "FwbPDvZ3ts1N",
        "outputId": "4978f1fc-fe69-4c47-91f0-523e06197ecf"
      },
      "source": [
        "#위치 인수\r\n",
        "def menu(wine, entree, dessert):\r\n",
        "  return {'wine': wine, 'entree': entree, 'dessert': dessert}\r\n",
        "\r\n",
        "menu('chardonnay','chicken','cake')"
      ],
      "execution_count": null,
      "outputs": [
        {
          "output_type": "execute_result",
          "data": {
            "text/plain": [
              "{'dessert': 'cake', 'entree': 'chicken', 'wine': 'chardonnay'}"
            ]
          },
          "metadata": {
            "tags": []
          },
          "execution_count": 28
        }
      ]
    },
    {
      "cell_type": "code",
      "metadata": {
        "colab": {
          "base_uri": "https://localhost:8080/"
        },
        "id": "ffMHu_8qubNn",
        "outputId": "43a1c13b-ec41-499c-a4c7-b436bcd3dbbf"
      },
      "source": [
        "menu('beef','bagel','bordeaux')"
      ],
      "execution_count": null,
      "outputs": [
        {
          "output_type": "execute_result",
          "data": {
            "text/plain": [
              "{'dessert': 'bordeaux', 'entree': 'bagel', 'wine': 'beef'}"
            ]
          },
          "metadata": {
            "tags": []
          },
          "execution_count": 29
        }
      ]
    },
    {
      "cell_type": "code",
      "metadata": {
        "colab": {
          "base_uri": "https://localhost:8080/"
        },
        "id": "NXz-Rpw4uhCk",
        "outputId": "5ae3e17c-5ed9-4ff9-c30e-2a6ba398b498"
      },
      "source": [
        "#키워드 인수\r\n",
        "menu(entree='beef',dessert='bagel',wine='boreaux')"
      ],
      "execution_count": null,
      "outputs": [
        {
          "output_type": "execute_result",
          "data": {
            "text/plain": [
              "{'dessert': 'bagel', 'entree': 'beef', 'wine': 'boreaux'}"
            ]
          },
          "metadata": {
            "tags": []
          },
          "execution_count": 30
        }
      ]
    },
    {
      "cell_type": "code",
      "metadata": {
        "colab": {
          "base_uri": "https://localhost:8080/"
        },
        "id": "NvbcsB2buxh4",
        "outputId": "63826af0-fca2-46bc-9e78-df87b400d4a9"
      },
      "source": [
        "menu('frontenac', dessert='flan',entree='fish')"
      ],
      "execution_count": null,
      "outputs": [
        {
          "output_type": "execute_result",
          "data": {
            "text/plain": [
              "{'dessert': 'flan', 'entree': 'fish', 'wine': 'frontenac'}"
            ]
          },
          "metadata": {
            "tags": []
          },
          "execution_count": 31
        }
      ]
    },
    {
      "cell_type": "code",
      "metadata": {
        "id": "ZC0tRuz9vC8E"
      },
      "source": [
        "def menu(wine,entree,dessert='pudding'):\r\n",
        "  return {'wine' : wine, 'entree' : entree, 'dessert' : dessert}\r\n"
      ],
      "execution_count": null,
      "outputs": []
    },
    {
      "cell_type": "code",
      "metadata": {
        "colab": {
          "base_uri": "https://localhost:8080/"
        },
        "id": "bTbwleMyvTqJ",
        "outputId": "0439f2de-588c-4e42-fa2c-456ec0381b1d"
      },
      "source": [
        "menu('dunkelfelder','duck','doughunt')"
      ],
      "execution_count": null,
      "outputs": [
        {
          "output_type": "execute_result",
          "data": {
            "text/plain": [
              "{'dessert': 'doughunt', 'entree': 'duck', 'wine': 'dunkelfelder'}"
            ]
          },
          "metadata": {
            "tags": []
          },
          "execution_count": 33
        }
      ]
    },
    {
      "cell_type": "code",
      "metadata": {
        "colab": {
          "base_uri": "https://localhost:8080/"
        },
        "id": "5_fUHe6uvcjm",
        "outputId": "5b1b3edf-3fdc-446b-ec20-9c2b3242227a"
      },
      "source": [
        "menu('dunkelfelder','chicken')"
      ],
      "execution_count": null,
      "outputs": [
        {
          "output_type": "execute_result",
          "data": {
            "text/plain": [
              "{'dessert': 'pudding', 'entree': 'chicken', 'wine': 'dunkelfelder'}"
            ]
          },
          "metadata": {
            "tags": []
          },
          "execution_count": 34
        }
      ]
    },
    {
      "cell_type": "code",
      "metadata": {
        "colab": {
          "base_uri": "https://localhost:8080/"
        },
        "id": "KeilsMG9viYa",
        "outputId": "b4072a88-3207-4a06-f8d1-5e1f074a781d"
      },
      "source": [
        "menu('dunkelfelder','duck','doughnut')"
      ],
      "execution_count": null,
      "outputs": [
        {
          "output_type": "execute_result",
          "data": {
            "text/plain": [
              "{'dessert': 'doughnut', 'entree': 'duck', 'wine': 'dunkelfelder'}"
            ]
          },
          "metadata": {
            "tags": []
          },
          "execution_count": 35
        }
      ]
    },
    {
      "cell_type": "code",
      "metadata": {
        "colab": {
          "base_uri": "https://localhost:8080/"
        },
        "id": "3vUypk0xvn58",
        "outputId": "d59757ea-28ff-486b-e527-cfe6b9348190"
      },
      "source": [
        "def buggy(arg, result=[]):\r\n",
        "  result.append(arg)\r\n",
        "  print(result)\r\n",
        "\r\n",
        "buggy('a')\r\n",
        "buggy('b')"
      ],
      "execution_count": null,
      "outputs": [
        {
          "output_type": "stream",
          "text": [
            "['a']\n",
            "['a', 'b']\n"
          ],
          "name": "stdout"
        }
      ]
    },
    {
      "cell_type": "code",
      "metadata": {
        "colab": {
          "base_uri": "https://localhost:8080/"
        },
        "id": "2kxRwk4bwGJo",
        "outputId": "c96669bb-b0ba-4ad9-a8af-ef2b35a01082"
      },
      "source": [
        "def works(arg):\r\n",
        "  result = []\r\n",
        "  result.append(arg)\r\n",
        "  return result\r\n",
        "\r\n",
        "works('a')\r\n",
        "works('b')"
      ],
      "execution_count": null,
      "outputs": [
        {
          "output_type": "execute_result",
          "data": {
            "text/plain": [
              "['b']"
            ]
          },
          "metadata": {
            "tags": []
          },
          "execution_count": 41
        }
      ]
    },
    {
      "cell_type": "code",
      "metadata": {
        "colab": {
          "base_uri": "https://localhost:8080/"
        },
        "id": "IgoXIZRZwjGx",
        "outputId": "0275d28f-7280-436e-84da-61120456eccd"
      },
      "source": [
        "def nonbuggy(arg, result=None):\r\n",
        "  if result is None:\r\n",
        "    result = []\r\n",
        "  result.append(arg)\r\n",
        "  print(result)\r\n",
        "\r\n",
        "nonbuggy('a')\r\n",
        "nonbuggy('b')"
      ],
      "execution_count": null,
      "outputs": [
        {
          "output_type": "stream",
          "text": [
            "['a']\n",
            "['b']\n"
          ],
          "name": "stdout"
        }
      ]
    },
    {
      "cell_type": "code",
      "metadata": {
        "colab": {
          "base_uri": "https://localhost:8080/"
        },
        "id": "DImMgOEvxQoq",
        "outputId": "4d89c4e5-8308-49f8-81e2-25dbb055d30d"
      },
      "source": [
        "def print_args(*args):\r\n",
        "  print('Positional tuple:',args)\r\n",
        "  "
      ],
      "execution_count": null,
      "outputs": [
        {
          "output_type": "stream",
          "text": [
            "Positional tuple: ()\n"
          ],
          "name": "stdout"
        }
      ]
    },
    {
      "cell_type": "code",
      "metadata": {
        "colab": {
          "base_uri": "https://localhost:8080/"
        },
        "id": "6k3LGiUc8_Cb",
        "outputId": "cc50f5be-a41d-4738-d963-c72f87cb6c95"
      },
      "source": [
        "print_args()"
      ],
      "execution_count": null,
      "outputs": [
        {
          "output_type": "stream",
          "text": [
            "Positional tuple: ()\n"
          ],
          "name": "stdout"
        }
      ]
    },
    {
      "cell_type": "code",
      "metadata": {
        "colab": {
          "base_uri": "https://localhost:8080/"
        },
        "id": "761Rxdcn9NrM",
        "outputId": "9f2e3cc9-542f-4aa6-fcbb-c0113a057ad4"
      },
      "source": [
        "print_args(3,2,1,'wait!','uh...')\r\n"
      ],
      "execution_count": null,
      "outputs": [
        {
          "output_type": "stream",
          "text": [
            "Positional tuple: (3, 2, 1, 'wait!', 'uh...')\n"
          ],
          "name": "stdout"
        }
      ]
    },
    {
      "cell_type": "code",
      "metadata": {
        "colab": {
          "base_uri": "https://localhost:8080/"
        },
        "id": "8e1YtuBI9Z-W",
        "outputId": "541067c7-614b-4b80-daaf-c4df10aaa0e5"
      },
      "source": [
        "def print_more(required1, required2, *args):\r\n",
        "  print('Need this one:',required1)\r\n",
        "  print('Need this one:. too:', required2)\r\n",
        "  print('All the rest:', args)\r\n",
        "\r\n",
        "print_more('cap','gloves','scarf;','monocle','mustache wax')\r\n"
      ],
      "execution_count": null,
      "outputs": [
        {
          "output_type": "stream",
          "text": [
            "Need this one: cap\n",
            "Need this one:. too: gloves\n",
            "All the rest: ('scarf;', 'monocle', 'mustache wax')\n"
          ],
          "name": "stdout"
        }
      ]
    },
    {
      "cell_type": "code",
      "metadata": {
        "colab": {
          "base_uri": "https://localhost:8080/"
        },
        "id": "cn7Arof096KH",
        "outputId": "45bd7934-3c6b-4381-c9f3-ce0a2bdf34fb"
      },
      "source": [
        "print_args(2,5,7,'x')\r\n",
        "args = (2,5,7,'x')\r\n",
        "print_args(args)\r\n",
        "print_args(*args)\r\n"
      ],
      "execution_count": null,
      "outputs": [
        {
          "output_type": "stream",
          "text": [
            "Positional tuple: (2, 5, 7, 'x')\n",
            "Positional tuple: ((2, 5, 7, 'x'),)\n",
            "Positional tuple: (2, 5, 7, 'x')\n"
          ],
          "name": "stdout"
        }
      ]
    },
    {
      "cell_type": "code",
      "metadata": {
        "id": "9cOycpvP-SWU"
      },
      "source": [
        "*args"
      ],
      "execution_count": null,
      "outputs": []
    },
    {
      "cell_type": "code",
      "metadata": {
        "id": "eqQdWu8P-VRM",
        "colab": {
          "base_uri": "https://localhost:8080/"
        },
        "outputId": "8720a83b-26ee-4779-87a7-65e5222beabe"
      },
      "source": [
        "def print_kwargs(**kwargs):\r\n",
        "  print('Keyword arguments:', kwargs)\r\n",
        "\r\n",
        "print_kwargs()"
      ],
      "execution_count": null,
      "outputs": [
        {
          "output_type": "stream",
          "text": [
            "Keyword arguments: {}\n"
          ],
          "name": "stdout"
        }
      ]
    },
    {
      "cell_type": "code",
      "metadata": {
        "id": "6FgnqsguKYg7",
        "colab": {
          "base_uri": "https://localhost:8080/"
        },
        "outputId": "9af548b9-d00f-45fa-9e17-ea499cbc3553"
      },
      "source": [
        "print_kwargs(wine = 'merlot',entree = 'mutton', dessert = 'macaroon')\r\n"
      ],
      "execution_count": null,
      "outputs": [
        {
          "output_type": "stream",
          "text": [
            "Keyword arguments: {'wine': 'merlot', 'entree': 'mutton', 'dessert': 'macaroon'}\n"
          ],
          "name": "stdout"
        }
      ]
    },
    {
      "cell_type": "code",
      "metadata": {
        "colab": {
          "base_uri": "https://localhost:8080/"
        },
        "id": "-Qjesy7XLUbf",
        "outputId": "5391d2ac-299f-4a89-ed1e-20298af1c992"
      },
      "source": [
        "def print_data(data, * ,start=0, end=100):\r\n",
        "  for value in (data[start:end]):\r\n",
        "    print(value)\r\n",
        "\r\n",
        "data = ['a','b','c','d','e','f'] \r\n",
        "print_data(data)\r\n",
        "\r\n",
        "print_data(data, start=4)\r\n",
        "\r\n",
        "print_data(data, end=2)"
      ],
      "execution_count": null,
      "outputs": [
        {
          "output_type": "stream",
          "text": [
            "a\n",
            "b\n",
            "c\n",
            "d\n",
            "e\n",
            "f\n",
            "e\n",
            "f\n",
            "a\n",
            "b\n"
          ],
          "name": "stdout"
        }
      ]
    },
    {
      "cell_type": "code",
      "metadata": {
        "colab": {
          "base_uri": "https://localhost:8080/"
        },
        "id": "MWqshFRJM-do",
        "outputId": "dce516d2-c816-4b92-96d6-322405e69fb1"
      },
      "source": [
        "outside = ['one','fine','day']\r\n",
        "def mangle(arg):\r\n",
        "  arg[1] = 'terrible!'\r\n",
        "\r\n",
        "outside\r\n",
        "mangle(outside)\r\n",
        "outside"
      ],
      "execution_count": null,
      "outputs": [
        {
          "output_type": "execute_result",
          "data": {
            "text/plain": [
              "['one', 'terrible!', 'day']"
            ]
          },
          "metadata": {
            "tags": []
          },
          "execution_count": 23
        }
      ]
    },
    {
      "cell_type": "code",
      "metadata": {
        "id": "tgMI12hqNsWv"
      },
      "source": [
        "def echo(anything):\r\n",
        "  'echo returns its input argument'\r\n",
        "  return anything\r\n",
        "\r\n",
        "  help(echo)"
      ],
      "execution_count": null,
      "outputs": []
    },
    {
      "cell_type": "code",
      "metadata": {
        "id": "aLuyI-WfN0wJ"
      },
      "source": [
        "def print_if_true(thing, check):\r\n",
        "  '''\r\n",
        "  Prints the first argument if a second argument is true.\r\n",
        "  The peration is:\r\n",
        "    1. Check whether the *second* argument is true.\r\n",
        "    2. If it is, print the *first* argument.\r\n",
        "  '''\r\n",
        "\r\n",
        "    if check:\r\n",
        "      print(thing)\r\n"
      ],
      "execution_count": null,
      "outputs": []
    },
    {
      "cell_type": "code",
      "metadata": {
        "colab": {
          "base_uri": "https://localhost:8080/"
        },
        "id": "GF29UfGyOZ5q",
        "outputId": "00796e89-c8de-4b45-dcb0-bc1211cd494b"
      },
      "source": [
        "help(echo)\r\n",
        "print(echo.__doc__)"
      ],
      "execution_count": null,
      "outputs": [
        {
          "output_type": "stream",
          "text": [
            "Help on function echo in module __main__:\n",
            "\n",
            "echo(anything)\n",
            "    echo returns its input argument\n",
            "\n",
            "echo returns its input argument\n"
          ],
          "name": "stdout"
        }
      ]
    },
    {
      "cell_type": "code",
      "metadata": {
        "id": "sAo9UdsEOwlL"
      },
      "source": [
        "def answer():\r\n",
        "  print(42)"
      ],
      "execution_count": null,
      "outputs": []
    },
    {
      "cell_type": "code",
      "metadata": {
        "colab": {
          "base_uri": "https://localhost:8080/"
        },
        "id": "As7Bj9e4O9Vc",
        "outputId": "dbc7fb61-6b70-4d5a-d6aa-5ca01de57b55"
      },
      "source": [
        "answer()"
      ],
      "execution_count": null,
      "outputs": [
        {
          "output_type": "stream",
          "text": [
            "42\n"
          ],
          "name": "stdout"
        }
      ]
    },
    {
      "cell_type": "code",
      "metadata": {
        "id": "Nx0EZzeLO_Wr"
      },
      "source": [
        "def run_something(func):\r\n",
        "  func()\r\n",
        "  "
      ],
      "execution_count": null,
      "outputs": []
    },
    {
      "cell_type": "code",
      "metadata": {
        "colab": {
          "base_uri": "https://localhost:8080/"
        },
        "id": "TdNLPguHPD6b",
        "outputId": "48ebef43-9bf8-4478-a4a5-b863147f61fa"
      },
      "source": [
        "run_something(answer)"
      ],
      "execution_count": null,
      "outputs": [
        {
          "output_type": "stream",
          "text": [
            "42\n"
          ],
          "name": "stdout"
        }
      ]
    },
    {
      "cell_type": "code",
      "metadata": {
        "colab": {
          "base_uri": "https://localhost:8080/"
        },
        "id": "qHlAzwP5PHp0",
        "outputId": "adc32877-7fc7-4bdd-9400-55ca899018a5"
      },
      "source": [
        "type(run_something)"
      ],
      "execution_count": null,
      "outputs": [
        {
          "output_type": "execute_result",
          "data": {
            "text/plain": [
              "function"
            ]
          },
          "metadata": {
            "tags": []
          },
          "execution_count": 34
        }
      ]
    },
    {
      "cell_type": "code",
      "metadata": {
        "id": "2ZDYR9xJPLOk"
      },
      "source": [
        "def add_args(arg1, arg2):\r\n",
        "  print(arg1 + arg2)\r\n",
        "  "
      ],
      "execution_count": null,
      "outputs": []
    },
    {
      "cell_type": "code",
      "metadata": {
        "colab": {
          "base_uri": "https://localhost:8080/"
        },
        "id": "Q_DecaI_PT4Y",
        "outputId": "858b4ff4-3162-41c2-bb4c-7dcd322cea31"
      },
      "source": [
        "type(add_args)"
      ],
      "execution_count": null,
      "outputs": [
        {
          "output_type": "execute_result",
          "data": {
            "text/plain": [
              "function"
            ]
          },
          "metadata": {
            "tags": []
          },
          "execution_count": 36
        }
      ]
    },
    {
      "cell_type": "code",
      "metadata": {
        "id": "EYGKDPh6PXAm"
      },
      "source": [
        "def run_something_with_args(func, arg1, arg2):\r\n",
        "  func(arg1, arg2)\r\n",
        "  "
      ],
      "execution_count": null,
      "outputs": []
    },
    {
      "cell_type": "code",
      "metadata": {
        "colab": {
          "base_uri": "https://localhost:8080/"
        },
        "id": "1kTFONimPfBa",
        "outputId": "8fe78349-4881-4297-d192-c3424dcc3fbd"
      },
      "source": [
        "run_something_with_args(add_args, 5, 9)"
      ],
      "execution_count": null,
      "outputs": [
        {
          "output_type": "stream",
          "text": [
            "14\n"
          ],
          "name": "stdout"
        }
      ]
    },
    {
      "cell_type": "code",
      "metadata": {
        "colab": {
          "base_uri": "https://localhost:8080/"
        },
        "id": "hMwVUZ8gPkeK",
        "outputId": "bb8e1316-c97b-4c9a-d319-778242b04749"
      },
      "source": [
        "add_args(5,9)"
      ],
      "execution_count": null,
      "outputs": [
        {
          "output_type": "stream",
          "text": [
            "14\n"
          ],
          "name": "stdout"
        }
      ]
    },
    {
      "cell_type": "code",
      "metadata": {
        "id": "e_STfvjaPoQG"
      },
      "source": [
        "def sum_args(*args):\r\n",
        "  return sum(args)"
      ],
      "execution_count": 54,
      "outputs": []
    },
    {
      "cell_type": "code",
      "metadata": {
        "id": "qFl1EiI7Ptvu"
      },
      "source": [
        "def run_with_positional_args(func, *args):\r\n",
        "  return func(*args)\r\n",
        "\r\n",
        "  run_with_positional_args(sum_args,1,2,3,4)\r\n",
        "  "
      ],
      "execution_count": 52,
      "outputs": []
    },
    {
      "cell_type": "code",
      "metadata": {
        "colab": {
          "base_uri": "https://localhost:8080/"
        },
        "id": "Weix8YYDQWf8",
        "outputId": "883f615d-02d0-45e8-f756-cdf86b14f851"
      },
      "source": [
        "run_with_positional_args(sum_args,1,2,3,4)"
      ],
      "execution_count": 55,
      "outputs": [
        {
          "output_type": "execute_result",
          "data": {
            "text/plain": [
              "10"
            ]
          },
          "metadata": {
            "tags": []
          },
          "execution_count": 55
        }
      ]
    },
    {
      "cell_type": "code",
      "metadata": {
        "colab": {
          "base_uri": "https://localhost:8080/"
        },
        "id": "a7HkkyRYQ_O4",
        "outputId": "1335a09d-ffdb-462c-c03e-59b1829aa613"
      },
      "source": [
        "def outer(a,b):\r\n",
        "  def inner(c,d):\r\n",
        "    return c + d\r\n",
        "  return inner(a, b)\r\n",
        "\r\n",
        "outer(4,7)"
      ],
      "execution_count": 56,
      "outputs": [
        {
          "output_type": "execute_result",
          "data": {
            "text/plain": [
              "11"
            ]
          },
          "metadata": {
            "tags": []
          },
          "execution_count": 56
        }
      ]
    },
    {
      "cell_type": "code",
      "metadata": {
        "colab": {
          "base_uri": "https://localhost:8080/",
          "height": 35
        },
        "id": "87WBXLchS-E4",
        "outputId": "d101ff4f-c5c7-4966-a3cd-e80c171c48b5"
      },
      "source": [
        "def knights(saying):\r\n",
        "  def inner(quote):\r\n",
        "   return \"We are the knights who say: '%s'\" %quote\r\n",
        "  return inner(saying)\r\n",
        "\r\n",
        "knights('Ni!')"
      ],
      "execution_count": 61,
      "outputs": [
        {
          "output_type": "execute_result",
          "data": {
            "application/vnd.google.colaboratory.intrinsic+json": {
              "type": "string"
            },
            "text/plain": [
              "\"We are the knights who say: 'Ni!'\""
            ]
          },
          "metadata": {
            "tags": []
          },
          "execution_count": 61
        }
      ]
    },
    {
      "cell_type": "code",
      "metadata": {
        "id": "DDnZoPcETgOY"
      },
      "source": [
        "def knights2(saying):\r\n",
        "  def inner2():\r\n",
        "    return \"We are the knights who say: '%s'\" %saying\r\n",
        "  return inner2\r\n",
        "\r\n",
        "a = knights2('Duck')\r\n",
        "b = knights2('Hasenpfeffer')"
      ],
      "execution_count": 64,
      "outputs": []
    },
    {
      "cell_type": "code",
      "metadata": {
        "colab": {
          "base_uri": "https://localhost:8080/"
        },
        "id": "v0EPKjMrT9Rj",
        "outputId": "17bd025f-7afc-4b6b-ae0c-9c9d2a115288"
      },
      "source": [
        "type(a)\r\n",
        "type(b)"
      ],
      "execution_count": 66,
      "outputs": [
        {
          "output_type": "execute_result",
          "data": {
            "text/plain": [
              "function"
            ]
          },
          "metadata": {
            "tags": []
          },
          "execution_count": 66
        }
      ]
    },
    {
      "cell_type": "code",
      "metadata": {
        "colab": {
          "base_uri": "https://localhost:8080/"
        },
        "id": "eF-zCbWLUBNJ",
        "outputId": "f02686a7-1e02-4472-f988-37ae45957714"
      },
      "source": [
        "a\r\n",
        "b"
      ],
      "execution_count": 68,
      "outputs": [
        {
          "output_type": "execute_result",
          "data": {
            "text/plain": [
              "<function __main__.knights2.<locals>.inner2>"
            ]
          },
          "metadata": {
            "tags": []
          },
          "execution_count": 68
        }
      ]
    },
    {
      "cell_type": "code",
      "metadata": {
        "id": "U6iqYxB9UEiD"
      },
      "source": [
        "#226쪽까지함"
      ],
      "execution_count": null,
      "outputs": []
    }
  ]
}