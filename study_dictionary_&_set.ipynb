{
  "nbformat": 4,
  "nbformat_minor": 0,
  "metadata": {
    "colab": {
      "name": "study_dictionary & set.ipynb",
      "provenance": [],
      "collapsed_sections": [],
      "authorship_tag": "ABX9TyNIGl9SpbixuR7RVjjnRcxK",
      "include_colab_link": true
    },
    "kernelspec": {
      "name": "python3",
      "display_name": "Python 3"
    }
  },
  "cells": [
    {
      "cell_type": "markdown",
      "metadata": {
        "id": "view-in-github",
        "colab_type": "text"
      },
      "source": [
        "<a href=\"https://colab.research.google.com/github/SongJuHo-0410/study_python/blob/main/study_dictionary_%26_set.ipynb\" target=\"_parent\"><img src=\"https://colab.research.google.com/assets/colab-badge.svg\" alt=\"Open In Colab\"/></a>"
      ]
    },
    {
      "cell_type": "code",
      "metadata": {
        "colab": {
          "base_uri": "https://localhost:8080/"
        },
        "id": "Td6nUjbJWmn5",
        "outputId": "79004892-7659-4345-9154-42a21d7684a8"
      },
      "source": [
        "#생성하기\r\n",
        "empty_dict = {}\r\n",
        "empty_dict\r\n"
      ],
      "execution_count": null,
      "outputs": [
        {
          "output_type": "execute_result",
          "data": {
            "text/plain": [
              "{}"
            ]
          },
          "metadata": {
            "tags": []
          },
          "execution_count": 2
        }
      ]
    },
    {
      "cell_type": "code",
      "metadata": {
        "colab": {
          "base_uri": "https://localhost:8080/"
        },
        "id": "q0c8o_YQXD8a",
        "outputId": "1edf196c-a671-4235-b4ce-9e9a73970c1b"
      },
      "source": [
        "#생성하기\r\n",
        "acme_customer = {'first': 'Wile', 'middle':'E', 'last':'Coyote'}\r\n",
        "acme_customer\r\n"
      ],
      "execution_count": null,
      "outputs": [
        {
          "output_type": "execute_result",
          "data": {
            "text/plain": [
              "{'first': 'Wile', 'last': 'Coyote', 'middle': 'E'}"
            ]
          },
          "metadata": {
            "tags": []
          },
          "execution_count": 5
        }
      ]
    },
    {
      "cell_type": "code",
      "metadata": {
        "colab": {
          "base_uri": "https://localhost:8080/"
        },
        "id": "4cK7nYhQXjLb",
        "outputId": "743edf41-bceb-4d6c-dbae-a590efd52dc1"
      },
      "source": [
        "#다른방법\r\n",
        "acme_customer = dict(first='Wile', middle = 'E', last = 'Coyote') \r\n",
        "acme_customer\r\n"
      ],
      "execution_count": null,
      "outputs": [
        {
          "output_type": "execute_result",
          "data": {
            "text/plain": [
              "{'first': 'Wile', 'last': 'Coyote', 'middle': 'E'}"
            ]
          },
          "metadata": {
            "tags": []
          },
          "execution_count": 7
        }
      ]
    },
    {
      "cell_type": "code",
      "metadata": {
        "colab": {
          "base_uri": "https://localhost:8080/"
        },
        "id": "YQm2YLC-X5LA",
        "outputId": "6d10c4c6-7525-4f8a-9bc6-70e121707f92"
      },
      "source": [
        "#공백과 예약어가 없어야함\r\n",
        "x = dict(name='Elmer',def='hunter')\r\n"
      ],
      "execution_count": null,
      "outputs": [
        {
          "output_type": "execute_result",
          "data": {
            "text/plain": [
              "{'e': 'hunter', 'name': 'Elmer'}"
            ]
          },
          "metadata": {
            "tags": []
          },
          "execution_count": 12
        }
      ]
    },
    {
      "cell_type": "code",
      "metadata": {
        "colab": {
          "base_uri": "https://localhost:8080/"
        },
        "id": "iCA5eSlUYhK6",
        "outputId": "df5b3d5c-26f8-4039-d8f2-50b8589d3d15"
      },
      "source": [
        "#변환하기(리스트를 딕셔너리로 변환)\r\n",
        "lol = [['a','b'],['c','d'],['e','f']]\r\n",
        "dict(lol)\r\n"
      ],
      "execution_count": null,
      "outputs": [
        {
          "output_type": "execute_result",
          "data": {
            "text/plain": [
              "{'a': 'b', 'c': 'd', 'e': 'f'}"
            ]
          },
          "metadata": {
            "tags": []
          },
          "execution_count": 13
        }
      ]
    },
    {
      "cell_type": "code",
      "metadata": {
        "colab": {
          "base_uri": "https://localhost:8080/"
        },
        "id": "PGEzoZHhY1Lg",
        "outputId": "8b9eddd6-8d5b-47d6-ff00-536c46e92e5a"
      },
      "source": [
        "lot = [('a','b'),('c','d'),('e','f')]\r\n",
        "dict(lot)\r\n"
      ],
      "execution_count": null,
      "outputs": [
        {
          "output_type": "execute_result",
          "data": {
            "text/plain": [
              "{'a': 'b', 'c': 'd', 'e': 'f'}"
            ]
          },
          "metadata": {
            "tags": []
          },
          "execution_count": 14
        }
      ]
    },
    {
      "cell_type": "code",
      "metadata": {
        "colab": {
          "base_uri": "https://localhost:8080/"
        },
        "id": "qbTb3ZKTZBR6",
        "outputId": "37fcca68-f37c-48a0-b245-dbf116fb9a47"
      },
      "source": [
        "tol = (['a','b'],['c','d'],['e','f'])\r\n",
        "dict(tol)\r\n"
      ],
      "execution_count": null,
      "outputs": [
        {
          "output_type": "execute_result",
          "data": {
            "text/plain": [
              "{'a': 'b', 'c': 'd', 'e': 'f'}"
            ]
          },
          "metadata": {
            "tags": []
          },
          "execution_count": 16
        }
      ]
    },
    {
      "cell_type": "code",
      "metadata": {
        "colab": {
          "base_uri": "https://localhost:8080/"
        },
        "id": "K5-YjB6oZT5A",
        "outputId": "fa7c2a32-c18a-420b-e10e-8d01d55f5dc0"
      },
      "source": [
        "los = ['ab','cd','ef']\r\n",
        "dict(los)\r\n"
      ],
      "execution_count": null,
      "outputs": [
        {
          "output_type": "execute_result",
          "data": {
            "text/plain": [
              "{'a': 'b', 'c': 'd', 'e': 'f'}"
            ]
          },
          "metadata": {
            "tags": []
          },
          "execution_count": 17
        }
      ]
    },
    {
      "cell_type": "code",
      "metadata": {
        "colab": {
          "base_uri": "https://localhost:8080/"
        },
        "id": "qzO_GIhKZcxc",
        "outputId": "a837dfe5-2c87-409c-b19e-464b5da43e3a"
      },
      "source": [
        "tos = ('ab','cd','ef')\r\n",
        "dict(tos)\r\n"
      ],
      "execution_count": null,
      "outputs": [
        {
          "output_type": "execute_result",
          "data": {
            "text/plain": [
              "{'a': 'b', 'c': 'd', 'e': 'f'}"
            ]
          },
          "metadata": {
            "tags": []
          },
          "execution_count": 18
        }
      ]
    },
    {
      "cell_type": "code",
      "metadata": {
        "colab": {
          "base_uri": "https://localhost:8080/"
        },
        "id": "SHEmsersZh4x",
        "outputId": "eba1d597-aea4-4e19-ebd5-9dc4b1666eff"
      },
      "source": [
        "#항목추가/변경[key]\r\n",
        "pythons = {\r\n",
        "      'Chapman':'Graham',\r\n",
        "      'Cleese':'John',\r\n",
        "      'Idle':'Eric',\r\n",
        "      'Jones':'Terry',\r\n",
        "      'Palin':'Michael',\r\n",
        "}\r\n",
        "pythons\r\n"
      ],
      "execution_count": null,
      "outputs": [
        {
          "output_type": "execute_result",
          "data": {
            "text/plain": [
              "{'Chapman': 'Graham',\n",
              " 'Cleese': 'John',\n",
              " 'Idle': 'Eric',\n",
              " 'Jones': 'Terry',\n",
              " 'Palin': 'Michael'}"
            ]
          },
          "metadata": {
            "tags": []
          },
          "execution_count": 20
        }
      ]
    },
    {
      "cell_type": "code",
      "metadata": {
        "colab": {
          "base_uri": "https://localhost:8080/"
        },
        "id": "rjXRjLSjaD8g",
        "outputId": "449a8a03-4658-45d4-89e6-656117c1f660"
      },
      "source": [
        "#추가\r\n",
        "pythons['Gilliam'] =  'Gerry'\r\n",
        "pythons\r\n"
      ],
      "execution_count": null,
      "outputs": [
        {
          "output_type": "execute_result",
          "data": {
            "text/plain": [
              "{'Chapman': 'Graham',\n",
              " 'Cleese': 'John',\n",
              " 'Gilliam': 'Gerry',\n",
              " 'Idle': 'Eric',\n",
              " 'Jones': 'Terry',\n",
              " 'Palin': 'Michael'}"
            ]
          },
          "metadata": {
            "tags": []
          },
          "execution_count": 21
        }
      ]
    },
    {
      "cell_type": "code",
      "metadata": {
        "colab": {
          "base_uri": "https://localhost:8080/"
        },
        "id": "hZEgH80OaVgS",
        "outputId": "9a72a3d2-1fb9-4073-f393-0efaa4cc7b09"
      },
      "source": [
        "#변경\r\n",
        "pythons['Gilliam'] = 'Terry'\r\n",
        "pythons\r\n"
      ],
      "execution_count": null,
      "outputs": [
        {
          "output_type": "execute_result",
          "data": {
            "text/plain": [
              "{'Chapman': 'Graham',\n",
              " 'Cleese': 'John',\n",
              " 'Gilliam': 'Terry',\n",
              " 'Idle': 'Eric',\n",
              " 'Jones': 'Terry',\n",
              " 'Palin': 'Michael'}"
            ]
          },
          "metadata": {
            "tags": []
          },
          "execution_count": 22
        }
      ]
    },
    {
      "cell_type": "code",
      "metadata": {
        "colab": {
          "base_uri": "https://localhost:8080/"
        },
        "id": "0NP9afH8ahuw",
        "outputId": "41c381b9-fb81-49b4-ce66-ac724ae93af7"
      },
      "source": [
        "#딕셔너리의 키들은 반드시 고유해야함\r\n",
        "some_pythons = {\r\n",
        "    'Graham':'Chapman',\r\n",
        "    'John':'Cleese',\r\n",
        "    'Eric':'Idle',\r\n",
        "    'Terry':'Gilliam',\r\n",
        "    'Michael':'Palin',\r\n",
        "    'Terry':'Jones',\r\n",
        "}\r\n",
        "some_pythons\r\n"
      ],
      "execution_count": null,
      "outputs": [
        {
          "output_type": "execute_result",
          "data": {
            "text/plain": [
              "{'Eric': 'Idle',\n",
              " 'Graham': 'Chapman',\n",
              " 'John': 'Cleese',\n",
              " 'Michael': 'Palin',\n",
              " 'Terry': 'Jones'}"
            ]
          },
          "metadata": {
            "tags": []
          },
          "execution_count": 23
        }
      ]
    },
    {
      "cell_type": "code",
      "metadata": {
        "colab": {
          "base_uri": "https://localhost:8080/",
          "height": 35
        },
        "id": "Y_J_4r4qbVWz",
        "outputId": "908e16da-4d44-4efe-99ff-f1c95611e9b6"
      },
      "source": [
        "#항목얻기\r\n",
        "some_pythons['John']\r\n"
      ],
      "execution_count": null,
      "outputs": [
        {
          "output_type": "execute_result",
          "data": {
            "application/vnd.google.colaboratory.intrinsic+json": {
              "type": "string"
            },
            "text/plain": [
              "'Cleese'"
            ]
          },
          "metadata": {
            "tags": []
          },
          "execution_count": 24
        }
      ]
    },
    {
      "cell_type": "code",
      "metadata": {
        "colab": {
          "base_uri": "https://localhost:8080/",
          "height": 172
        },
        "id": "tRMLMKyWbh66",
        "outputId": "270da3b1-9ba6-469d-e0ed-97c833d2d559"
      },
      "source": [
        "#딕셔너리에 키가 없으면 예외 발생\r\n",
        "some_pythons['Groucho']\r\n"
      ],
      "execution_count": null,
      "outputs": [
        {
          "output_type": "error",
          "ename": "KeyError",
          "evalue": "ignored",
          "traceback": [
            "\u001b[0;31m---------------------------------------------------------------------------\u001b[0m",
            "\u001b[0;31mKeyError\u001b[0m                                  Traceback (most recent call last)",
            "\u001b[0;32m<ipython-input-25-1794ac099324>\u001b[0m in \u001b[0;36m<module>\u001b[0;34m()\u001b[0m\n\u001b[0;32m----> 1\u001b[0;31m \u001b[0msome_pythons\u001b[0m\u001b[0;34m[\u001b[0m\u001b[0;34m'Groucho'\u001b[0m\u001b[0;34m]\u001b[0m\u001b[0;34m\u001b[0m\u001b[0;34m\u001b[0m\u001b[0m\n\u001b[0m",
            "\u001b[0;31mKeyError\u001b[0m: 'Groucho'"
          ]
        }
      ]
    },
    {
      "cell_type": "code",
      "metadata": {
        "colab": {
          "base_uri": "https://localhost:8080/",
          "height": 35
        },
        "id": "h8XCeolAbnP7",
        "outputId": "325827ef-5bd9-4695-c258-ade58936e5da"
      },
      "source": [
        "some_pythons.get('John')\r\n"
      ],
      "execution_count": null,
      "outputs": [
        {
          "output_type": "execute_result",
          "data": {
            "application/vnd.google.colaboratory.intrinsic+json": {
              "type": "string"
            },
            "text/plain": [
              "'Cleese'"
            ]
          },
          "metadata": {
            "tags": []
          },
          "execution_count": 26
        }
      ]
    },
    {
      "cell_type": "code",
      "metadata": {
        "colab": {
          "base_uri": "https://localhost:8080/",
          "height": 35
        },
        "id": "TBVwdny0b18r",
        "outputId": "5f6382fa-0822-4e52-8365-5bf504891860"
      },
      "source": [
        "#키가 존재하지 않으면, 옵션값을 지정해서 출력\r\n",
        "some_pythons.get('Groucho','Not a Python')\r\n"
      ],
      "execution_count": null,
      "outputs": [
        {
          "output_type": "execute_result",
          "data": {
            "application/vnd.google.colaboratory.intrinsic+json": {
              "type": "string"
            },
            "text/plain": [
              "'Not a Python'"
            ]
          },
          "metadata": {
            "tags": []
          },
          "execution_count": 27
        }
      ]
    },
    {
      "cell_type": "code",
      "metadata": {
        "id": "hv6vgG1lb_Vz"
      },
      "source": [
        "#옵션값을 지정하지 않으면 None을 얻음\r\n",
        "some_pythons.get('Groucho')\r\n"
      ],
      "execution_count": null,
      "outputs": []
    },
    {
      "cell_type": "code",
      "metadata": {
        "colab": {
          "base_uri": "https://localhost:8080/"
        },
        "id": "CCCziepHcRXB",
        "outputId": "9f7bee06-13a2-409d-ae06-5405574808b1"
      },
      "source": [
        "#모든 키 얻기\r\n",
        "signals = {'green':'go','yellow':'go faster','red':'smile for the camera'}\r\n",
        "signals.keys()\r\n"
      ],
      "execution_count": null,
      "outputs": [
        {
          "output_type": "execute_result",
          "data": {
            "text/plain": [
              "dict_keys(['green', 'yellow', 'red'])"
            ]
          },
          "metadata": {
            "tags": []
          },
          "execution_count": 31
        }
      ]
    },
    {
      "cell_type": "code",
      "metadata": {
        "colab": {
          "base_uri": "https://localhost:8080/"
        },
        "id": "2m-869sOeGjf",
        "outputId": "6c25f25e-d323-4c38-ecf6-09459466bcd7"
      },
      "source": [
        "#딕셔너리를 리스트로 변환\r\n",
        "list(signals.keys())\r\n"
      ],
      "execution_count": null,
      "outputs": [
        {
          "output_type": "execute_result",
          "data": {
            "text/plain": [
              "['green', 'yellow', 'red']"
            ]
          },
          "metadata": {
            "tags": []
          },
          "execution_count": 32
        }
      ]
    },
    {
      "cell_type": "code",
      "metadata": {
        "colab": {
          "base_uri": "https://localhost:8080/"
        },
        "id": "b9xjG5GseRYU",
        "outputId": "4222c9f5-79f8-44b8-93d2-75494e4b9fa4"
      },
      "source": [
        "#모든 값 얻기\r\n",
        "list(signals.values())\r\n"
      ],
      "execution_count": null,
      "outputs": [
        {
          "output_type": "execute_result",
          "data": {
            "text/plain": [
              "['go', 'go faster', 'smile for the camera']"
            ]
          },
          "metadata": {
            "tags": []
          },
          "execution_count": 33
        }
      ]
    },
    {
      "cell_type": "code",
      "metadata": {
        "colab": {
          "base_uri": "https://localhost:8080/"
        },
        "id": "Tszld_o9eY_G",
        "outputId": "3215da2f-ccff-4f27-ac9c-32c64bfb2604"
      },
      "source": [
        "#모든 키-값 얻기(값을 튜플로 반환)\r\n",
        "list(signals.items())\r\n"
      ],
      "execution_count": null,
      "outputs": [
        {
          "output_type": "execute_result",
          "data": {
            "text/plain": [
              "[('green', 'go'), ('yellow', 'go faster'), ('red', 'smile for the camera')]"
            ]
          },
          "metadata": {
            "tags": []
          },
          "execution_count": 35
        }
      ]
    },
    {
      "cell_type": "code",
      "metadata": {
        "colab": {
          "base_uri": "https://localhost:8080/"
        },
        "id": "iTi8cJNfeo5f",
        "outputId": "3374da1d-c132-4920-a7bc-31d56287c0cf"
      },
      "source": [
        "#길이 얻기\r\n",
        "len(signals)\r\n"
      ],
      "execution_count": null,
      "outputs": [
        {
          "output_type": "execute_result",
          "data": {
            "text/plain": [
              "3"
            ]
          },
          "metadata": {
            "tags": []
          },
          "execution_count": 36
        }
      ]
    },
    {
      "cell_type": "code",
      "metadata": {
        "colab": {
          "base_uri": "https://localhost:8080/"
        },
        "id": "XidTlm-pewvi",
        "outputId": "e51736e4-169e-4333-9bfe-7c996786f3b3"
      },
      "source": [
        "#결합하기(**를 사용하면 딕셔너리를 결합 가능)\r\n",
        "first = {'a':'agony','b':'bliss'}\r\n",
        "second = {'b':'bagels','c':'candy'}\r\n",
        "{**first,**second}\r\n"
      ],
      "execution_count": null,
      "outputs": [
        {
          "output_type": "execute_result",
          "data": {
            "text/plain": [
              "{'a': 'agony', 'b': 'bagels', 'c': 'candy'}"
            ]
          },
          "metadata": {
            "tags": []
          },
          "execution_count": 37
        }
      ]
    },
    {
      "cell_type": "code",
      "metadata": {
        "colab": {
          "base_uri": "https://localhost:8080/"
        },
        "id": "uJHR2IwTfTsz",
        "outputId": "a7f79b18-3485-4512-9963-fdebeb6d5488"
      },
      "source": [
        "third = {'d':'donuts'}\r\n",
        "{**first,**third,**second}\r\n"
      ],
      "execution_count": null,
      "outputs": [
        {
          "output_type": "execute_result",
          "data": {
            "text/plain": [
              "{'a': 'agony', 'b': 'bagels', 'c': 'candy', 'd': 'donuts'}"
            ]
          },
          "metadata": {
            "tags": []
          },
          "execution_count": 38
        }
      ]
    },
    {
      "cell_type": "code",
      "metadata": {
        "colab": {
          "base_uri": "https://localhost:8080/"
        },
        "id": "3mVq3sJofiKq",
        "outputId": "d836eb13-a4e6-49e6-f914-5dd42802438e"
      },
      "source": [
        "#결합하기\r\n",
        "pythons = {\r\n",
        "   'Chapman': 'Graham',\r\n",
        "   'Cleese': 'John',\r\n",
        "   'Gilliam': 'Gerry',\r\n",
        "   'Idle': 'Eric',\r\n",
        "   'Jones': 'Terry',\r\n",
        "  'Palin': 'Michael',\r\n",
        " }\r\n",
        " \r\n",
        "pythons\r\n"
      ],
      "execution_count": null,
      "outputs": [
        {
          "output_type": "execute_result",
          "data": {
            "text/plain": [
              "{'Chapman': 'Graham',\n",
              " 'Cleese': 'John',\n",
              " 'Gilliam': 'Gerry',\n",
              " 'Idle': 'Eric',\n",
              " 'Jones': 'Terry',\n",
              " 'Palin': 'Michael'}"
            ]
          },
          "metadata": {
            "tags": []
          },
          "execution_count": 47
        }
      ]
    },
    {
      "cell_type": "code",
      "metadata": {
        "colab": {
          "base_uri": "https://localhost:8080/"
        },
        "id": "e1bwdbvygagy",
        "outputId": "a2d85535-1e1e-4d2f-e243-fb8b67115427"
      },
      "source": [
        "others = {'Marx':'Groucho','Howard':'Moe'}\r\n",
        "pythons.update(others)\r\n",
        "pythons\r\n"
      ],
      "execution_count": null,
      "outputs": [
        {
          "output_type": "execute_result",
          "data": {
            "text/plain": [
              "{'Chapman': 'Graham',\n",
              " 'Cleese': 'John',\n",
              " 'Gilliam': 'Gerry',\n",
              " 'Howard': 'Moe',\n",
              " 'Idle': 'Eric',\n",
              " 'Jones': 'Terry',\n",
              " 'Marx': 'Groucho',\n",
              " 'Palin': 'Michael'}"
            ]
          },
          "metadata": {
            "tags": []
          },
          "execution_count": 48
        }
      ]
    },
    {
      "cell_type": "code",
      "metadata": {
        "colab": {
          "base_uri": "https://localhost:8080/"
        },
        "id": "69GVMx1mgnVA",
        "outputId": "d2c8126e-6714-486a-8c61-ef69e9d1735f"
      },
      "source": [
        "first = {'a':1,'b':2}\r\n",
        "second = {'b':'platypus'}\r\n",
        "first.update(second)\r\n",
        "first\r\n"
      ],
      "execution_count": null,
      "outputs": [
        {
          "output_type": "execute_result",
          "data": {
            "text/plain": [
              "{'a': 1, 'b': 'platypus'}"
            ]
          },
          "metadata": {
            "tags": []
          },
          "execution_count": 49
        }
      ]
    },
    {
      "cell_type": "code",
      "metadata": {
        "colab": {
          "base_uri": "https://localhost:8080/"
        },
        "id": "oj8DW07Ng2GS",
        "outputId": "596db308-20a6-43e1-d143-f1b3bdbc4a01"
      },
      "source": [
        "#키와 del로 항목 삭제\r\n",
        "del pythons['Marx']\r\n",
        "pythons\r\n",
        "del pythons['Howard']\r\n",
        "pythons\r\n"
      ],
      "execution_count": null,
      "outputs": [
        {
          "output_type": "execute_result",
          "data": {
            "text/plain": [
              "{'Chapman': 'Graham',\n",
              " 'Cleese': 'John',\n",
              " 'Gilliam': 'Gerry',\n",
              " 'Idle': 'Eric',\n",
              " 'Jones': 'Terry',\n",
              " 'Palin': 'Michael'}"
            ]
          },
          "metadata": {
            "tags": []
          },
          "execution_count": 54
        }
      ]
    },
    {
      "cell_type": "code",
      "metadata": {
        "colab": {
          "base_uri": "https://localhost:8080/"
        },
        "id": "zl0rbwhJhTmb",
        "outputId": "02893b07-e785-459e-cec1-c3a4044eddc8"
      },
      "source": [
        "#키로 항목 가져온 뒤 삭제\r\n",
        "len(pythons)  #6\r\n",
        "pythons.pop('Palin')\r\n",
        "len(pythons)  #5\r\n"
      ],
      "execution_count": null,
      "outputs": [
        {
          "output_type": "execute_result",
          "data": {
            "text/plain": [
              "5"
            ]
          },
          "metadata": {
            "tags": []
          },
          "execution_count": 58
        }
      ]
    },
    {
      "cell_type": "code",
      "metadata": {
        "colab": {
          "base_uri": "https://localhost:8080/"
        },
        "id": "KKtUUGLPhoFu",
        "outputId": "0969af5a-87f6-496d-beb2-9ed499b1883e"
      },
      "source": [
        "#값이 없으면 옵션값을 출력\r\n",
        "pythons.pop('First','Hugo')\r\n",
        "len(pythons)\r\n"
      ],
      "execution_count": null,
      "outputs": [
        {
          "output_type": "execute_result",
          "data": {
            "text/plain": [
              "5"
            ]
          },
          "metadata": {
            "tags": []
          },
          "execution_count": 60
        }
      ]
    },
    {
      "cell_type": "code",
      "metadata": {
        "colab": {
          "base_uri": "https://localhost:8080/"
        },
        "id": "CkvKs1fqh1am",
        "outputId": "f14b8757-231c-4554-99e5-8b0e203354f4"
      },
      "source": [
        "#모든 항목 삭제\r\n",
        "pythons.clear()\r\n",
        "pythons\r\n"
      ],
      "execution_count": null,
      "outputs": [
        {
          "output_type": "execute_result",
          "data": {
            "text/plain": [
              "{}"
            ]
          },
          "metadata": {
            "tags": []
          },
          "execution_count": 61
        }
      ]
    },
    {
      "cell_type": "code",
      "metadata": {
        "colab": {
          "base_uri": "https://localhost:8080/"
        },
        "id": "mvuZII_Jh8Mf",
        "outputId": "1c3b3e5b-c6ec-4dbe-bed2-95889784728e"
      },
      "source": [
        "#키 맵버십 테스트\r\n",
        "pythons = {\r\n",
        "   'Chapman': 'Graham',\r\n",
        "   'Cleese': 'John',\r\n",
        "   'Idle': 'Eric',\r\n",
        "   'Jones': 'Terry',\r\n",
        "  'Palin': 'Michael',\r\n",
        " }\r\n",
        "\r\n",
        "'Chapman' in pythons\r\n",
        "'Palin' in pythons\r\n",
        "'Gilliam' in pythons\r\n"
      ],
      "execution_count": null,
      "outputs": [
        {
          "output_type": "execute_result",
          "data": {
            "text/plain": [
              "False"
            ]
          },
          "metadata": {
            "tags": []
          },
          "execution_count": 68
        }
      ]
    },
    {
      "cell_type": "code",
      "metadata": {
        "colab": {
          "base_uri": "https://localhost:8080/"
        },
        "id": "YpF6U20QihCG",
        "outputId": "09e863a3-9b6b-4374-cab6-8812ebf7210e"
      },
      "source": [
        "#할당하기\r\n",
        "signals\r\n",
        "save_signals = signals\r\n",
        "signals['blue'] = 'confuse everyone'\r\n",
        "save_signals"
      ],
      "execution_count": null,
      "outputs": [
        {
          "output_type": "execute_result",
          "data": {
            "text/plain": [
              "{'blue': 'confuse everyone',\n",
              " 'green': 'go',\n",
              " 'red': 'smile for the camera',\n",
              " 'yellow': 'go faster'}"
            ]
          },
          "metadata": {
            "tags": []
          },
          "execution_count": 71
        }
      ]
    },
    {
      "cell_type": "code",
      "metadata": {
        "colab": {
          "base_uri": "https://localhost:8080/"
        },
        "id": "z81ysLFQi4rP",
        "outputId": "5ba13f28-a126-4392-e435-9e17de0d2fb7"
      },
      "source": [
        "#얕은 복사(복사한 값이 같이 변경됨)\r\n",
        "signals = {'green':'go','yellow':'go faster','red':'smile for the camera'}\r\n",
        "original_signals = signals.copy()\r\n",
        "signals['blue'] = 'confuse everyone'\r\n",
        "signals\r\n",
        "original_signals\r\n"
      ],
      "execution_count": null,
      "outputs": [
        {
          "output_type": "execute_result",
          "data": {
            "text/plain": [
              "{'green': 'go', 'red': 'smile for the camera', 'yellow': 'go faster'}"
            ]
          },
          "metadata": {
            "tags": []
          },
          "execution_count": 74
        }
      ]
    },
    {
      "cell_type": "code",
      "metadata": {
        "colab": {
          "base_uri": "https://localhost:8080/"
        },
        "id": "TxFWilywjVi0",
        "outputId": "4d7a3f8c-a2d6-42d8-ffac-39b19995671a"
      },
      "source": [
        "#깊은 복사(복사한 값이 같이 변경 되지않음)\r\n",
        "signals = {'green':'go','yellow':'go faster','red':['stop','smile']}\r\n",
        "signals_copy = signals.copy()\r\n",
        "signals\r\n",
        "signals_copy\r\n"
      ],
      "execution_count": null,
      "outputs": [
        {
          "output_type": "execute_result",
          "data": {
            "text/plain": [
              "{'green': 'go', 'red': ['stop', 'smile'], 'yellow': 'go faster'}"
            ]
          },
          "metadata": {
            "tags": []
          },
          "execution_count": 76
        }
      ]
    },
    {
      "cell_type": "code",
      "metadata": {
        "colab": {
          "base_uri": "https://localhost:8080/"
        },
        "id": "iiKhj7RskDcV",
        "outputId": "ae946f7a-d101-4b0c-acae-d553ca652a53"
      },
      "source": [
        "signals['red'][1] = 'sweat'\r\n",
        "signals\r\n",
        "signals_copy\r\n"
      ],
      "execution_count": null,
      "outputs": [
        {
          "output_type": "execute_result",
          "data": {
            "text/plain": [
              "{'green': 'go', 'red': ['stop', 'sweat'], 'yellow': 'go faster'}"
            ]
          },
          "metadata": {
            "tags": []
          },
          "execution_count": 78
        }
      ]
    },
    {
      "cell_type": "code",
      "metadata": {
        "colab": {
          "base_uri": "https://localhost:8080/"
        },
        "id": "N53iTaNOkZdi",
        "outputId": "1fa875dc-650f-4cc8-f95e-9efd03b2f840"
      },
      "source": [
        "import copy\r\n",
        "signals = {'green':'go','yellow':'go faster','red':['stop','smile']}\r\n",
        "signals_copy =  copy.deepcopy(signals)\r\n",
        "signals\r\n",
        "signals_copy\r\n",
        "signals['red'][1] = 'sweat'\r\n",
        "signals\r\n",
        "signals_copy\r\n"
      ],
      "execution_count": null,
      "outputs": [
        {
          "output_type": "execute_result",
          "data": {
            "text/plain": [
              "{'green': 'go', 'red': ['stop', 'smile'], 'yellow': 'go faster'}"
            ]
          },
          "metadata": {
            "tags": []
          },
          "execution_count": 83
        }
      ]
    },
    {
      "cell_type": "code",
      "metadata": {
        "colab": {
          "base_uri": "https://localhost:8080/"
        },
        "id": "GWqvHiSilCkK",
        "outputId": "1d3e271c-069d-4860-efc5-76025f544b06"
      },
      "source": [
        "#딕셔너리 비교(==과 !=를 사용해서 비교 그 외 비교 연산자는 사용 불가)\r\n",
        "a = {1:1,2:2,3:3}\r\n",
        "b = {3:3,2:2,1:1}\r\n",
        "a == b\r\n"
      ],
      "execution_count": null,
      "outputs": [
        {
          "output_type": "execute_result",
          "data": {
            "text/plain": [
              "True"
            ]
          },
          "metadata": {
            "tags": []
          },
          "execution_count": 84
        }
      ]
    },
    {
      "cell_type": "code",
      "metadata": {
        "colab": {
          "base_uri": "https://localhost:8080/",
          "height": 172
        },
        "id": "gzwFX2DelMLW",
        "outputId": "4ba92d20-b721-47ea-db0f-c6c3cc983a6d"
      },
      "source": [
        "a <= b\r\n"
      ],
      "execution_count": null,
      "outputs": [
        {
          "output_type": "error",
          "ename": "TypeError",
          "evalue": "ignored",
          "traceback": [
            "\u001b[0;31m---------------------------------------------------------------------------\u001b[0m",
            "\u001b[0;31mTypeError\u001b[0m                                 Traceback (most recent call last)",
            "\u001b[0;32m<ipython-input-85-869030d7e005>\u001b[0m in \u001b[0;36m<module>\u001b[0;34m()\u001b[0m\n\u001b[0;32m----> 1\u001b[0;31m \u001b[0ma\u001b[0m \u001b[0;34m<=\u001b[0m \u001b[0mb\u001b[0m\u001b[0;34m\u001b[0m\u001b[0;34m\u001b[0m\u001b[0m\n\u001b[0m",
            "\u001b[0;31mTypeError\u001b[0m: '<=' not supported between instances of 'dict' and 'dict'"
          ]
        }
      ]
    },
    {
      "cell_type": "code",
      "metadata": {
        "colab": {
          "base_uri": "https://localhost:8080/"
        },
        "id": "sm1yzjVVlY4V",
        "outputId": "89815701-5b63-4905-ffc7-5d0f3a243454"
      },
      "source": [
        "a = {1:[1,2],2:[1],3:[1]}\r\n",
        "b = {1:[1,1],2:[1],3:[1]}\r\n",
        "a == b\r\n"
      ],
      "execution_count": null,
      "outputs": [
        {
          "output_type": "execute_result",
          "data": {
            "text/plain": [
              "False"
            ]
          },
          "metadata": {
            "tags": []
          },
          "execution_count": 87
        }
      ]
    },
    {
      "cell_type": "code",
      "metadata": {
        "colab": {
          "base_uri": "https://localhost:8080/"
        },
        "id": "HWAAvoJdltyP",
        "outputId": "e66cf903-b6b9-4f81-a362-3787e1746be7"
      },
      "source": [
        "#순회하기\r\n",
        "accusation = {'room' : 'ballroom','weapon':'lead pipe','person':'Col.Mustard'}\r\n",
        "for card in accusation:\r\n",
        "  print(card)\r\n",
        "  "
      ],
      "execution_count": null,
      "outputs": [
        {
          "output_type": "stream",
          "text": [
            "room\n",
            "weapon\n",
            "person\n"
          ],
          "name": "stdout"
        }
      ]
    },
    {
      "cell_type": "code",
      "metadata": {
        "colab": {
          "base_uri": "https://localhost:8080/"
        },
        "id": "4Age7KyvmQwE",
        "outputId": "8836e651-4111-4877-8627-659fa03ad314"
      },
      "source": [
        "#키가 아닌 값을 순호하려면 values()사용\r\n",
        "for value in accusation.values():\r\n",
        "  print(value)\r\n",
        "  "
      ],
      "execution_count": null,
      "outputs": [
        {
          "output_type": "stream",
          "text": [
            "ballroom\n",
            "lead pipe\n",
            "Col.Mustard\n"
          ],
          "name": "stdout"
        }
      ]
    },
    {
      "cell_type": "code",
      "metadata": {
        "colab": {
          "base_uri": "https://localhost:8080/"
        },
        "id": "cd2FmhxumjNy",
        "outputId": "7a1a6c28-fb3b-401a-fd7b-380d6e8faba9"
      },
      "source": [
        "for item in accusation.items():\r\n",
        "  print(item)\r\n",
        "  "
      ],
      "execution_count": null,
      "outputs": [
        {
          "output_type": "stream",
          "text": [
            "('room', 'ballroom')\n",
            "('weapon', 'lead pipe')\n",
            "('person', 'Col.Mustard')\n"
          ],
          "name": "stdout"
        }
      ]
    },
    {
      "cell_type": "code",
      "metadata": {
        "colab": {
          "base_uri": "https://localhost:8080/"
        },
        "id": "v8kM_9C3m0Ah",
        "outputId": "97af6622-cc6a-47b9-81a7-9b38a03c3a01"
      },
      "source": [
        "for card, contents in accusation.items():\r\n",
        "  print('Card',card,'has the contents',contents)\r\n",
        "  "
      ],
      "execution_count": null,
      "outputs": [
        {
          "output_type": "stream",
          "text": [
            "Card room has the contents ballroom\n",
            "Card weapon has the contents lead pipe\n",
            "Card person has the contents Col.Mustard\n"
          ],
          "name": "stdout"
        }
      ]
    },
    {
      "cell_type": "code",
      "metadata": {
        "colab": {
          "base_uri": "https://localhost:8080/"
        },
        "id": "ZYfFVjfDnKYB",
        "outputId": "8bdb49b4-a5db-4b4e-9ae3-32ef424f012f"
      },
      "source": [
        "#딕셔너리 컴프리헨션\r\n",
        "word = 'letters'\r\n",
        "letter_counts = {letter:word.count(letter) for letter in word}\r\n",
        "letter_counts\r\n"
      ],
      "execution_count": null,
      "outputs": [
        {
          "output_type": "execute_result",
          "data": {
            "text/plain": [
              "{'e': 2, 'l': 1, 'r': 1, 's': 1, 't': 2}"
            ]
          },
          "metadata": {
            "tags": []
          },
          "execution_count": 92
        }
      ]
    },
    {
      "cell_type": "code",
      "metadata": {
        "colab": {
          "base_uri": "https://localhost:8080/"
        },
        "id": "h1ADVeXNn2Xz",
        "outputId": "21477f90-093f-4dcf-c3d5-a4a3ef922354"
      },
      "source": [
        "word = 'letters'\r\n",
        "letter_counts = {letter: word.count(letter) for letter in set(word)}\r\n",
        "letter_counts"
      ],
      "execution_count": null,
      "outputs": [
        {
          "output_type": "execute_result",
          "data": {
            "text/plain": [
              "{'e': 2, 'l': 1, 'r': 1, 's': 1, 't': 2}"
            ]
          },
          "metadata": {
            "tags": []
          },
          "execution_count": 94
        }
      ]
    },
    {
      "cell_type": "code",
      "metadata": {
        "colab": {
          "base_uri": "https://localhost:8080/"
        },
        "id": "TDHkED5ToA9f",
        "outputId": "adcb4af9-d95e-410f-8703-1b0c9c3f3577"
      },
      "source": [
        "vowels = 'aeiou'\r\n",
        "word = 'onomatoppoeia'\r\n",
        "vowel_counts = {letter:word.count(letter) for letter in set(word) if letter in vowels}\r\n",
        "vowel_counts\r\n"
      ],
      "execution_count": null,
      "outputs": [
        {
          "output_type": "execute_result",
          "data": {
            "text/plain": [
              "{'a': 2, 'e': 1, 'i': 1, 'o': 4}"
            ]
          },
          "metadata": {
            "tags": []
          },
          "execution_count": 96
        }
      ]
    },
    {
      "cell_type": "code",
      "metadata": {
        "colab": {
          "base_uri": "https://localhost:8080/"
        },
        "id": "gyEdxLOSh0DU",
        "outputId": "b0d56615-9d34-40c3-9894-4a7e92fcbfb1"
      },
      "source": [
        "#set()생성하기\r\n",
        "empty_set = set()\r\n",
        "empty_set\r\n",
        "even_numbers = {0,2,4,6,8}\r\n",
        "even_numbers\r\n",
        "odd_numbers = {1,3,5,7,9}\r\n",
        "odd_numbers\r\n",
        "#셋은 순서와 상관없이 저장\r\n"
      ],
      "execution_count": null,
      "outputs": [
        {
          "output_type": "execute_result",
          "data": {
            "text/plain": [
              "{1, 3, 5, 7, 9}"
            ]
          },
          "metadata": {
            "tags": []
          },
          "execution_count": 3
        }
      ]
    },
    {
      "cell_type": "code",
      "metadata": {
        "colab": {
          "base_uri": "https://localhost:8080/"
        },
        "id": "0BwANnJ2iXz7",
        "outputId": "1e5ce3ac-ce20-440d-82f8-d0b7b610995e"
      },
      "source": [
        "#변환하기\r\n",
        "set('letters')\r\n"
      ],
      "execution_count": null,
      "outputs": [
        {
          "output_type": "execute_result",
          "data": {
            "text/plain": [
              "{'e', 'l', 'r', 's', 't'}"
            ]
          },
          "metadata": {
            "tags": []
          },
          "execution_count": 4
        }
      ]
    },
    {
      "cell_type": "code",
      "metadata": {
        "colab": {
          "base_uri": "https://localhost:8080/"
        },
        "id": "fHEwAzM9ihvq",
        "outputId": "cf9f935d-502c-42cd-b1c5-07577a5b7505"
      },
      "source": [
        "#리스트를 셋으로\r\n",
        "set(['Dasher','Dancer','Prancer','Mason-Dixon'])\r\n"
      ],
      "execution_count": null,
      "outputs": [
        {
          "output_type": "execute_result",
          "data": {
            "text/plain": [
              "{'Dancer', 'Dasher', 'Mason-Dixon', 'Prancer'}"
            ]
          },
          "metadata": {
            "tags": []
          },
          "execution_count": 5
        }
      ]
    },
    {
      "cell_type": "code",
      "metadata": {
        "colab": {
          "base_uri": "https://localhost:8080/"
        },
        "id": "WhP9RuTCirnu",
        "outputId": "aba08853-339d-48bc-c030-43da77bfe07e"
      },
      "source": [
        "#튜플을 셋으로\r\n",
        "set(('Ummagumma','Echoes','Atom Heart Mother'))\r\n"
      ],
      "execution_count": null,
      "outputs": [
        {
          "output_type": "execute_result",
          "data": {
            "text/plain": [
              "{'Atom Heart Mother', 'Echoes', 'Ummagumma'}"
            ]
          },
          "metadata": {
            "tags": []
          },
          "execution_count": 6
        }
      ]
    },
    {
      "cell_type": "code",
      "metadata": {
        "colab": {
          "base_uri": "https://localhost:8080/"
        },
        "id": "yEi6ul1Ai6KK",
        "outputId": "d4f88357-d12f-490b-8c84-44a68e523dc4"
      },
      "source": [
        "#딕셔너리를 셋으로(키만 사용가능)\r\n",
        "set({'apple':'red','orange':'orange','cherry':'red'})\r\n"
      ],
      "execution_count": null,
      "outputs": [
        {
          "output_type": "execute_result",
          "data": {
            "text/plain": [
              "{'apple', 'cherry', 'orange'}"
            ]
          },
          "metadata": {
            "tags": []
          },
          "execution_count": 7
        }
      ]
    },
    {
      "cell_type": "code",
      "metadata": {
        "colab": {
          "base_uri": "https://localhost:8080/"
        },
        "id": "jZTq2j3TjMAg",
        "outputId": "05a55b3e-0143-4f14-8aa9-7f79f0e27a67"
      },
      "source": [
        "#길이\r\n",
        "reindeer = set(['Dasher','Dancer','Prancer','Mason-Dixon'])\r\n",
        "len(reindeer\r\n",
        "    )"
      ],
      "execution_count": null,
      "outputs": [
        {
          "output_type": "execute_result",
          "data": {
            "text/plain": [
              "4"
            ]
          },
          "metadata": {
            "tags": []
          },
          "execution_count": 8
        }
      ]
    },
    {
      "cell_type": "code",
      "metadata": {
        "colab": {
          "base_uri": "https://localhost:8080/"
        },
        "id": "wDe5J3XhjXnu",
        "outputId": "988462d1-1be6-43db-f473-49911bae9390"
      },
      "source": [
        "#항목 추가하기\r\n",
        "s = set((1,2,3))\r\n",
        "s\r\n",
        "s.add(4)\r\n",
        "s\r\n"
      ],
      "execution_count": null,
      "outputs": [
        {
          "output_type": "execute_result",
          "data": {
            "text/plain": [
              "{1, 2, 3, 4}"
            ]
          },
          "metadata": {
            "tags": []
          },
          "execution_count": 10
        }
      ]
    },
    {
      "cell_type": "code",
      "metadata": {
        "colab": {
          "base_uri": "https://localhost:8080/"
        },
        "id": "s-oV7VkYjqCN",
        "outputId": "851fb821-cfdb-4c54-ce51-eb43f774163e"
      },
      "source": [
        "#항목 삭제하기\r\n",
        "s = set((1,2,3))\r\n",
        "s.remove(3)\r\n",
        "s\r\n"
      ],
      "execution_count": null,
      "outputs": [
        {
          "output_type": "execute_result",
          "data": {
            "text/plain": [
              "{1, 2}"
            ]
          },
          "metadata": {
            "tags": []
          },
          "execution_count": 11
        }
      ]
    },
    {
      "cell_type": "code",
      "metadata": {
        "colab": {
          "base_uri": "https://localhost:8080/"
        },
        "id": "AdRlmoTTjw6n",
        "outputId": "599f123a-38af-45dd-c56b-ff1531cf7ac1"
      },
      "source": [
        "#순회하기\r\n",
        "furniture = set(('sofa','ottoman','table'))\r\n",
        "for piece in furniture:\r\n",
        "  print(piece)\r\n",
        "  "
      ],
      "execution_count": null,
      "outputs": [
        {
          "output_type": "stream",
          "text": [
            "ottoman\n",
            "table\n",
            "sofa\n"
          ],
          "name": "stdout"
        }
      ]
    },
    {
      "cell_type": "code",
      "metadata": {
        "id": "Qsop38g7kDVu"
      },
      "source": [
        "#멤버십 테스트\r\n",
        "drinks = {\r\n",
        "    'martini':{'vodka','vermouth'},\r\n",
        "    'black russian':{'vodka','kahlua'},\r\n",
        "    'white russian':{'cream','kahlua','vodka'},\r\n",
        "    'manhattan':{'rye','vermouth','bitters'},\r\n",
        "    'screwdriver':{'orange juice','vodka'}\r\n",
        "}\r\n"
      ],
      "execution_count": null,
      "outputs": []
    },
    {
      "cell_type": "code",
      "metadata": {
        "colab": {
          "base_uri": "https://localhost:8080/"
        },
        "id": "dWzu8lPyk06y",
        "outputId": "6c30ebde-32ff-4fb1-c82f-5391d549e354"
      },
      "source": [
        "for name,contents in drinks.items():\r\n",
        "  if 'vodka' in contents:\r\n",
        "    print(name)"
      ],
      "execution_count": null,
      "outputs": [
        {
          "output_type": "stream",
          "text": [
            "martini\n",
            "black russian\n",
            "white russian\n",
            "screwdriver\n"
          ],
          "name": "stdout"
        }
      ]
    },
    {
      "cell_type": "code",
      "metadata": {
        "colab": {
          "base_uri": "https://localhost:8080/"
        },
        "id": "jRJv51I0lRjk",
        "outputId": "6f1b8fa7-c570-4e03-d668-6ac6c6999f01"
      },
      "source": [
        "for name, contents in drinks.items():\r\n",
        "  if 'vodka' in contents and not ('vermouth' in contents or\r\n",
        "      'cream' in contents):\r\n",
        "    print(name)"
      ],
      "execution_count": null,
      "outputs": [
        {
          "output_type": "stream",
          "text": [
            "black russian\n",
            "screwdriver\n"
          ],
          "name": "stdout"
        }
      ]
    },
    {
      "cell_type": "code",
      "metadata": {
        "id": "G5MtQ2B_lyR5"
      },
      "source": [
        "#콤비네이션과 연산자\r\n",
        "for name,contents in drinks.items():\r\n",
        "  if contents & {'vermouth','orange juice'}:\r\n",
        "    print(name)"
      ],
      "execution_count": null,
      "outputs": []
    },
    {
      "cell_type": "code",
      "metadata": {
        "colab": {
          "base_uri": "https://localhost:8080/"
        },
        "id": "ktW-ZG8tmitn",
        "outputId": "5c7a90cb-6ba7-45a1-8e01-c8747a6d0d53"
      },
      "source": [
        "#다른 방식\r\n",
        "for name,contents in drinks.items():\r\n",
        "  if 'orange juice' in contents or 'vermouth' in contents:\r\n",
        "    print(name)"
      ],
      "execution_count": null,
      "outputs": [
        {
          "output_type": "stream",
          "text": [
            "martini\n",
            "manhattan\n",
            "screwdriver\n"
          ],
          "name": "stdout"
        }
      ]
    },
    {
      "cell_type": "code",
      "metadata": {
        "colab": {
          "base_uri": "https://localhost:8080/"
        },
        "id": "3Cut8dvnm4to",
        "outputId": "25233505-a61b-4193-edda-8184bf980f78"
      },
      "source": [
        "for name,contents in drinks.items():\r\n",
        "  if 'vodka' in contents and not contents & {'vermouth','cream'}:\r\n",
        "    print(name)\r\n",
        "    "
      ],
      "execution_count": null,
      "outputs": [
        {
          "output_type": "stream",
          "text": [
            "black russian\n",
            "screwdriver\n"
          ],
          "name": "stdout"
        }
      ]
    },
    {
      "cell_type": "code",
      "metadata": {
        "id": "lSlcnF1RnQUF"
      },
      "source": [
        "bruss = drinks['black russian']\r\n",
        "wruss = drinks['white russian']\r\n"
      ],
      "execution_count": null,
      "outputs": []
    },
    {
      "cell_type": "code",
      "metadata": {
        "colab": {
          "base_uri": "https://localhost:8080/"
        },
        "id": "g-d8YlXcnhuH",
        "outputId": "17907c0d-a209-4290-e55f-8c7f65d1eb63"
      },
      "source": [
        "a = {1,2}\r\n",
        "b = {2,3}\r\n",
        "#교집합\r\n",
        "a & b\r\n",
        "a.intersection(b)"
      ],
      "execution_count": null,
      "outputs": [
        {
          "output_type": "execute_result",
          "data": {
            "text/plain": [
              "{2}"
            ]
          },
          "metadata": {
            "tags": []
          },
          "execution_count": 36
        }
      ]
    },
    {
      "cell_type": "code",
      "metadata": {
        "colab": {
          "base_uri": "https://localhost:8080/"
        },
        "id": "b83N8CtInmFi",
        "outputId": "a3c00070-f5df-4d36-83fc-79bfa3c73902"
      },
      "source": [
        "bruss & wruss\r\n"
      ],
      "execution_count": null,
      "outputs": [
        {
          "output_type": "execute_result",
          "data": {
            "text/plain": [
              "{'kahlua', 'vodka'}"
            ]
          },
          "metadata": {
            "tags": []
          },
          "execution_count": 40
        }
      ]
    },
    {
      "cell_type": "code",
      "metadata": {
        "colab": {
          "base_uri": "https://localhost:8080/"
        },
        "id": "202rEQmIoDxv",
        "outputId": "7e7d13a9-2f20-4601-f029-54713e5f0dac"
      },
      "source": [
        "#합집합\r\n",
        "a | b\r\n",
        "a.union(b)\r\n"
      ],
      "execution_count": null,
      "outputs": [
        {
          "output_type": "execute_result",
          "data": {
            "text/plain": [
              "{1, 2, 3}"
            ]
          },
          "metadata": {
            "tags": []
          },
          "execution_count": 42
        }
      ]
    },
    {
      "cell_type": "code",
      "metadata": {
        "colab": {
          "base_uri": "https://localhost:8080/"
        },
        "id": "zKsbGBLRoKUZ",
        "outputId": "697c3021-297f-4d76-892d-99d02944f54c"
      },
      "source": [
        "bruss | wruss"
      ],
      "execution_count": null,
      "outputs": [
        {
          "output_type": "execute_result",
          "data": {
            "text/plain": [
              "{'cream', 'kahlua', 'vodka'}"
            ]
          },
          "metadata": {
            "tags": []
          },
          "execution_count": 43
        }
      ]
    },
    {
      "cell_type": "code",
      "metadata": {
        "colab": {
          "base_uri": "https://localhost:8080/"
        },
        "id": "5k-qGzGfoNai",
        "outputId": "c0b07acf-d64b-4fa4-cd8b-fda8fc340365"
      },
      "source": [
        "#차집합\r\n",
        "a - b\r\n",
        "a.difference(b)\r\n"
      ],
      "execution_count": null,
      "outputs": [
        {
          "output_type": "execute_result",
          "data": {
            "text/plain": [
              "{1}"
            ]
          },
          "metadata": {
            "tags": []
          },
          "execution_count": 45
        }
      ]
    },
    {
      "cell_type": "code",
      "metadata": {
        "colab": {
          "base_uri": "https://localhost:8080/"
        },
        "id": "fznvGBkZoVBU",
        "outputId": "173067d3-ec6e-49d6-e46d-12a7e7879ae8"
      },
      "source": [
        "bruss - wruss\r\n",
        "wruss - bruss\r\n"
      ],
      "execution_count": null,
      "outputs": [
        {
          "output_type": "execute_result",
          "data": {
            "text/plain": [
              "{'cream'}"
            ]
          },
          "metadata": {
            "tags": []
          },
          "execution_count": 47
        }
      ]
    },
    {
      "cell_type": "code",
      "metadata": {
        "colab": {
          "base_uri": "https://localhost:8080/"
        },
        "id": "MqTZ0wvWoclu",
        "outputId": "47f14826-dfb7-4f12-bfb9-9b99b9a1037b"
      },
      "source": [
        "#대칭 차집합\r\n",
        "a ^ b\r\n",
        "a.symmetric_difference(b)\r\n"
      ],
      "execution_count": null,
      "outputs": [
        {
          "output_type": "execute_result",
          "data": {
            "text/plain": [
              "{1, 3}"
            ]
          },
          "metadata": {
            "tags": []
          },
          "execution_count": 49
        }
      ]
    },
    {
      "cell_type": "code",
      "metadata": {
        "colab": {
          "base_uri": "https://localhost:8080/"
        },
        "id": "VUYvRVQIopWZ",
        "outputId": "a1adf897-f232-4358-a3cb-3517493d4e37"
      },
      "source": [
        "bruss^wruss\r\n"
      ],
      "execution_count": null,
      "outputs": [
        {
          "output_type": "execute_result",
          "data": {
            "text/plain": [
              "{'cream'}"
            ]
          },
          "metadata": {
            "tags": []
          },
          "execution_count": 50
        }
      ]
    },
    {
      "cell_type": "code",
      "metadata": {
        "colab": {
          "base_uri": "https://localhost:8080/"
        },
        "id": "sTjWM3fPo1oJ",
        "outputId": "a039855a-c792-453e-c374-940d8061b5d4"
      },
      "source": [
        "#부분집합\r\n",
        "a <= b\r\n",
        "a.issubset(b)\r\n"
      ],
      "execution_count": null,
      "outputs": [
        {
          "output_type": "execute_result",
          "data": {
            "text/plain": [
              "False"
            ]
          },
          "metadata": {
            "tags": []
          },
          "execution_count": 53
        }
      ]
    },
    {
      "cell_type": "code",
      "metadata": {
        "colab": {
          "base_uri": "https://localhost:8080/"
        },
        "id": "5m5XaUado7_5",
        "outputId": "249ca813-5ca6-4b3a-b85f-cd7123868a2f"
      },
      "source": [
        "bruss <= wruss\r\n"
      ],
      "execution_count": null,
      "outputs": [
        {
          "output_type": "execute_result",
          "data": {
            "text/plain": [
              "True"
            ]
          },
          "metadata": {
            "tags": []
          },
          "execution_count": 54
        }
      ]
    },
    {
      "cell_type": "code",
      "metadata": {
        "colab": {
          "base_uri": "https://localhost:8080/"
        },
        "id": "uUtlpr66pH4b",
        "outputId": "17065323-c5ee-4bc2-f9e6-0d6f43b14819"
      },
      "source": [
        "#모든 셋은 자신의 부분집합\r\n",
        "a <= a\r\n",
        "a.issubset(a)\r\n"
      ],
      "execution_count": null,
      "outputs": [
        {
          "output_type": "execute_result",
          "data": {
            "text/plain": [
              "True"
            ]
          },
          "metadata": {
            "tags": []
          },
          "execution_count": 55
        }
      ]
    },
    {
      "cell_type": "code",
      "metadata": {
        "colab": {
          "base_uri": "https://localhost:8080/"
        },
        "id": "d0oa2mDQpQwS",
        "outputId": "c1319320-3c92-460a-a787-05cbb22d0c99"
      },
      "source": [
        "#진부분잡합(두번째 셋이 첫번째 셋의 모든 멤버를 포함하고 그 이상의 멤버가 있어야함)\r\n",
        "a<b\r\n",
        "a<a\r\n",
        "bruss<wruss"
      ],
      "execution_count": null,
      "outputs": [
        {
          "output_type": "execute_result",
          "data": {
            "text/plain": [
              "True"
            ]
          },
          "metadata": {
            "tags": []
          },
          "execution_count": 58
        }
      ]
    },
    {
      "cell_type": "code",
      "metadata": {
        "colab": {
          "base_uri": "https://localhost:8080/"
        },
        "id": "5ef0D-9EpjK2",
        "outputId": "dec02138-1376-4c4e-8c45-0330f752bf2f"
      },
      "source": [
        "#상위집합\r\n",
        "a >= b\r\n",
        "a.issuperset(b)\r\n",
        "wruss >= bruss"
      ],
      "execution_count": null,
      "outputs": [
        {
          "output_type": "execute_result",
          "data": {
            "text/plain": [
              "True"
            ]
          },
          "metadata": {
            "tags": []
          },
          "execution_count": 61
        }
      ]
    },
    {
      "cell_type": "code",
      "metadata": {
        "colab": {
          "base_uri": "https://localhost:8080/"
        },
        "id": "YS5OsR2Lp_8K",
        "outputId": "588ead89-0d71-4fbf-b1b6-302ae3e56ddd"
      },
      "source": [
        "a >= a\r\n",
        "a.issuperset(a)\r\n"
      ],
      "execution_count": null,
      "outputs": [
        {
          "output_type": "execute_result",
          "data": {
            "text/plain": [
              "True"
            ]
          },
          "metadata": {
            "tags": []
          },
          "execution_count": 62
        }
      ]
    },
    {
      "cell_type": "code",
      "metadata": {
        "colab": {
          "base_uri": "https://localhost:8080/"
        },
        "id": "faEngM3eqKKK",
        "outputId": "877db2a5-041a-4092-f5c0-2bea5bf8105c"
      },
      "source": [
        "a > b\r\n",
        "wruss > bruss"
      ],
      "execution_count": null,
      "outputs": [
        {
          "output_type": "execute_result",
          "data": {
            "text/plain": [
              "True"
            ]
          },
          "metadata": {
            "tags": []
          },
          "execution_count": 63
        }
      ]
    },
    {
      "cell_type": "code",
      "metadata": {
        "colab": {
          "base_uri": "https://localhost:8080/"
        },
        "id": "dL_7i7HUqWeR",
        "outputId": "2e1bc2fa-483b-415c-df36-5db26600fd04"
      },
      "source": [
        "a > a"
      ],
      "execution_count": null,
      "outputs": [
        {
          "output_type": "execute_result",
          "data": {
            "text/plain": [
              "False"
            ]
          },
          "metadata": {
            "tags": []
          },
          "execution_count": 64
        }
      ]
    },
    {
      "cell_type": "code",
      "metadata": {
        "colab": {
          "base_uri": "https://localhost:8080/"
        },
        "id": "30Up16BWqYZR",
        "outputId": "b03ed373-860a-41fc-8bd3-f949d2c57457"
      },
      "source": [
        "#셋 컴프리헨션\r\n",
        "a_set = {number for number in range(1,6) if number % 3 == 1}\r\n",
        "a_set"
      ],
      "execution_count": null,
      "outputs": [
        {
          "output_type": "execute_result",
          "data": {
            "text/plain": [
              "{1, 4}"
            ]
          },
          "metadata": {
            "tags": []
          },
          "execution_count": 66
        }
      ]
    },
    {
      "cell_type": "code",
      "metadata": {
        "colab": {
          "base_uri": "https://localhost:8080/"
        },
        "id": "0lO9iRXjq1fh",
        "outputId": "06e005e5-b841-498b-9798-5b2337d88ab6"
      },
      "source": [
        "#불변 셋 생성\r\n",
        "frozenset([3,2,1])\r\n",
        "frozenset(set([2,1,3]))\r\n",
        "frozenset({3,1,2})\r\n",
        "frozenset((2,3,1))\r\n"
      ],
      "execution_count": null,
      "outputs": [
        {
          "output_type": "execute_result",
          "data": {
            "text/plain": [
              "frozenset({1, 2, 3})"
            ]
          },
          "metadata": {
            "tags": []
          },
          "execution_count": 71
        }
      ]
    },
    {
      "cell_type": "code",
      "metadata": {
        "colab": {
          "base_uri": "https://localhost:8080/",
          "height": 226
        },
        "id": "cxBoMh5qrK4U",
        "outputId": "4299d42c-2870-4adb-90f6-b821266c1805"
      },
      "source": [
        "fs = frozenset([3,2,1])\r\n",
        "fs\r\n",
        "fs.add(4)"
      ],
      "execution_count": null,
      "outputs": [
        {
          "output_type": "error",
          "ename": "AttributeError",
          "evalue": "ignored",
          "traceback": [
            "\u001b[0;31m---------------------------------------------------------------------------\u001b[0m",
            "\u001b[0;31mAttributeError\u001b[0m                            Traceback (most recent call last)",
            "\u001b[0;32m<ipython-input-74-2b6ead0cbc2f>\u001b[0m in \u001b[0;36m<module>\u001b[0;34m()\u001b[0m\n\u001b[1;32m      1\u001b[0m \u001b[0mfs\u001b[0m \u001b[0;34m=\u001b[0m \u001b[0mfrozenset\u001b[0m\u001b[0;34m(\u001b[0m\u001b[0;34m[\u001b[0m\u001b[0;36m3\u001b[0m\u001b[0;34m,\u001b[0m\u001b[0;36m2\u001b[0m\u001b[0;34m,\u001b[0m\u001b[0;36m1\u001b[0m\u001b[0;34m]\u001b[0m\u001b[0;34m)\u001b[0m\u001b[0;34m\u001b[0m\u001b[0;34m\u001b[0m\u001b[0m\n\u001b[1;32m      2\u001b[0m \u001b[0mfs\u001b[0m\u001b[0;34m\u001b[0m\u001b[0;34m\u001b[0m\u001b[0m\n\u001b[0;32m----> 3\u001b[0;31m \u001b[0mfs\u001b[0m\u001b[0;34m.\u001b[0m\u001b[0madd\u001b[0m\u001b[0;34m(\u001b[0m\u001b[0;36m4\u001b[0m\u001b[0;34m)\u001b[0m\u001b[0;34m\u001b[0m\u001b[0;34m\u001b[0m\u001b[0m\n\u001b[0m\u001b[1;32m      4\u001b[0m \u001b[0mfs\u001b[0m\u001b[0;34m\u001b[0m\u001b[0;34m\u001b[0m\u001b[0m\n",
            "\u001b[0;31mAttributeError\u001b[0m: 'frozenset' object has no attribute 'add'"
          ]
        }
      ]
    },
    {
      "cell_type": "code",
      "metadata": {
        "id": "OnWzrUxErTzd",
        "colab": {
          "base_uri": "https://localhost:8080/"
        },
        "outputId": "59b2a223-b47e-492a-e6fd-befd7bf3c364"
      },
      "source": [
        "marx_list = ['Groucho','Chico','Harpo']\r\n",
        "marx_tuple = ('Groucho','Chico','Harpo')\r\n",
        "marx_dict = {'Groucho':'banjo','Chico':'piano','Harpo':'harp'}\r\n",
        "marx_set = {'Groucho','Chico','Harpo'}\r\n",
        "marx_list[2]\r\n",
        "marx_tuple[2]\r\n",
        "marx_dict['Harpo']\r\n",
        "'Harpo' in marx_list\r\n",
        "'Harpo' in marx_tuple\r\n",
        "'Harpo' in marx_dict\r\n",
        "'Harpo' in marx_set\r\n"
      ],
      "execution_count": 17,
      "outputs": [
        {
          "output_type": "execute_result",
          "data": {
            "text/plain": [
              "True"
            ]
          },
          "metadata": {
            "tags": []
          },
          "execution_count": 17
        }
      ]
    },
    {
      "cell_type": "code",
      "metadata": {
        "colab": {
          "base_uri": "https://localhost:8080/"
        },
        "id": "jsmllNUA0x9V",
        "outputId": "8a9ea4ea-64b7-4da2-da97-acf5ba97e32c"
      },
      "source": [
        "marxes = ['Groucho','Chico','Harpo']\r\n",
        "pythons = ['Chapman','Cleese','Gilliam','Jones','Palin']\r\n",
        "stooges = ['Moe','Curly','Larry']\r\n",
        "\r\n",
        "\r\n"
      ],
      "execution_count": 20,
      "outputs": [
        {
          "output_type": "execute_result",
          "data": {
            "text/plain": [
              "(['Groucho', 'Chico', 'Harpo'],\n",
              " ['Chapman', 'Cleese', 'Gilliam', 'Jones', 'Palin'],\n",
              " ['Moe', 'Curly', 'Larry'])"
            ]
          },
          "metadata": {
            "tags": []
          },
          "execution_count": 20
        }
      ]
    },
    {
      "cell_type": "code",
      "metadata": {
        "colab": {
          "base_uri": "https://localhost:8080/"
        },
        "id": "Uo0exPlt1F4j",
        "outputId": "eaec7701-bc25-477b-a10b-9a237bec3e9d"
      },
      "source": [
        "tuple_of_lists = marxes, pythons, stooges\r\n",
        "tuple_of_lists\r\n"
      ],
      "execution_count": 21,
      "outputs": [
        {
          "output_type": "execute_result",
          "data": {
            "text/plain": [
              "(['Groucho', 'Chico', 'Harpo'],\n",
              " ['Chapman', 'Cleese', 'Gilliam', 'Jones', 'Palin'],\n",
              " ['Moe', 'Curly', 'Larry'])"
            ]
          },
          "metadata": {
            "tags": []
          },
          "execution_count": 21
        }
      ]
    },
    {
      "cell_type": "code",
      "metadata": {
        "colab": {
          "base_uri": "https://localhost:8080/"
        },
        "id": "l6qjoHLU1mMT",
        "outputId": "38c9145c-16fd-455b-bc1a-c30d66fea36c"
      },
      "source": [
        "tuple_of_lists = [marxes, pythons, stooges]\r\n",
        "tuple_of_lists\r\n"
      ],
      "execution_count": 22,
      "outputs": [
        {
          "output_type": "execute_result",
          "data": {
            "text/plain": [
              "[['Groucho', 'Chico', 'Harpo'],\n",
              " ['Chapman', 'Cleese', 'Gilliam', 'Jones', 'Palin'],\n",
              " ['Moe', 'Curly', 'Larry']]"
            ]
          },
          "metadata": {
            "tags": []
          },
          "execution_count": 22
        }
      ]
    },
    {
      "cell_type": "code",
      "metadata": {
        "colab": {
          "base_uri": "https://localhost:8080/"
        },
        "id": "M4MfUAvV1uPV",
        "outputId": "2fd8dcba-cdc1-4f7d-cccc-82faca00bc8e"
      },
      "source": [
        "dict_of_lists = {'Marxes':marxes,'Pythons':pythons,'Stooges':stooges}\r\n",
        "dict_of_lists\r\n"
      ],
      "execution_count": 23,
      "outputs": [
        {
          "output_type": "execute_result",
          "data": {
            "text/plain": [
              "{'Marxes': ['Groucho', 'Chico', 'Harpo'],\n",
              " 'Pythons': ['Chapman', 'Cleese', 'Gilliam', 'Jones', 'Palin'],\n",
              " 'Stooges': ['Moe', 'Curly', 'Larry']}"
            ]
          },
          "metadata": {
            "tags": []
          },
          "execution_count": 23
        }
      ]
    }
  ]
}